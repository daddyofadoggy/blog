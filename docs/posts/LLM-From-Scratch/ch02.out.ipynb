{
  "cells": [
    {
      "cell_type": "markdown",
      "metadata": {},
      "source": [
        "# Chapter 2: Working with Text Data\n",
        "\n",
        "Packages that are being used in this notebook:"
      ],
      "id": "d441797c-a5d7-4e66-bcad-daadedbd1dbf"
    },
    {
      "cell_type": "code",
      "execution_count": 1,
      "metadata": {},
      "outputs": [
        {
          "output_type": "stream",
          "name": "stdout",
          "text": [
            "torch version: 2.5.1\n",
            "tiktoken version: 0.7.0"
          ]
        }
      ],
      "source": [
        "from importlib.metadata import version\n",
        "\n",
        "print(\"torch version:\", version(\"torch\"))\n",
        "print(\"tiktoken version:\", version(\"tiktoken\"))"
      ],
      "id": "4d1305cf-12d5-46fe-a2c9-36fb71c5b3d3"
    },
    {
      "cell_type": "markdown",
      "metadata": {},
      "source": [
        "-   This chapter covers data preparation and sampling to get input data\n",
        "    “ready” for the LLM\n",
        "\n",
        "<img src=\"https://sebastianraschka.com/images/LLMs-from-scratch-images/ch02_compressed/01.webp?timestamp=1\" width=\"500px\">\n",
        "\n",
        "## 2.1 Understanding word embeddings\n",
        "\n",
        "-   No code in this section\n",
        "\n",
        "-   There are many forms of embeddings; we focus on text embeddings in\n",
        "    this book\n",
        "\n",
        "<img src=\"https://sebastianraschka.com/images/LLMs-from-scratch-images/ch02_compressed/02.webp\" width=\"500px\">\n",
        "\n",
        "-   LLMs work with embeddings in high-dimensional spaces (i.e.,\n",
        "    thousands of dimensions)\n",
        "-   Since we can’t visualize such high-dimensional spaces (we humans\n",
        "    think in 1, 2, or 3 dimensions), the figure below illustrates a\n",
        "    2-dimensional embedding space\n",
        "\n",
        "<img src=\"https://sebastianraschka.com/images/LLMs-from-scratch-images/ch02_compressed/03.webp\" width=\"300px\">\n",
        "\n",
        "## 2.2 Tokenizing text\n",
        "\n",
        "-   In this section, we tokenize text, which means breaking text into\n",
        "    smaller units, such as individual words and punctuation characters\n",
        "\n",
        "<img src=\"https://sebastianraschka.com/images/LLMs-from-scratch-images/ch02_compressed/04.webp\" width=\"300px\">\n",
        "\n",
        "-   Load raw text we want to work with\n",
        "-   [The Verdict by Edith\n",
        "    Wharton](https://en.wikisource.org/wiki/The_Verdict) is a public\n",
        "    domain short story"
      ],
      "id": "e4968194-8b78-4a4b-ac1b-fb1766221e53"
    },
    {
      "cell_type": "code",
      "execution_count": 2,
      "metadata": {},
      "outputs": [],
      "source": [
        "import os\n",
        "import urllib.request\n",
        "\n",
        "if not os.path.exists(\"the-verdict.txt\"):\n",
        "    url = (\"https://raw.githubusercontent.com/rasbt/\"\n",
        "           \"LLMs-from-scratch/main/ch02/01_main-chapter-code/\"\n",
        "           \"the-verdict.txt\")\n",
        "    file_path = \"the-verdict.txt\"\n",
        "    urllib.request.urlretrieve(url, file_path)"
      ],
      "id": "40f9d9b1-6d32-485a-825a-a95392a86d79"
    },
    {
      "cell_type": "markdown",
      "metadata": {},
      "source": [
        "-   (If you encounter an `ssl.SSLCertVerificationError` when executing\n",
        "    the previous code cell, it might be due to using an outdated Python\n",
        "    version; you can find [more information here on\n",
        "    GitHub](https://github.com/rasbt/LLMs-from-scratch/pull/403))"
      ],
      "id": "d712c554-c40d-48c3-8bb8-6502f5e27414"
    },
    {
      "cell_type": "code",
      "execution_count": 3,
      "metadata": {},
      "outputs": [
        {
          "output_type": "stream",
          "name": "stdout",
          "text": [
            "Total number of character: 20479\n",
            "I HAD always thought Jack Gisburn rather a cheap genius--though a good fellow enough--so it was no "
          ]
        }
      ],
      "source": [
        "with open(\"the-verdict.txt\", \"r\", encoding=\"utf-8\") as f:\n",
        "    raw_text = f.read()\n",
        "    \n",
        "print(\"Total number of character:\", len(raw_text))\n",
        "print(raw_text[:99])"
      ],
      "id": "8a769e87-470a-48b9-8bdb-12841b416198"
    },
    {
      "cell_type": "markdown",
      "metadata": {},
      "source": [
        "-   The goal is to tokenize and embed this text for an LLM\n",
        "-   Let’s develop a simple tokenizer based on some simple sample text\n",
        "    that we can then later apply to the text above\n",
        "-   The following regular expression will split on whitespaces"
      ],
      "id": "0895c87c-962e-466f-a3ab-e9f0ab6b946b"
    },
    {
      "cell_type": "code",
      "execution_count": 4,
      "metadata": {},
      "outputs": [
        {
          "output_type": "stream",
          "name": "stdout",
          "text": [
            "['Hello,', ' ', 'world.', ' ', 'This,', ' ', 'is', ' ', 'a', ' ', 'test.']"
          ]
        }
      ],
      "source": [
        "import re\n",
        "\n",
        "text = \"Hello, world. This, is a test.\"\n",
        "result = re.split(r'(\\s)', text)\n",
        "\n",
        "print(result)"
      ],
      "id": "737dd5b0-9dbb-4a97-9ae4-3482c8c04be7"
    },
    {
      "cell_type": "markdown",
      "metadata": {},
      "source": [
        "-   We don’t only want to split on whitespaces but also commas and\n",
        "    periods, so let’s modify the regular expression to do that as well"
      ],
      "id": "a434d604-1f64-4866-b296-17393ddf17dc"
    },
    {
      "cell_type": "code",
      "execution_count": 5,
      "metadata": {},
      "outputs": [
        {
          "output_type": "stream",
          "name": "stdout",
          "text": [
            "['Hello', ',', '', ' ', 'world', '.', '', ' ', 'This', ',', '', ' ', 'is', ' ', 'a', ' ', 'test', '.', '']"
          ]
        }
      ],
      "source": [
        "result = re.split(r'([,.]|\\s)', text)\n",
        "\n",
        "print(result)"
      ],
      "id": "ea02489d-01f9-4247-b7dd-a0d63f62ef07"
    },
    {
      "cell_type": "markdown",
      "metadata": {},
      "source": [
        "-   As we can see, this creates empty strings, let’s remove them"
      ],
      "id": "a243fc40-06cd-48ba-a4a5-07cb26da8895"
    },
    {
      "cell_type": "code",
      "execution_count": 6,
      "metadata": {},
      "outputs": [
        {
          "output_type": "stream",
          "name": "stdout",
          "text": [
            "['Hello', ',', 'world', '.', 'This', ',', 'is', 'a', 'test', '.']"
          ]
        }
      ],
      "source": [
        "# Strip whitespace from each item and then filter out any empty strings.\n",
        "result = [item for item in result if item.strip()]\n",
        "print(result)"
      ],
      "id": "4d8a6fb7-2e62-4a12-ad06-ccb04f25fed7"
    },
    {
      "cell_type": "markdown",
      "metadata": {},
      "source": [
        "-   This looks pretty good, but let’s also handle other types of\n",
        "    punctuation, such as periods, question marks, and so on"
      ],
      "id": "f6cb12ba-2c7f-437c-a415-6bf564fe4a59"
    },
    {
      "cell_type": "code",
      "execution_count": 7,
      "metadata": {},
      "outputs": [
        {
          "output_type": "stream",
          "name": "stdout",
          "text": [
            "['Hello', ',', 'world', '.', 'Is', 'this', '--', 'a', 'test', '?']"
          ]
        }
      ],
      "source": [
        "text = \"Hello, world. Is this-- a test?\"\n",
        "\n",
        "result = re.split(r'([,.:;?_!\"()\\']|--|\\s)', text)\n",
        "result = [item.strip() for item in result if item.strip()]\n",
        "print(result)"
      ],
      "id": "ed3a9467-04b4-49d9-96c5-b8042bcf8374"
    },
    {
      "cell_type": "markdown",
      "metadata": {},
      "source": [
        "-   This is pretty good, and we are now ready to apply this tokenization\n",
        "    to the raw text\n",
        "\n",
        "<img src=\"https://sebastianraschka.com/images/LLMs-from-scratch-images/ch02_compressed/05.webp\" width=\"350px\">"
      ],
      "id": "537225e3-c876-45fe-ba13-ab18e5b91d74"
    },
    {
      "cell_type": "code",
      "execution_count": 8,
      "metadata": {},
      "outputs": [
        {
          "output_type": "stream",
          "name": "stdout",
          "text": [
            "['I', 'HAD', 'always', 'thought', 'Jack', 'Gisburn', 'rather', 'a', 'cheap', 'genius', '--', 'though', 'a', 'good', 'fellow', 'enough', '--', 'so', 'it', 'was', 'no', 'great', 'surprise', 'to', 'me', 'to', 'hear', 'that', ',', 'in']"
          ]
        }
      ],
      "source": [
        "preprocessed = re.split(r'([,.:;?_!\"()\\']|--|\\s)', raw_text)\n",
        "preprocessed = [item.strip() for item in preprocessed if item.strip()]\n",
        "print(preprocessed[:30])"
      ],
      "id": "8c567caa-8ff5-49a8-a5cc-d365b0a78a99"
    },
    {
      "cell_type": "markdown",
      "metadata": {},
      "source": [
        "-   Let’s calculate the total number of tokens"
      ],
      "id": "ef914db3-6a34-4da0-b55a-5f25a4296ff0"
    },
    {
      "cell_type": "code",
      "execution_count": 9,
      "metadata": {},
      "outputs": [
        {
          "output_type": "stream",
          "name": "stdout",
          "text": [
            "4690"
          ]
        }
      ],
      "source": [
        "print(len(preprocessed))"
      ],
      "id": "35db7b5e-510b-4c45-995f-f5ad64a8e19c"
    },
    {
      "cell_type": "markdown",
      "metadata": {},
      "source": [
        "## 2.3 Converting tokens into token IDs\n",
        "\n",
        "-   Next, we convert the text tokens into token IDs that we can process\n",
        "    via embedding layers later\n",
        "\n",
        "<img src=\"https://sebastianraschka.com/images/LLMs-from-scratch-images/ch02_compressed/06.webp\" width=\"500px\">\n",
        "\n",
        "-   From these tokens, we can now build a vocabulary that consists of\n",
        "    all the unique tokens"
      ],
      "id": "59110299-4d81-49f1-9f53-efaef7972766"
    },
    {
      "cell_type": "code",
      "execution_count": 10,
      "metadata": {},
      "outputs": [
        {
          "output_type": "stream",
          "name": "stdout",
          "text": [
            "1130"
          ]
        }
      ],
      "source": [
        "all_words = sorted(set(preprocessed))\n",
        "vocab_size = len(all_words)\n",
        "\n",
        "print(vocab_size)"
      ],
      "id": "7fdf0533-5ab6-42a5-83fa-a3b045de6396"
    },
    {
      "cell_type": "code",
      "execution_count": 11,
      "metadata": {},
      "outputs": [],
      "source": [
        "vocab = {token:integer for integer,token in enumerate(all_words)}"
      ],
      "id": "77d00d96-881f-4691-bb03-84fec2a75a26"
    },
    {
      "cell_type": "markdown",
      "metadata": {},
      "source": [
        "-   Below are the first 50 entries in this vocabulary:"
      ],
      "id": "af2d4b24-904a-43e7-b1d6-a339f09c62f1"
    },
    {
      "cell_type": "code",
      "execution_count": 12,
      "metadata": {},
      "outputs": [
        {
          "output_type": "stream",
          "name": "stdout",
          "text": [
            "('!', 0)\n",
            "('\"', 1)\n",
            "(\"'\", 2)\n",
            "('(', 3)\n",
            "(')', 4)\n",
            "(',', 5)\n",
            "('--', 6)\n",
            "('.', 7)\n",
            "(':', 8)\n",
            "(';', 9)\n",
            "('?', 10)\n",
            "('A', 11)\n",
            "('Ah', 12)\n",
            "('Among', 13)\n",
            "('And', 14)\n",
            "('Are', 15)\n",
            "('Arrt', 16)\n",
            "('As', 17)\n",
            "('At', 18)\n",
            "('Be', 19)\n",
            "('Begin', 20)\n",
            "('Burlington', 21)\n",
            "('But', 22)\n",
            "('By', 23)\n",
            "('Carlo', 24)\n",
            "('Chicago', 25)\n",
            "('Claude', 26)\n",
            "('Come', 27)\n",
            "('Croft', 28)\n",
            "('Destroyed', 29)\n",
            "('Devonshire', 30)\n",
            "('Don', 31)\n",
            "('Dubarry', 32)\n",
            "('Emperors', 33)\n",
            "('Florence', 34)\n",
            "('For', 35)\n",
            "('Gallery', 36)\n",
            "('Gideon', 37)\n",
            "('Gisburn', 38)\n",
            "('Gisburns', 39)\n",
            "('Grafton', 40)\n",
            "('Greek', 41)\n",
            "('Grindle', 42)\n",
            "('Grindles', 43)\n",
            "('HAD', 44)\n",
            "('Had', 45)\n",
            "('Hang', 46)\n",
            "('Has', 47)\n",
            "('He', 48)\n",
            "('Her', 49)\n",
            "('Hermia', 50)"
          ]
        }
      ],
      "source": [
        "for i, item in enumerate(vocab.items()):\n",
        "    print(item)\n",
        "    if i >= 50:\n",
        "        break"
      ],
      "id": "e1c5de4a-aa4e-4aec-b532-10bb364039d6"
    },
    {
      "cell_type": "markdown",
      "metadata": {},
      "source": [
        "-   Below, we illustrate the tokenization of a short sample text using a\n",
        "    small vocabulary:\n",
        "\n",
        "<img src=\"https://sebastianraschka.com/images/LLMs-from-scratch-images/ch02_compressed/07.webp?123\" width=\"500px\">\n",
        "\n",
        "-   Putting it now all together into a tokenizer class"
      ],
      "id": "ad921cbd-4fad-41b7-9dea-ee8761321d69"
    },
    {
      "cell_type": "code",
      "execution_count": 13,
      "metadata": {},
      "outputs": [],
      "source": [
        "class SimpleTokenizerV1:\n",
        "    def __init__(self, vocab):\n",
        "        self.str_to_int = vocab\n",
        "        self.int_to_str = {i:s for s,i in vocab.items()}\n",
        "    \n",
        "    def encode(self, text):\n",
        "        preprocessed = re.split(r'([,.:;?_!\"()\\']|--|\\s)', text)\n",
        "                                \n",
        "        preprocessed = [\n",
        "            item.strip() for item in preprocessed if item.strip()\n",
        "        ]\n",
        "        ids = [self.str_to_int[s] for s in preprocessed]\n",
        "        return ids\n",
        "        \n",
        "    def decode(self, ids):\n",
        "        text = \" \".join([self.int_to_str[i] for i in ids])\n",
        "        # Replace spaces before the specified punctuations\n",
        "        text = re.sub(r'\\s+([,.?!\"()\\'])', r'\\1', text)\n",
        "        return text"
      ],
      "id": "f531bf46-7c25-4ef8-bff8-0d27518676d5"
    },
    {
      "cell_type": "markdown",
      "metadata": {},
      "source": [
        "-   The `encode` function turns text into token IDs\n",
        "-   The `decode` function turns token IDs back into text\n",
        "\n",
        "<img src=\"https://sebastianraschka.com/images/LLMs-from-scratch-images/ch02_compressed/08.webp?123\" width=\"500px\">\n",
        "\n",
        "-   We can use the tokenizer to encode (that is, tokenize) texts into\n",
        "    integers\n",
        "-   These integers can then be embedded (later) as input of/for the LLM"
      ],
      "id": "03bcf7cd-d959-4dc5-aa63-edca7ea696c8"
    },
    {
      "cell_type": "code",
      "execution_count": 14,
      "metadata": {},
      "outputs": [
        {
          "output_type": "stream",
          "name": "stdout",
          "text": [
            "[1, 56, 2, 850, 988, 602, 533, 746, 5, 1126, 596, 5, 1, 67, 7, 38, 851, 1108, 754, 793, 7]"
          ]
        }
      ],
      "source": [
        "tokenizer = SimpleTokenizerV1(vocab)\n",
        "\n",
        "text = \"\"\"\"It's the last he painted, you know,\" \n",
        "           Mrs. Gisburn said with pardonable pride.\"\"\"\n",
        "ids = tokenizer.encode(text)\n",
        "print(ids)"
      ],
      "id": "647364ec-7995-4654-9b4a-7607ccf5f1e4"
    },
    {
      "cell_type": "markdown",
      "metadata": {},
      "source": [
        "-   We can decode the integers back into text"
      ],
      "id": "2d530d9f-fcbe-45e0-bb28-f096a15b1ae1"
    },
    {
      "cell_type": "code",
      "execution_count": 15,
      "metadata": {},
      "outputs": [
        {
          "output_type": "display_data",
          "metadata": {},
          "data": {
            "text/plain": [
              "'\" It\\' s the last he painted, you know,\" Mrs. Gisburn said with pardonable pride.'"
            ]
          }
        }
      ],
      "source": [
        "tokenizer.decode(ids)"
      ],
      "id": "01d8c8fb-432d-4a49-b332-99f23b233746"
    },
    {
      "cell_type": "code",
      "execution_count": 16,
      "metadata": {},
      "outputs": [
        {
          "output_type": "display_data",
          "metadata": {},
          "data": {
            "text/plain": [
              "'\" It\\' s the last he painted, you know,\" Mrs. Gisburn said with pardonable pride.'"
            ]
          }
        }
      ],
      "source": [
        "tokenizer.decode(tokenizer.encode(text))"
      ],
      "id": "54f6aa8b-9827-412e-9035-e827296ab0fe"
    },
    {
      "cell_type": "markdown",
      "metadata": {},
      "source": [
        "## 2.4 Adding special context tokens\n",
        "\n",
        "-   It’s useful to add some “special” tokens for unknown words and to\n",
        "    denote the end of a text\n",
        "\n",
        "<img src=\"https://sebastianraschka.com/images/LLMs-from-scratch-images/ch02_compressed/09.webp?123\" width=\"500px\">\n",
        "\n",
        "-   Some tokenizers use special tokens to help the LLM with additional\n",
        "    context\n",
        "\n",
        "-   Some of these special tokens are\n",
        "\n",
        "    -   `[BOS]` (beginning of sequence) marks the beginning of text\n",
        "    -   `[EOS]` (end of sequence) marks where the text ends (this is\n",
        "        usually used to concatenate multiple unrelated texts, e.g., two\n",
        "        different Wikipedia articles or two different books, and so on)\n",
        "    -   `[PAD]` (padding) if we train LLMs with a batch size greater\n",
        "        than 1 (we may include multiple texts with different lengths;\n",
        "        with the padding token we pad the shorter texts to the longest\n",
        "        length so that all texts have an equal length)\n",
        "\n",
        "-   `[UNK]` to represent words that are not included in the vocabulary\n",
        "\n",
        "-   Note that GPT-2 does not need any of these tokens mentioned above\n",
        "    but only uses an `<|endoftext|>` token to reduce complexity\n",
        "\n",
        "-   The `<|endoftext|>` is analogous to the `[EOS]` token mentioned\n",
        "    above\n",
        "\n",
        "-   GPT also uses the `<|endoftext|>` for padding (since we typically\n",
        "    use a mask when training on batched inputs, we would not attend\n",
        "    padded tokens anyways, so it does not matter what these tokens are)\n",
        "\n",
        "-   GPT-2 does not use an `<UNK>` token for out-of-vocabulary words;\n",
        "    instead, GPT-2 uses a byte-pair encoding (BPE) tokenizer, which\n",
        "    breaks down words into subword units which we will discuss in a\n",
        "    later section\n",
        "\n",
        "-   We use the `<|endoftext|>` tokens between two independent sources of\n",
        "    text:\n",
        "\n",
        "<img src=\"https://sebastianraschka.com/images/LLMs-from-scratch-images/ch02_compressed/10.webp\" width=\"500px\">\n",
        "\n",
        "-   Let’s see what happens if we tokenize the following text:"
      ],
      "id": "b2c436d4-4e08-44df-bc3c-9b1e7fe89180"
    },
    {
      "cell_type": "code",
      "execution_count": 17,
      "metadata": {},
      "outputs": [],
      "source": [
        "tokenizer = SimpleTokenizerV1(vocab)\n",
        "\n",
        "text = \"Hello, do you like tea. Is this-- a test?\"\n",
        "\n",
        "tokenizer.encode(text)"
      ],
      "id": "d5767eff-440c-4de1-9289-f789349d6b85"
    },
    {
      "cell_type": "markdown",
      "metadata": {},
      "source": [
        "-   The above produces an error because the word “Hello” is not\n",
        "    contained in the vocabulary\n",
        "-   To deal with such cases, we can add special tokens like `\"<|unk|>\"`\n",
        "    to the vocabulary to represent unknown words\n",
        "-   Since we are already extending the vocabulary, let’s add another\n",
        "    token called `\"<|endoftext|>\"` which is used in GPT-2 training to\n",
        "    denote the end of a text (and it’s also used between concatenated\n",
        "    text, like if our training datasets consists of multiple articles,\n",
        "    books, etc.)"
      ],
      "id": "7d19c0dd-5596-4632-8b68-c6ebbe89bd91"
    },
    {
      "cell_type": "code",
      "execution_count": 18,
      "metadata": {},
      "outputs": [],
      "source": [
        "all_tokens = sorted(list(set(preprocessed)))\n",
        "all_tokens.extend([\"<|endoftext|>\", \"<|unk|>\"])\n",
        "\n",
        "vocab = {token:integer for integer,token in enumerate(all_tokens)}"
      ],
      "id": "ce9df29c-6c5b-43f1-8c1a-c7f7b79db78f"
    },
    {
      "cell_type": "code",
      "execution_count": 19,
      "metadata": {},
      "outputs": [
        {
          "output_type": "display_data",
          "metadata": {},
          "data": {
            "text/plain": [
              "1132"
            ]
          }
        }
      ],
      "source": [
        "len(vocab.items())"
      ],
      "id": "57c3143b-e860-4d3b-a22a-de22b547a6a9"
    },
    {
      "cell_type": "code",
      "execution_count": 20,
      "metadata": {},
      "outputs": [
        {
          "output_type": "stream",
          "name": "stdout",
          "text": [
            "('younger', 1127)\n",
            "('your', 1128)\n",
            "('yourself', 1129)\n",
            "('<|endoftext|>', 1130)\n",
            "('<|unk|>', 1131)"
          ]
        }
      ],
      "source": [
        "for i, item in enumerate(list(vocab.items())[-5:]):\n",
        "    print(item)"
      ],
      "id": "50e51bb1-ae05-4aa8-a9ff-455b65ed1959"
    },
    {
      "cell_type": "markdown",
      "metadata": {},
      "source": [
        "-   We also need to adjust the tokenizer accordingly so that it knows\n",
        "    when and how to use the new `<unk>` token"
      ],
      "id": "2505bd79-799f-4a3a-8965-a30e73297ce6"
    },
    {
      "cell_type": "code",
      "execution_count": 21,
      "metadata": {},
      "outputs": [],
      "source": [
        "class SimpleTokenizerV2:\n",
        "    def __init__(self, vocab):\n",
        "        self.str_to_int = vocab\n",
        "        self.int_to_str = { i:s for s,i in vocab.items()}\n",
        "    \n",
        "    def encode(self, text):\n",
        "        preprocessed = re.split(r'([,.:;?_!\"()\\']|--|\\s)', text)\n",
        "        preprocessed = [item.strip() for item in preprocessed if item.strip()]\n",
        "        preprocessed = [\n",
        "            item if item in self.str_to_int \n",
        "            else \"<|unk|>\" for item in preprocessed\n",
        "        ]\n",
        "\n",
        "        ids = [self.str_to_int[s] for s in preprocessed]\n",
        "        return ids\n",
        "        \n",
        "    def decode(self, ids):\n",
        "        text = \" \".join([self.int_to_str[i] for i in ids])\n",
        "        # Replace spaces before the specified punctuations\n",
        "        text = re.sub(r'\\s+([,.:;?!\"()\\'])', r'\\1', text)\n",
        "        return text"
      ],
      "id": "948861c5-3f30-4712-a234-725f20d26f68"
    },
    {
      "cell_type": "markdown",
      "metadata": {},
      "source": [
        "Let’s try to tokenize text with the modified tokenizer:"
      ],
      "id": "62cace20-23b4-44ae-bcfc-80018afd5871"
    },
    {
      "cell_type": "code",
      "execution_count": 22,
      "metadata": {},
      "outputs": [
        {
          "output_type": "stream",
          "name": "stdout",
          "text": [
            "Hello, do you like tea? <|endoftext|> In the sunlit terraces of the palace."
          ]
        }
      ],
      "source": [
        "tokenizer = SimpleTokenizerV2(vocab)\n",
        "\n",
        "text1 = \"Hello, do you like tea?\"\n",
        "text2 = \"In the sunlit terraces of the palace.\"\n",
        "\n",
        "text = \" <|endoftext|> \".join((text1, text2))\n",
        "\n",
        "print(text)"
      ],
      "id": "4133c502-18ac-4412-9f43-01caf4efa3dc"
    },
    {
      "cell_type": "code",
      "execution_count": 23,
      "metadata": {},
      "outputs": [
        {
          "output_type": "display_data",
          "metadata": {},
          "data": {
            "text/plain": [
              "[1131, 5, 355, 1126, 628, 975, 10, 1130, 55, 988, 956, 984, 722, 988, 1131, 7]"
            ]
          }
        }
      ],
      "source": [
        "tokenizer.encode(text)"
      ],
      "id": "7ed395fe-dc1b-4ed2-b85b-457cc35aab60"
    },
    {
      "cell_type": "code",
      "execution_count": 24,
      "metadata": {},
      "outputs": [
        {
          "output_type": "display_data",
          "metadata": {},
          "data": {
            "text/plain": [
              "'<|unk|>, do you like tea? <|endoftext|> In the sunlit terraces of the <|unk|>.'"
            ]
          }
        }
      ],
      "source": [
        "tokenizer.decode(tokenizer.encode(text))"
      ],
      "id": "059367f9-7a60-4c0d-8a00-7c4c766d0ebc"
    },
    {
      "cell_type": "markdown",
      "metadata": {},
      "source": [
        "## 2.5 BytePair encoding\n",
        "\n",
        "-   GPT-2 used BytePair encoding (BPE) as its tokenizer\n",
        "-   it allows the model to break down words that aren’t in its\n",
        "    predefined vocabulary into smaller subword units or even individual\n",
        "    characters, enabling it to handle out-of-vocabulary words\n",
        "-   For instance, if GPT-2’s vocabulary doesn’t have the word\n",
        "    “unfamiliarword,” it might tokenize it as \\[“unfam”, “iliar”,\n",
        "    “word”\\] or some other subword breakdown, depending on its trained\n",
        "    BPE merges\n",
        "-   The original BPE tokenizer can be found here:\n",
        "    <https://github.com/openai/gpt-2/blob/master/src/encoder.py>\n",
        "-   In this chapter, we are using the BPE tokenizer from OpenAI’s\n",
        "    open-source [tiktoken](https://github.com/openai/tiktoken) library,\n",
        "    which implements its core algorithms in Rust to improve\n",
        "    computational performance\n",
        "-   I created a notebook in the\n",
        "    [./bytepair_encoder](../02_bonus_bytepair-encoder) that compares\n",
        "    these two implementations side-by-side (tiktoken was about 5x faster\n",
        "    on the sample text)"
      ],
      "id": "1fcc39c1-745e-4563-9424-215c0fffb1ef"
    },
    {
      "cell_type": "code",
      "execution_count": 25,
      "metadata": {},
      "outputs": [],
      "source": [
        "# pip install tiktoken"
      ],
      "id": "ede1d41f-934b-4bf4-8184-54394a257a94"
    },
    {
      "cell_type": "code",
      "execution_count": 26,
      "metadata": {},
      "outputs": [
        {
          "output_type": "stream",
          "name": "stdout",
          "text": [
            "tiktoken version: 0.7.0"
          ]
        }
      ],
      "source": [
        "import importlib\n",
        "import tiktoken\n",
        "\n",
        "print(\"tiktoken version:\", importlib.metadata.version(\"tiktoken\"))"
      ],
      "id": "48967a77-7d17-42bf-9e92-fc619d63a59e"
    },
    {
      "cell_type": "code",
      "execution_count": 27,
      "metadata": {},
      "outputs": [],
      "source": [
        "tokenizer = tiktoken.get_encoding(\"gpt2\")"
      ],
      "id": "6ad3312f-a5f7-4efc-9d7d-8ea09d7b5128"
    },
    {
      "cell_type": "code",
      "execution_count": 28,
      "metadata": {},
      "outputs": [
        {
          "output_type": "stream",
          "name": "stdout",
          "text": [
            "[15496, 11, 466, 345, 588, 8887, 30, 220, 50256, 554, 262, 4252, 18250, 8812, 2114, 1659, 617, 34680, 27271, 13]"
          ]
        }
      ],
      "source": [
        "text = (\n",
        "    \"Hello, do you like tea? <|endoftext|> In the sunlit terraces\"\n",
        "     \"of someunknownPlace.\"\n",
        ")\n",
        "\n",
        "integers = tokenizer.encode(text, allowed_special={\"<|endoftext|>\"})\n",
        "\n",
        "print(integers)"
      ],
      "id": "5ff2cd85-7cfb-4325-b390-219938589428"
    },
    {
      "cell_type": "code",
      "execution_count": 29,
      "metadata": {},
      "outputs": [
        {
          "output_type": "stream",
          "name": "stdout",
          "text": [
            "Hello, do you like tea? <|endoftext|> In the sunlit terracesof someunknownPlace."
          ]
        }
      ],
      "source": [
        "strings = tokenizer.decode(integers)\n",
        "\n",
        "print(strings)"
      ],
      "id": "d26a48bb-f82e-41a8-a955-a1c9cf9d50ab"
    },
    {
      "cell_type": "markdown",
      "metadata": {},
      "source": [
        "-   BPE tokenizers break down unknown words into subwords and individual\n",
        "    characters:\n",
        "\n",
        "<img src=\"https://sebastianraschka.com/images/LLMs-from-scratch-images/ch02_compressed/11.webp\" width=\"300px\">\n",
        "\n",
        "## 2.6 Data sampling with a sliding window\n",
        "\n",
        "-   We train LLMs to generate one word at a time, so we want to prepare\n",
        "    the training data accordingly where the next word in a sequence\n",
        "    represents the target to predict:\n",
        "\n",
        "<img src=\"https://sebastianraschka.com/images/LLMs-from-scratch-images/ch02_compressed/12.webp\" width=\"400px\">"
      ],
      "id": "5aa91ab6-53a7-4a0c-94c9-87b71633d026"
    },
    {
      "cell_type": "code",
      "execution_count": 30,
      "metadata": {},
      "outputs": [
        {
          "output_type": "stream",
          "name": "stdout",
          "text": [
            "5145"
          ]
        }
      ],
      "source": [
        "with open(\"the-verdict.txt\", \"r\", encoding=\"utf-8\") as f:\n",
        "    raw_text = f.read()\n",
        "\n",
        "enc_text = tokenizer.encode(raw_text)\n",
        "print(len(enc_text))"
      ],
      "id": "848d5ade-fd1f-46c3-9e31-1426e315c71b"
    },
    {
      "cell_type": "markdown",
      "metadata": {},
      "source": [
        "-   For each text chunk, we want the inputs and targets\n",
        "-   Since we want the model to predict the next word, the targets are\n",
        "    the inputs shifted by one position to the right"
      ],
      "id": "37c74082-4eb5-47d4-adfc-a0e595b2968b"
    },
    {
      "cell_type": "code",
      "execution_count": 31,
      "metadata": {},
      "outputs": [],
      "source": [
        "enc_sample = enc_text[50:]"
      ],
      "id": "e84424a7-646d-45b6-99e3-80d15fb761f2"
    },
    {
      "cell_type": "code",
      "execution_count": 32,
      "metadata": {},
      "outputs": [
        {
          "output_type": "stream",
          "name": "stdout",
          "text": [
            "x: [290, 4920, 2241, 287]\n",
            "y:      [4920, 2241, 287, 257]"
          ]
        }
      ],
      "source": [
        "context_size = 4\n",
        "\n",
        "x = enc_sample[:context_size]\n",
        "y = enc_sample[1:context_size+1]\n",
        "\n",
        "print(f\"x: {x}\")\n",
        "print(f\"y:      {y}\")"
      ],
      "id": "dfbff852-a92f-48c8-a46d-143a0f109f40"
    },
    {
      "cell_type": "markdown",
      "metadata": {},
      "source": [
        "-   One by one, the prediction would look like as follows:"
      ],
      "id": "8f281093-b186-454e-9ec9-34bee82f15ac"
    },
    {
      "cell_type": "code",
      "execution_count": 33,
      "metadata": {},
      "outputs": [
        {
          "output_type": "stream",
          "name": "stdout",
          "text": [
            "[290] ----> 4920\n",
            "[290, 4920] ----> 2241\n",
            "[290, 4920, 2241] ----> 287\n",
            "[290, 4920, 2241, 287] ----> 257"
          ]
        }
      ],
      "source": [
        "for i in range(1, context_size+1):\n",
        "    context = enc_sample[:i]\n",
        "    desired = enc_sample[i]\n",
        "\n",
        "    print(context, \"---->\", desired)"
      ],
      "id": "d97b031e-ed55-409d-95f2-aeb38c6fe366"
    },
    {
      "cell_type": "code",
      "execution_count": 34,
      "metadata": {},
      "outputs": [
        {
          "output_type": "stream",
          "name": "stdout",
          "text": [
            " and ---->  established\n",
            " and established ---->  himself\n",
            " and established himself ---->  in\n",
            " and established himself in ---->  a"
          ]
        }
      ],
      "source": [
        "for i in range(1, context_size+1):\n",
        "    context = enc_sample[:i]\n",
        "    desired = enc_sample[i]\n",
        "\n",
        "    print(tokenizer.decode(context), \"---->\", tokenizer.decode([desired]))"
      ],
      "id": "f57bd746-dcbf-4433-8e24-ee213a8c34a1"
    },
    {
      "cell_type": "markdown",
      "metadata": {},
      "source": [
        "-   We will take care of the next-word prediction in a later chapter\n",
        "    after we covered the attention mechanism\n",
        "\n",
        "-   For now, we implement a simple data loader that iterates over the\n",
        "    input dataset and returns the inputs and targets shifted by one\n",
        "\n",
        "-   Install and import PyTorch (see Appendix A for installation tips)"
      ],
      "id": "de4b3aed-6918-408e-8a11-d3d5faee810e"
    },
    {
      "cell_type": "code",
      "execution_count": 35,
      "metadata": {},
      "outputs": [
        {
          "output_type": "stream",
          "name": "stdout",
          "text": [
            "PyTorch version: 2.5.1"
          ]
        }
      ],
      "source": [
        "import torch\n",
        "print(\"PyTorch version:\", torch.__version__)"
      ],
      "id": "e1770134-e7f3-4725-a679-e04c3be48cac"
    },
    {
      "cell_type": "markdown",
      "metadata": {},
      "source": [
        "-   We use a sliding window approach, changing the position by +1:\n",
        "\n",
        "<img src=\"https://sebastianraschka.com/images/LLMs-from-scratch-images/ch02_compressed/13.webp?123\" width=\"500px\">\n",
        "\n",
        "-   Create dataset and dataloader that extract chunks from the input\n",
        "    text dataset"
      ],
      "id": "d6069311-c46d-42ec-9d09-e0cb46b264fd"
    },
    {
      "cell_type": "code",
      "execution_count": 36,
      "metadata": {},
      "outputs": [],
      "source": [
        "from torch.utils.data import Dataset, DataLoader\n",
        "\n",
        "\n",
        "class GPTDatasetV1(Dataset):\n",
        "    def __init__(self, txt, tokenizer, max_length, stride):\n",
        "        self.input_ids = []\n",
        "        self.target_ids = []\n",
        "\n",
        "        # Tokenize the entire text\n",
        "        token_ids = tokenizer.encode(txt, allowed_special={\"<|endoftext|>\"})\n",
        "        assert len(token_ids) > max_length, \"Number of tokenized inputs must at least be equal to max_length+1\"\n",
        "\n",
        "        # Use a sliding window to chunk the book into overlapping sequences of max_length\n",
        "        for i in range(0, len(token_ids) - max_length, stride):\n",
        "            input_chunk = token_ids[i:i + max_length]\n",
        "            target_chunk = token_ids[i + 1: i + max_length + 1]\n",
        "            self.input_ids.append(torch.tensor(input_chunk))\n",
        "            self.target_ids.append(torch.tensor(target_chunk))\n",
        "\n",
        "    def __len__(self):\n",
        "        return len(self.input_ids)\n",
        "\n",
        "    def __getitem__(self, idx):\n",
        "        return self.input_ids[idx], self.target_ids[idx]"
      ],
      "id": "74b41073-4c9f-46e2-a1bd-d38e4122b375"
    },
    {
      "cell_type": "code",
      "execution_count": 37,
      "metadata": {},
      "outputs": [],
      "source": [
        "def create_dataloader_v1(txt, batch_size=4, max_length=256, \n",
        "                         stride=128, shuffle=True, drop_last=True,\n",
        "                         num_workers=0):\n",
        "\n",
        "    # Initialize the tokenizer\n",
        "    tokenizer = tiktoken.get_encoding(\"gpt2\")\n",
        "\n",
        "    # Create dataset\n",
        "    dataset = GPTDatasetV1(txt, tokenizer, max_length, stride)\n",
        "\n",
        "    # Create dataloader\n",
        "    dataloader = DataLoader(\n",
        "        dataset,\n",
        "        batch_size=batch_size,\n",
        "        shuffle=shuffle,\n",
        "        drop_last=drop_last,\n",
        "        num_workers=num_workers\n",
        "    )\n",
        "\n",
        "    return dataloader"
      ],
      "id": "5eb30ebe-97b3-43c5-9ff1-a97d621b3c4e"
    },
    {
      "cell_type": "markdown",
      "metadata": {},
      "source": [
        "-   Let’s test the dataloader with a batch size of 1 for an LLM with a\n",
        "    context size of 4:"
      ],
      "id": "d5905eb7-5836-4b8f-8a5b-e14de497bfd7"
    },
    {
      "cell_type": "code",
      "execution_count": 38,
      "metadata": {},
      "outputs": [],
      "source": [
        "with open(\"the-verdict.txt\", \"r\", encoding=\"utf-8\") as f:\n",
        "    raw_text = f.read()"
      ],
      "id": "df31d96c-6bfd-4564-a956-6192242d7579"
    },
    {
      "cell_type": "code",
      "execution_count": 39,
      "metadata": {},
      "outputs": [
        {
          "output_type": "stream",
          "name": "stdout",
          "text": [
            "[tensor([[  40,  367, 2885, 1464]]), tensor([[ 367, 2885, 1464, 1807]])]"
          ]
        }
      ],
      "source": [
        "dataloader = create_dataloader_v1(\n",
        "    raw_text, batch_size=1, max_length=4, stride=1, shuffle=False\n",
        ")\n",
        "\n",
        "data_iter = iter(dataloader)\n",
        "first_batch = next(data_iter)\n",
        "print(first_batch)"
      ],
      "id": "9226d00c-ad9a-4949-a6e4-9afccfc7214f"
    },
    {
      "cell_type": "code",
      "execution_count": 40,
      "metadata": {},
      "outputs": [
        {
          "output_type": "stream",
          "name": "stdout",
          "text": [
            "[tensor([[ 367, 2885, 1464, 1807]]), tensor([[2885, 1464, 1807, 3619]])]"
          ]
        }
      ],
      "source": [
        "second_batch = next(data_iter)\n",
        "print(second_batch)"
      ],
      "id": "10deb4bc-4de1-4d20-921e-4b1c7a0e1a6d"
    },
    {
      "cell_type": "markdown",
      "metadata": {},
      "source": [
        "-   An example using stride equal to the context length (here: 4) as\n",
        "    shown below:\n",
        "\n",
        "<img src=\"https://sebastianraschka.com/images/LLMs-from-scratch-images/ch02_compressed/14.webp\" width=\"500px\">\n",
        "\n",
        "-   We can also create batched outputs\n",
        "-   Note that we increase the stride here so that we don’t have overlaps\n",
        "    between the batches, since more overlap could lead to increased\n",
        "    overfitting"
      ],
      "id": "f8121c80-e489-4d7a-8e9f-a305d89d8380"
    },
    {
      "cell_type": "code",
      "execution_count": 41,
      "metadata": {},
      "outputs": [
        {
          "output_type": "stream",
          "name": "stdout",
          "text": [
            "Inputs:\n",
            " tensor([[   40,   367,  2885,  1464],\n",
            "        [ 1807,  3619,   402,   271],\n",
            "        [10899,  2138,   257,  7026],\n",
            "        [15632,   438,  2016,   257],\n",
            "        [  922,  5891,  1576,   438],\n",
            "        [  568,   340,   373,   645],\n",
            "        [ 1049,  5975,   284,   502],\n",
            "        [  284,  3285,   326,    11]])\n",
            "\n",
            "Targets:\n",
            " tensor([[  367,  2885,  1464,  1807],\n",
            "        [ 3619,   402,   271, 10899],\n",
            "        [ 2138,   257,  7026, 15632],\n",
            "        [  438,  2016,   257,   922],\n",
            "        [ 5891,  1576,   438,   568],\n",
            "        [  340,   373,   645,  1049],\n",
            "        [ 5975,   284,   502,   284],\n",
            "        [ 3285,   326,    11,   287]])"
          ]
        }
      ],
      "source": [
        "dataloader = create_dataloader_v1(raw_text, batch_size=8, max_length=4, stride=4, shuffle=False)\n",
        "\n",
        "data_iter = iter(dataloader)\n",
        "inputs, targets = next(data_iter)\n",
        "print(\"Inputs:\\n\", inputs)\n",
        "print(\"\\nTargets:\\n\", targets)"
      ],
      "id": "1916e7a6-f03d-4f09-91a6-d0bdbac5a58c"
    },
    {
      "cell_type": "markdown",
      "metadata": {},
      "source": [
        "## 2.7 Creating token embeddings\n",
        "\n",
        "-   The data is already almost ready for an LLM\n",
        "-   But lastly let us embed the tokens in a continuous vector\n",
        "    representation using an embedding layer\n",
        "-   Usually, these embedding layers are part of the LLM itself and are\n",
        "    updated (trained) during model training\n",
        "\n",
        "<img src=\"https://sebastianraschka.com/images/LLMs-from-scratch-images/ch02_compressed/15.webp\" width=\"400px\">\n",
        "\n",
        "-   Suppose we have the following four input examples with input ids 2,\n",
        "    3, 5, and 1 (after tokenization):"
      ],
      "id": "d372d314-923b-4810-bbac-60713d2f8c12"
    },
    {
      "cell_type": "code",
      "execution_count": 42,
      "metadata": {},
      "outputs": [],
      "source": [
        "input_ids = torch.tensor([2, 3, 5, 1])"
      ],
      "id": "15a6304c-9474-4470-b85d-3991a49fa653"
    },
    {
      "cell_type": "markdown",
      "metadata": {},
      "source": [
        "-   For the sake of simplicity, suppose we have a small vocabulary of\n",
        "    only 6 words and we want to create embeddings of size 3:"
      ],
      "id": "2926c5e0-c233-4f11-9806-7ca3e39c3f35"
    },
    {
      "cell_type": "code",
      "execution_count": 43,
      "metadata": {},
      "outputs": [],
      "source": [
        "vocab_size = 6\n",
        "output_dim = 3\n",
        "\n",
        "torch.manual_seed(123)\n",
        "embedding_layer = torch.nn.Embedding(vocab_size, output_dim)"
      ],
      "id": "93cb2cee-9aa6-4bb8-8977-c65661d16eda"
    },
    {
      "cell_type": "markdown",
      "metadata": {},
      "source": [
        "-   This would result in a 6x3 weight matrix:"
      ],
      "id": "273353aa-5ad8-4a09-a72e-97b103973dd8"
    },
    {
      "cell_type": "code",
      "execution_count": 44,
      "metadata": {},
      "outputs": [
        {
          "output_type": "stream",
          "name": "stdout",
          "text": [
            "Parameter containing:\n",
            "tensor([[ 0.3374, -0.1778, -0.1690],\n",
            "        [ 0.9178,  1.5810,  1.3010],\n",
            "        [ 1.2753, -0.2010, -0.1606],\n",
            "        [-0.4015,  0.9666, -1.1481],\n",
            "        [-1.1589,  0.3255, -0.6315],\n",
            "        [-2.8400, -0.7849, -1.4096]], requires_grad=True)"
          ]
        }
      ],
      "source": [
        "print(embedding_layer.weight)"
      ],
      "id": "a686eb61-e737-4351-8f1c-222913d47468"
    },
    {
      "cell_type": "markdown",
      "metadata": {},
      "source": [
        "-   For those who are familiar with one-hot encoding, the embedding\n",
        "    layer approach above is essentially just a more efficient way of\n",
        "    implementing one-hot encoding followed by matrix multiplication in a\n",
        "    fully-connected layer, which is described in the supplementary code\n",
        "    in [./embedding_vs_matmul](../03_bonus_embedding-vs-matmul)\n",
        "\n",
        "-   Because the embedding layer is just a more efficient implementation\n",
        "    that is equivalent to the one-hot encoding and matrix-multiplication\n",
        "    approach it can be seen as a neural network layer that can be\n",
        "    optimized via backpropagation\n",
        "\n",
        "-   To convert a token with id 3 into a 3-dimensional vector, we do the\n",
        "    following:"
      ],
      "id": "79cc82ea-5153-4dfd-a58f-e2c13e7c5be2"
    },
    {
      "cell_type": "code",
      "execution_count": 45,
      "metadata": {},
      "outputs": [
        {
          "output_type": "stream",
          "name": "stdout",
          "text": [
            "tensor([[-0.4015,  0.9666, -1.1481]], grad_fn=<EmbeddingBackward0>)"
          ]
        }
      ],
      "source": [
        "print(embedding_layer(torch.tensor([3])))"
      ],
      "id": "e43600ba-f287-4746-8ddf-d0f71a9023ca"
    },
    {
      "cell_type": "markdown",
      "metadata": {},
      "source": [
        "-   Note that the above is the 4th row in the `embedding_layer` weight\n",
        "    matrix\n",
        "-   To embed all four `input_ids` values above, we do"
      ],
      "id": "6cd69741-e61a-469a-b983-31e11d7f4033"
    },
    {
      "cell_type": "code",
      "execution_count": 46,
      "metadata": {},
      "outputs": [
        {
          "output_type": "stream",
          "name": "stdout",
          "text": [
            "tensor([[ 1.2753, -0.2010, -0.1606],\n",
            "        [-0.4015,  0.9666, -1.1481],\n",
            "        [-2.8400, -0.7849, -1.4096],\n",
            "        [ 0.9178,  1.5810,  1.3010]], grad_fn=<EmbeddingBackward0>)"
          ]
        }
      ],
      "source": [
        "print(embedding_layer(input_ids))"
      ],
      "id": "50280ead-0363-44c8-8c35-bb885d92c8b7"
    },
    {
      "cell_type": "markdown",
      "metadata": {},
      "source": [
        "-   An embedding layer is essentially a look-up operation:\n",
        "\n",
        "<img src=\"https://sebastianraschka.com/images/LLMs-from-scratch-images/ch02_compressed/16.webp?123\" width=\"500px\">\n",
        "\n",
        "-   **You may be interested in the bonus content comparing embedding\n",
        "    layers with regular linear layers:\n",
        "    [../03_bonus_embedding-vs-matmul](../03_bonus_embedding-vs-matmul)**\n",
        "\n",
        "## 2.8 Encoding word positions\n",
        "\n",
        "-   Embedding layer convert IDs into identical vector representations\n",
        "    regardless of where they are located in the input sequence:\n",
        "\n",
        "<img src=\"https://sebastianraschka.com/images/LLMs-from-scratch-images/ch02_compressed/17.webp\" width=\"400px\">\n",
        "\n",
        "-   Positional embeddings are combined with the token embedding vector\n",
        "    to form the input embeddings for a large language model:\n",
        "\n",
        "<img src=\"https://sebastianraschka.com/images/LLMs-from-scratch-images/ch02_compressed/18.webp\" width=\"500px\">\n",
        "\n",
        "-   The BytePair encoder has a vocabulary size of 50,257:\n",
        "-   Suppose we want to encode the input tokens into a 256-dimensional\n",
        "    vector representation:"
      ],
      "id": "c18d3013-54ab-4815-96d4-c44432db9647"
    },
    {
      "cell_type": "code",
      "execution_count": 47,
      "metadata": {},
      "outputs": [],
      "source": [
        "vocab_size = 50257\n",
        "output_dim = 256\n",
        "\n",
        "token_embedding_layer = torch.nn.Embedding(vocab_size, output_dim)"
      ],
      "id": "0b9e344d-03a6-4f2c-b723-67b6a20c5041"
    },
    {
      "cell_type": "markdown",
      "metadata": {},
      "source": [
        "-   If we sample data from the dataloader, we embed the tokens in each\n",
        "    batch into a 256-dimensional vector\n",
        "-   If we have a batch size of 8 with 4 tokens each, this results in a 8\n",
        "    x 4 x 256 tensor:"
      ],
      "id": "48c901dd-ff0a-48b5-84a6-edf12ab2c118"
    },
    {
      "cell_type": "code",
      "execution_count": 48,
      "metadata": {},
      "outputs": [],
      "source": [
        "max_length = 4\n",
        "dataloader = create_dataloader_v1(\n",
        "    raw_text, batch_size=8, max_length=max_length,\n",
        "    stride=max_length, shuffle=False\n",
        ")\n",
        "data_iter = iter(dataloader)\n",
        "inputs, targets = next(data_iter)"
      ],
      "id": "ad56a263-3d2e-4d91-98bf-d0b68d3c7fc3"
    },
    {
      "cell_type": "code",
      "execution_count": 49,
      "metadata": {},
      "outputs": [
        {
          "output_type": "stream",
          "name": "stdout",
          "text": [
            "Token IDs:\n",
            " tensor([[   40,   367,  2885,  1464],\n",
            "        [ 1807,  3619,   402,   271],\n",
            "        [10899,  2138,   257,  7026],\n",
            "        [15632,   438,  2016,   257],\n",
            "        [  922,  5891,  1576,   438],\n",
            "        [  568,   340,   373,   645],\n",
            "        [ 1049,  5975,   284,   502],\n",
            "        [  284,  3285,   326,    11]])\n",
            "\n",
            "Inputs shape:\n",
            " torch.Size([8, 4])"
          ]
        }
      ],
      "source": [
        "print(\"Token IDs:\\n\", inputs)\n",
        "print(\"\\nInputs shape:\\n\", inputs.shape)"
      ],
      "id": "84416b60-3707-4370-bcbc-da0b62f2b64d"
    },
    {
      "cell_type": "code",
      "execution_count": 50,
      "metadata": {},
      "outputs": [
        {
          "output_type": "stream",
          "name": "stdout",
          "text": [
            "torch.Size([8, 4, 256])"
          ]
        }
      ],
      "source": [
        "token_embeddings = token_embedding_layer(inputs)\n",
        "print(token_embeddings.shape)\n",
        "\n",
        "# uncomment & execute the following line to see how the embeddings look like\n",
        "# print(token_embeddings)"
      ],
      "id": "7766ec38-30d0-4128-8c31-f49f063c43d1"
    },
    {
      "cell_type": "markdown",
      "metadata": {},
      "source": [
        "-   GPT-2 uses absolute position embeddings, so we just create another\n",
        "    embedding layer:"
      ],
      "id": "763d2f96-04cb-4ce9-acd3-502be097d19c"
    },
    {
      "cell_type": "code",
      "execution_count": 51,
      "metadata": {},
      "outputs": [],
      "source": [
        "context_length = max_length\n",
        "pos_embedding_layer = torch.nn.Embedding(context_length, output_dim)\n",
        "\n",
        "# uncomment & execute the following line to see how the embedding layer weights look like\n",
        "# print(pos_embedding_layer.weight)"
      ],
      "id": "cc048e20-7ac8-417e-81f5-8fe6f9a4fe07"
    },
    {
      "cell_type": "code",
      "execution_count": 52,
      "metadata": {},
      "outputs": [
        {
          "output_type": "stream",
          "name": "stdout",
          "text": [
            "torch.Size([4, 256])"
          ]
        }
      ],
      "source": [
        "pos_embeddings = pos_embedding_layer(torch.arange(max_length))\n",
        "print(pos_embeddings.shape)\n",
        "\n",
        "# uncomment & execute the following line to see how the embeddings look like\n",
        "# print(pos_embeddings)"
      ],
      "id": "c369a1e7-d566-4b53-b398-d6adafb44105"
    },
    {
      "cell_type": "markdown",
      "metadata": {},
      "source": [
        "-   To create the input embeddings used in an LLM, we simply add the\n",
        "    token and the positional embeddings:"
      ],
      "id": "d878fc66-eded-4284-a1f7-f5edfe5a59e7"
    },
    {
      "cell_type": "code",
      "execution_count": 53,
      "metadata": {},
      "outputs": [
        {
          "output_type": "stream",
          "name": "stdout",
          "text": [
            "torch.Size([8, 4, 256])"
          ]
        }
      ],
      "source": [
        "input_embeddings = token_embeddings + pos_embeddings\n",
        "print(input_embeddings.shape)\n",
        "\n",
        "# uncomment & execute the following line to see how the embeddings look like\n",
        "# print(input_embeddings)"
      ],
      "id": "b22fab89-526e-43c8-9035-5b7018e34288"
    },
    {
      "cell_type": "markdown",
      "metadata": {},
      "source": [
        "-   In the initial phase of the input processing workflow, the input\n",
        "    text is segmented into separate tokens\n",
        "-   Following this segmentation, these tokens are transformed into token\n",
        "    IDs based on a predefined vocabulary:\n",
        "\n",
        "<img src=\"https://sebastianraschka.com/images/LLMs-from-scratch-images/ch02_compressed/19.webp\" width=\"400px\">\n",
        "\n",
        "# Summary and takeaways\n",
        "\n",
        "See the [./dataloader.ipynb](./dataloader.ipynb) code notebook, which is\n",
        "a concise version of the data loader that we implemented in this chapter\n",
        "and will need for training the GPT model in upcoming chapters.\n",
        "\n",
        "See [./exercise-solutions.ipynb](./exercise-solutions.ipynb) for the\n",
        "exercise solutions.\n",
        "\n",
        "See the [Byte Pair Encoding (BPE) Tokenizer From\n",
        "Scratch](../02_bonus_bytepair-encoder/compare-bpe-tiktoken.ipynb)\n",
        "notebook if you are interested in learning how the GPT-2 tokenizer can\n",
        "be implemented and trained from scratch."
      ],
      "id": "817111f1-7faf-4cfa-8c59-96432a5f6033"
    }
  ],
  "nbformat": 4,
  "nbformat_minor": 5,
  "metadata": {
    "kernelspec": {
      "name": "python3",
      "display_name": "Python 3 (ipykernel)",
      "language": "python"
    },
    "language_info": {
      "name": "python",
      "codemirror_mode": {
        "name": "ipython",
        "version": "3"
      },
      "file_extension": ".py",
      "mimetype": "text/x-python",
      "nbconvert_exporter": "python",
      "pygments_lexer": "ipython3",
      "version": "3.11.13"
    }
  }
}