{
  "cells": [
    {
      "cell_type": "markdown",
      "metadata": {},
      "source": [
        "# \n",
        "\n",
        "Packages that are being used in this notebook:"
      ],
      "id": "9c566012-4524-43cc-bc5c-2d31f8ed39b1"
    },
    {
      "cell_type": "code",
      "execution_count": 1,
      "metadata": {},
      "outputs": [
        {
          "output_type": "stream",
          "name": "stdout",
          "text": [
            "torch version: 2.4.0"
          ]
        }
      ],
      "source": [
        "from importlib.metadata import version\n",
        "\n",
        "print(\"torch version:\", version(\"torch\"))"
      ],
      "id": "e58f33e8-5dc9-4dd5-ab84-5a011fa11d92"
    },
    {
      "cell_type": "markdown",
      "metadata": {},
      "source": [
        "-   This chapter covers attention mechanisms, the engine of LLMs:\n",
        "\n",
        "<img src=\"https://sebastianraschka.com/images/LLMs-from-scratch-images/ch03_compressed/01.webp?123\" width=\"500px\">\n",
        "\n",
        "<img src=\"https://sebastianraschka.com/images/LLMs-from-scratch-images/ch03_compressed/02.webp\" width=\"600px\">\n",
        "\n",
        "## 3.1 The problem with modeling long sequences\n",
        "\n",
        "-   No code in this section\n",
        "-   Translating a text word by word isn’t feasible due to the\n",
        "    differences in grammatical structures between the source and target\n",
        "    languages:\n",
        "\n",
        "<img src=\"https://sebastianraschka.com/images/LLMs-from-scratch-images/ch03_compressed/03.webp\" width=\"400px\">\n",
        "\n",
        "-   Prior to the introduction of transformer models, encoder-decoder\n",
        "    RNNs were commonly used for machine translation tasks\n",
        "-   In this setup, the encoder processes a sequence of tokens from the\n",
        "    source language, using a hidden state—a kind of intermediate layer\n",
        "    within the neural network—to generate a condensed representation of\n",
        "    the entire input sequence:\n",
        "\n",
        "<img src=\"https://sebastianraschka.com/images/LLMs-from-scratch-images/ch03_compressed/04.webp\" width=\"500px\">\n",
        "\n",
        "## 3.2 Capturing data dependencies with attention mechanisms\n",
        "\n",
        "-   No code in this section\n",
        "-   Through an attention mechanism, the text-generating decoder segment\n",
        "    of the network is capable of selectively accessing all input tokens,\n",
        "    implying that certain input tokens hold more significance than\n",
        "    others in the generation of a specific output token:\n",
        "\n",
        "<img src=\"https://sebastianraschka.com/images/LLMs-from-scratch-images/ch03_compressed/05.webp\" width=\"500px\">\n",
        "\n",
        "-   Self-attention in transformers is a technique designed to enhance\n",
        "    input representations by enabling each position in a sequence to\n",
        "    engage with and determine the relevance of every other position\n",
        "    within the same sequence\n",
        "\n",
        "<img src=\"https://sebastianraschka.com/images/LLMs-from-scratch-images/ch03_compressed/06.webp\" width=\"300px\">\n",
        "\n",
        "## 3.3 Attending to different parts of the input with self-attention\n",
        "\n",
        "### 3.3.1 A simple self-attention mechanism without trainable weights\n",
        "\n",
        "-   This section explains a very simplified variant of self-attention,\n",
        "    which does not contain any trainable weights\n",
        "-   This is purely for illustration purposes and NOT the attention\n",
        "    mechanism that is used in transformers\n",
        "-   The next section, section 3.3.2, will extend this simple attention\n",
        "    mechanism to implement the real self-attention mechanism\n",
        "-   Suppose we are given an input sequence $x^{(1)}$ to $x^{(T)}$\n",
        "    -   The input is a text (for example, a sentence like “Your journey\n",
        "        starts with one step”) that has already been converted into\n",
        "        token embeddings as described in chapter 2\n",
        "    -   For instance, $x^{(1)}$ is a d-dimensional vector representing\n",
        "        the word “Your”, and so forth\n",
        "-   **Goal:** compute context vectors $z^{(i)}$ for each input sequence\n",
        "    element $x^{(i)}$ in $x^{(1)}$ to $x^{(T)}$ (where $z$ and $x$ have\n",
        "    the same dimension)\n",
        "    -   A context vector $z^{(i)}$ is a weighted sum over the inputs\n",
        "        $x^{(1)}$ to $x^{(T)}$\n",
        "    -   The context vector is “context”-specific to a certain input\n",
        "        -   Instead of $x^{(i)}$ as a placeholder for an arbitrary input\n",
        "            token, let’s consider the second input, $x^{(2)}$\n",
        "        -   And to continue with a concrete example, instead of the\n",
        "            placeholder $z^{(i)}$, we consider the second output context\n",
        "            vector, $z^{(2)}$\n",
        "        -   The second context vector, $z^{(2)}$, is a weighted sum over\n",
        "            all inputs $x^{(1)}$ to $x^{(T)}$ weighted with respect to\n",
        "            the second input element, $x^{(2)}$\n",
        "        -   The attention weights are the weights that determine how\n",
        "            much each of the input elements contributes to the weighted\n",
        "            sum when computing $z^{(2)}$\n",
        "        -   In short, think of $z^{(2)}$ as a modified version of\n",
        "            $x^{(2)}$ that also incorporates information about all other\n",
        "            input elements that are relevant to a given task at hand\n",
        "\n",
        "<img src=\"https://sebastianraschka.com/images/LLMs-from-scratch-images/ch03_compressed/07.webp\" width=\"400px\">\n",
        "\n",
        "-   (Please note that the numbers in this figure are truncated to one\n",
        "    digit after the decimal point to reduce visual clutter; similarly,\n",
        "    other figures may also contain truncated values)\n",
        "\n",
        "-   By convention, the unnormalized attention weights are referred to as\n",
        "    **“attention scores”** whereas the normalized attention scores,\n",
        "    which sum to 1, are referred to as **“attention weights”**\n",
        "\n",
        "-   The code below walks through the figure above step by step\n",
        "\n",
        "<br>\n",
        "\n",
        "-   **Step 1:** compute unnormalized attention scores $\\omega$\n",
        "-   Suppose we use the second input token as the query, that is,\n",
        "    $q^{(2)} = x^{(2)}$, we compute the unnormalized attention scores\n",
        "    via dot products:\n",
        "    -   $\\omega_{21} = x^{(1)} q^{(2)\\top}$\n",
        "    -   $\\omega_{22} = x^{(2)} q^{(2)\\top}$\n",
        "    -   $\\omega_{23} = x^{(3)} q^{(2)\\top}$\n",
        "    -   …\n",
        "    -   $\\omega_{2T} = x^{(T)} q^{(2)\\top}$\n",
        "-   Above, $\\omega$ is the Greek letter “omega” used to symbolize the\n",
        "    unnormalized attention scores\n",
        "    -   The subscript “21” in $\\omega_{21}$ means that input sequence\n",
        "        element 2 was used as a query against input sequence element 1\n",
        "-   Suppose we have the following input sentence that is already\n",
        "    embedded in 3-dimensional vectors as described in chapter 3 (we use\n",
        "    a very small embedding dimension here for illustration purposes, so\n",
        "    that it fits onto the page without line breaks):"
      ],
      "id": "d074d532-1183-463e-a021-5acae6f69d6c"
    },
    {
      "cell_type": "code",
      "execution_count": 2,
      "metadata": {},
      "outputs": [],
      "source": [
        "import torch\n",
        "\n",
        "inputs = torch.tensor(\n",
        "  [[0.43, 0.15, 0.89], # Your     (x^1)\n",
        "   [0.55, 0.87, 0.66], # journey  (x^2)\n",
        "   [0.57, 0.85, 0.64], # starts   (x^3)\n",
        "   [0.22, 0.58, 0.33], # with     (x^4)\n",
        "   [0.77, 0.25, 0.10], # one      (x^5)\n",
        "   [0.05, 0.80, 0.55]] # step     (x^6)\n",
        ")"
      ],
      "id": "22b9556a-aaf8-4ab4-a5b4-973372b0b2c3"
    },
    {
      "cell_type": "markdown",
      "metadata": {},
      "source": [
        "-   (In this book, we follow the common machine learning and deep\n",
        "    learning convention where training examples are represented as rows\n",
        "    and feature values as columns; in the case of the tensor shown\n",
        "    above, each row represents a word, and each column represents an\n",
        "    embedding dimension)\n",
        "\n",
        "-   The primary objective of this section is to demonstrate how the\n",
        "    context vector $z^{(2)}$ is calculated using the second input\n",
        "    sequence, $x^{(2)}$, as a query\n",
        "\n",
        "-   The figure depicts the initial step in this process, which involves\n",
        "    calculating the attention scores ω between $x^{(2)}$ and all other\n",
        "    input elements through a dot product operation\n",
        "\n",
        "<img src=\"https://sebastianraschka.com/images/LLMs-from-scratch-images/ch03_compressed/08.webp\" width=\"400px\">\n",
        "\n",
        "-   We use input sequence element 2, $x^{(2)}$, as an example to compute\n",
        "    context vector $z^{(2)}$; later in this section, we will generalize\n",
        "    this to compute all context vectors.\n",
        "-   The first step is to compute the unnormalized attention scores by\n",
        "    computing the dot product between the query $x^{(2)}$ and all other\n",
        "    input tokens:"
      ],
      "id": "8f30a7b6-0717-436d-b22a-138d07582c43"
    },
    {
      "cell_type": "code",
      "execution_count": 3,
      "metadata": {},
      "outputs": [
        {
          "output_type": "stream",
          "name": "stdout",
          "text": [
            "tensor([0.9544, 1.4950, 1.4754, 0.8434, 0.7070, 1.0865])"
          ]
        }
      ],
      "source": [
        "query = inputs[1]  # 2nd input token is the query\n",
        "\n",
        "attn_scores_2 = torch.empty(inputs.shape[0])\n",
        "for i, x_i in enumerate(inputs):\n",
        "    attn_scores_2[i] = torch.dot(x_i, query) # dot product (transpose not necessary here since they are 1-dim vectors)\n",
        "\n",
        "print(attn_scores_2)"
      ],
      "id": "6fb5b2f8-dd2c-4a6d-94ef-a0e9ad163951"
    },
    {
      "cell_type": "markdown",
      "metadata": {},
      "source": [
        "-   Side note: a dot product is essentially a shorthand for multiplying\n",
        "    two vectors elements-wise and summing the resulting products:"
      ],
      "id": "62c858c1-1824-4fc3-b501-5d34161088f7"
    },
    {
      "cell_type": "code",
      "execution_count": 4,
      "metadata": {},
      "outputs": [
        {
          "output_type": "stream",
          "name": "stdout",
          "text": [
            "tensor(0.9544)\n",
            "tensor(0.9544)"
          ]
        }
      ],
      "source": [
        "res = 0.\n",
        "\n",
        "for idx, element in enumerate(inputs[0]):\n",
        "    res += inputs[0][idx] * query[idx]\n",
        "\n",
        "print(res)\n",
        "print(torch.dot(inputs[0], query))"
      ],
      "id": "9842f39b-1654-410e-88bf-d1b899bf0241"
    },
    {
      "cell_type": "markdown",
      "metadata": {},
      "source": [
        "-   **Step 2:** normalize the unnormalized attention scores (“omegas”,\n",
        "    $\\omega$) so that they sum up to 1\n",
        "-   Here is a simple way to normalize the unnormalized attention scores\n",
        "    to sum up to 1 (a convention, useful for interpretation, and\n",
        "    important for training stability):\n",
        "\n",
        "<img src=\"https://sebastianraschka.com/images/LLMs-from-scratch-images/ch03_compressed/09.webp\" width=\"500px\">"
      ],
      "id": "666b40e3-8037-41d8-800e-ee7f8da5791c"
    },
    {
      "cell_type": "code",
      "execution_count": 5,
      "metadata": {},
      "outputs": [
        {
          "output_type": "stream",
          "name": "stdout",
          "text": [
            "Attention weights: tensor([0.1455, 0.2278, 0.2249, 0.1285, 0.1077, 0.1656])\n",
            "Sum: tensor(1.0000)"
          ]
        }
      ],
      "source": [
        "attn_weights_2_tmp = attn_scores_2 / attn_scores_2.sum()\n",
        "\n",
        "print(\"Attention weights:\", attn_weights_2_tmp)\n",
        "print(\"Sum:\", attn_weights_2_tmp.sum())"
      ],
      "id": "e3ccc99c-33ce-4f11-b7f2-353cf1cbdaba"
    },
    {
      "cell_type": "markdown",
      "metadata": {},
      "source": [
        "-   However, in practice, using the softmax function for normalization,\n",
        "    which is better at handling extreme values and has more desirable\n",
        "    gradient properties during training, is common and recommended.\n",
        "-   Here’s a naive implementation of a softmax function for scaling,\n",
        "    which also normalizes the vector elements such that they sum up to\n",
        "    1:"
      ],
      "id": "a75f34a0-f56c-47a6-866d-57079fd9f955"
    },
    {
      "cell_type": "code",
      "execution_count": 6,
      "metadata": {},
      "outputs": [
        {
          "output_type": "stream",
          "name": "stdout",
          "text": [
            "Attention weights: tensor([0.1385, 0.2379, 0.2333, 0.1240, 0.1082, 0.1581])\n",
            "Sum: tensor(1.)"
          ]
        }
      ],
      "source": [
        "def softmax_naive(x):\n",
        "    return torch.exp(x) / torch.exp(x).sum(dim=0)\n",
        "\n",
        "attn_weights_2_naive = softmax_naive(attn_scores_2)\n",
        "\n",
        "print(\"Attention weights:\", attn_weights_2_naive)\n",
        "print(\"Sum:\", attn_weights_2_naive.sum())"
      ],
      "id": "07b2e58d-a6ed-49f0-a1cd-2463e8d53a20"
    },
    {
      "cell_type": "markdown",
      "metadata": {},
      "source": [
        "-   The naive implementation above can suffer from numerical instability\n",
        "    issues for large or small input values due to overflow and underflow\n",
        "    issues\n",
        "-   Hence, in practice, it’s recommended to use the PyTorch\n",
        "    implementation of softmax instead, which has been highly optimized\n",
        "    for performance:"
      ],
      "id": "b8547e94-7a93-4cb1-9d40-d985e95f263a"
    },
    {
      "cell_type": "code",
      "execution_count": 7,
      "metadata": {},
      "outputs": [
        {
          "output_type": "stream",
          "name": "stdout",
          "text": [
            "Attention weights: tensor([0.1385, 0.2379, 0.2333, 0.1240, 0.1082, 0.1581])\n",
            "Sum: tensor(1.)"
          ]
        }
      ],
      "source": [
        "attn_weights_2 = torch.softmax(attn_scores_2, dim=0)\n",
        "\n",
        "print(\"Attention weights:\", attn_weights_2)\n",
        "print(\"Sum:\", attn_weights_2.sum())"
      ],
      "id": "2d99cac4-45ea-46b3-b3c1-e000ad16e158"
    },
    {
      "cell_type": "markdown",
      "metadata": {},
      "source": [
        "-   **Step 3**: compute the context vector $z^{(2)}$ by multiplying the\n",
        "    embedded input tokens, $x^{(i)}$ with the attention weights and sum\n",
        "    the resulting vectors:\n",
        "\n",
        "<img src=\"https://sebastianraschka.com/images/LLMs-from-scratch-images/ch03_compressed/10.webp\" width=\"500px\">"
      ],
      "id": "34a7ff9b-ed63-4428-96f3-1a67dfaf2bfe"
    },
    {
      "cell_type": "code",
      "execution_count": 8,
      "metadata": {},
      "outputs": [
        {
          "output_type": "stream",
          "name": "stdout",
          "text": [
            "tensor([0.4419, 0.6515, 0.5683])"
          ]
        }
      ],
      "source": [
        "query = inputs[1] # 2nd input token is the query\n",
        "\n",
        "context_vec_2 = torch.zeros(query.shape)\n",
        "for i,x_i in enumerate(inputs):\n",
        "    context_vec_2 += attn_weights_2[i]*x_i\n",
        "\n",
        "print(context_vec_2)"
      ],
      "id": "8fcb96f0-14e5-4973-a50e-79ea7c6af99f"
    },
    {
      "cell_type": "markdown",
      "metadata": {},
      "source": [
        "### 3.3.2 Computing attention weights for all input tokens\n",
        "\n",
        "#### Generalize to all input sequence tokens:\n",
        "\n",
        "-   Above, we computed the attention weights and context vector for\n",
        "    input 2 (as illustrated in the highlighted row in the figure below)\n",
        "-   Next, we are generalizing this computation to compute all attention\n",
        "    weights and context vectors\n",
        "\n",
        "<img src=\"https://sebastianraschka.com/images/LLMs-from-scratch-images/ch03_compressed/11.webp\" width=\"400px\">\n",
        "\n",
        "-   (Please note that the numbers in this figure are truncated to two\n",
        "    digits after the decimal point to reduce visual clutter; the values\n",
        "    in each row should add up to 1.0 or 100%; similarly, digits in other\n",
        "    figures are truncated)\n",
        "\n",
        "-   In self-attention, the process starts with the calculation of\n",
        "    attention scores, which are subsequently normalized to derive\n",
        "    attention weights that total 1\n",
        "\n",
        "-   These attention weights are then utilized to generate the context\n",
        "    vectors through a weighted summation of the inputs\n",
        "\n",
        "<img src=\"https://sebastianraschka.com/images/LLMs-from-scratch-images/ch03_compressed/12.webp\" width=\"400px\">\n",
        "\n",
        "-   Apply previous **step 1** to all pairwise elements to compute the\n",
        "    unnormalized attention score matrix:"
      ],
      "id": "75d09e51-c627-4e4a-9fd2-d6e418a390d6"
    },
    {
      "cell_type": "code",
      "execution_count": 9,
      "metadata": {},
      "outputs": [
        {
          "output_type": "stream",
          "name": "stdout",
          "text": [
            "tensor([[0.9995, 0.9544, 0.9422, 0.4753, 0.4576, 0.6310],\n",
            "        [0.9544, 1.4950, 1.4754, 0.8434, 0.7070, 1.0865],\n",
            "        [0.9422, 1.4754, 1.4570, 0.8296, 0.7154, 1.0605],\n",
            "        [0.4753, 0.8434, 0.8296, 0.4937, 0.3474, 0.6565],\n",
            "        [0.4576, 0.7070, 0.7154, 0.3474, 0.6654, 0.2935],\n",
            "        [0.6310, 1.0865, 1.0605, 0.6565, 0.2935, 0.9450]])"
          ]
        }
      ],
      "source": [
        "attn_scores = torch.empty(6, 6)\n",
        "\n",
        "for i, x_i in enumerate(inputs):\n",
        "    for j, x_j in enumerate(inputs):\n",
        "        attn_scores[i, j] = torch.dot(x_i, x_j)\n",
        "\n",
        "print(attn_scores)"
      ],
      "id": "04004be8-07a1-468b-ab33-32e16a551b45"
    },
    {
      "cell_type": "markdown",
      "metadata": {},
      "source": [
        "-   We can achieve the same as above more efficiently via matrix\n",
        "    multiplication:"
      ],
      "id": "1d44ea0d-cedb-4b0e-a7c0-4af243605875"
    },
    {
      "cell_type": "code",
      "execution_count": 10,
      "metadata": {},
      "outputs": [
        {
          "output_type": "stream",
          "name": "stdout",
          "text": [
            "tensor([[0.9995, 0.9544, 0.9422, 0.4753, 0.4576, 0.6310],\n",
            "        [0.9544, 1.4950, 1.4754, 0.8434, 0.7070, 1.0865],\n",
            "        [0.9422, 1.4754, 1.4570, 0.8296, 0.7154, 1.0605],\n",
            "        [0.4753, 0.8434, 0.8296, 0.4937, 0.3474, 0.6565],\n",
            "        [0.4576, 0.7070, 0.7154, 0.3474, 0.6654, 0.2935],\n",
            "        [0.6310, 1.0865, 1.0605, 0.6565, 0.2935, 0.9450]])"
          ]
        }
      ],
      "source": [
        "attn_scores = inputs @ inputs.T\n",
        "print(attn_scores)"
      ],
      "id": "2cea69d0-9a47-45da-8d5a-47ceef2df673"
    },
    {
      "cell_type": "markdown",
      "metadata": {},
      "source": [
        "-   Similar to **step 2** previously, we normalize each row so that the\n",
        "    values in each row sum to 1:"
      ],
      "id": "785f7f3c-c825-4ed5-977f-14bd07c12024"
    },
    {
      "cell_type": "code",
      "execution_count": 11,
      "metadata": {},
      "outputs": [
        {
          "output_type": "stream",
          "name": "stdout",
          "text": [
            "tensor([[0.2098, 0.2006, 0.1981, 0.1242, 0.1220, 0.1452],\n",
            "        [0.1385, 0.2379, 0.2333, 0.1240, 0.1082, 0.1581],\n",
            "        [0.1390, 0.2369, 0.2326, 0.1242, 0.1108, 0.1565],\n",
            "        [0.1435, 0.2074, 0.2046, 0.1462, 0.1263, 0.1720],\n",
            "        [0.1526, 0.1958, 0.1975, 0.1367, 0.1879, 0.1295],\n",
            "        [0.1385, 0.2184, 0.2128, 0.1420, 0.0988, 0.1896]])"
          ]
        }
      ],
      "source": [
        "attn_weights = torch.softmax(attn_scores, dim=-1)\n",
        "print(attn_weights)"
      ],
      "id": "fa4ef062-de81-47ee-8415-bfe1708c81b8"
    },
    {
      "cell_type": "markdown",
      "metadata": {},
      "source": [
        "-   Quick verification that the values in each row indeed sum to 1:"
      ],
      "id": "49a49c75-cf56-4362-bdf1-481bd16d22dd"
    },
    {
      "cell_type": "code",
      "execution_count": 12,
      "metadata": {},
      "outputs": [
        {
          "output_type": "stream",
          "name": "stdout",
          "text": [
            "Row 2 sum: 1.0\n",
            "All row sums: tensor([1.0000, 1.0000, 1.0000, 1.0000, 1.0000, 1.0000])"
          ]
        }
      ],
      "source": [
        "row_2_sum = sum([0.1385, 0.2379, 0.2333, 0.1240, 0.1082, 0.1581])\n",
        "print(\"Row 2 sum:\", row_2_sum)\n",
        "\n",
        "print(\"All row sums:\", attn_weights.sum(dim=-1))"
      ],
      "id": "112b492c-fb6f-4e6d-8df5-518ae83363d5"
    },
    {
      "cell_type": "markdown",
      "metadata": {},
      "source": [
        "-   Apply previous **step 3** to compute all context vectors:"
      ],
      "id": "fe1356c3-2ce6-47f2-ae40-1a5e8e0c596e"
    },
    {
      "cell_type": "code",
      "execution_count": 13,
      "metadata": {},
      "outputs": [
        {
          "output_type": "stream",
          "name": "stdout",
          "text": [
            "tensor([[0.4421, 0.5931, 0.5790],\n",
            "        [0.4419, 0.6515, 0.5683],\n",
            "        [0.4431, 0.6496, 0.5671],\n",
            "        [0.4304, 0.6298, 0.5510],\n",
            "        [0.4671, 0.5910, 0.5266],\n",
            "        [0.4177, 0.6503, 0.5645]])"
          ]
        }
      ],
      "source": [
        "all_context_vecs = attn_weights @ inputs\n",
        "print(all_context_vecs)"
      ],
      "id": "ba8eafcf-f7f7-4989-b8dc-61b50c4f81dc"
    },
    {
      "cell_type": "markdown",
      "metadata": {},
      "source": [
        "-   As a sanity check, the previously computed context vector\n",
        "    $z^{(2)} = [0.4419, 0.6515, 0.5683]$ can be found in the 2nd row in\n",
        "    above:"
      ],
      "id": "c4679ed0-e29d-47ef-8eac-84edde70e1db"
    },
    {
      "cell_type": "code",
      "execution_count": 14,
      "metadata": {},
      "outputs": [
        {
          "output_type": "stream",
          "name": "stdout",
          "text": [
            "Previous 2nd context vector: tensor([0.4419, 0.6515, 0.5683])"
          ]
        }
      ],
      "source": [
        "print(\"Previous 2nd context vector:\", context_vec_2)"
      ],
      "id": "2570eb7d-aee1-457a-a61e-7544478219fa"
    },
    {
      "cell_type": "markdown",
      "metadata": {},
      "source": [
        "## 3.4 Implementing self-attention with trainable weights\n",
        "\n",
        "-   A conceptual framework illustrating how the self-attention mechanism\n",
        "    developed in this section integrates into the overall narrative and\n",
        "    structure of this book and chapter\n",
        "\n",
        "<img src=\"https://sebastianraschka.com/images/LLMs-from-scratch-images/ch03_compressed/13.webp\" width=\"400px\">\n",
        "\n",
        "### 3.4.1 Computing the attention weights step by step\n",
        "\n",
        "-   In this section, we are implementing the self-attention mechanism\n",
        "    that is used in the original transformer architecture, the GPT\n",
        "    models, and most other popular LLMs\n",
        "-   This self-attention mechanism is also called “scaled dot-product\n",
        "    attention”\n",
        "-   The overall idea is similar to before:\n",
        "    -   We want to compute context vectors as weighted sums over the\n",
        "        input vectors specific to a certain input element\n",
        "    -   For the above, we need attention weights\n",
        "-   As you will see, there are only slight differences compared to the\n",
        "    basic attention mechanism introduced earlier:\n",
        "    -   The most notable difference is the introduction of weight\n",
        "        matrices that are updated during model training\n",
        "    -   These trainable weight matrices are crucial so that the model\n",
        "        (specifically, the attention module inside the model) can learn\n",
        "        to produce “good” context vectors\n",
        "\n",
        "<img src=\"https://sebastianraschka.com/images/LLMs-from-scratch-images/ch03_compressed/14.webp\" width=\"600px\">\n",
        "\n",
        "-   Implementing the self-attention mechanism step by step, we will\n",
        "    start by introducing the three training weight matrices $W_q$,\n",
        "    $W_k$, and $W_v$\n",
        "\n",
        "-   These three matrices are used to project the embedded input tokens,\n",
        "    $x^{(i)}$, into query, key, and value vectors via matrix\n",
        "    multiplication:\n",
        "\n",
        "    -   Query vector: \\$q^{(i)} = x^{(i)},W_q \\$\n",
        "    -   Key vector: \\$k^{(i)} = x^{(i)},W_k \\$\n",
        "    -   Value vector: \\$v^{(i)} = x^{(i)},W_v \\$\n",
        "\n",
        "-   The embedding dimensions of the input $x$ and the query vector $q$\n",
        "    can be the same or different, depending on the model’s design and\n",
        "    specific implementation\n",
        "\n",
        "-   In GPT models, the input and output dimensions are usually the same,\n",
        "    but for illustration purposes, to better follow the computation, we\n",
        "    choose different input and output dimensions here:"
      ],
      "id": "089dd57d-f10c-41e5-889c-7ea15259be03"
    },
    {
      "cell_type": "code",
      "execution_count": 15,
      "metadata": {},
      "outputs": [],
      "source": [
        "x_2 = inputs[1] # second input element\n",
        "d_in = inputs.shape[1] # the input embedding size, d=3\n",
        "d_out = 2 # the output embedding size, d=2"
      ],
      "id": "8250fdc6-6cd6-4c5b-b9c0-8c643aadb7db"
    },
    {
      "cell_type": "markdown",
      "metadata": {},
      "source": [
        "-   Below, we initialize the three weight matrices; note that we are\n",
        "    setting `requires_grad=False` to reduce clutter in the outputs for\n",
        "    illustration purposes, but if we were to use the weight matrices for\n",
        "    model training, we would set `requires_grad=True` to update these\n",
        "    matrices during model training"
      ],
      "id": "da887bc0-0f60-47a3-9a45-998e9a77960d"
    },
    {
      "cell_type": "code",
      "execution_count": 16,
      "metadata": {},
      "outputs": [],
      "source": [
        "torch.manual_seed(123)\n",
        "\n",
        "W_query = torch.nn.Parameter(torch.rand(d_in, d_out), requires_grad=False)\n",
        "W_key   = torch.nn.Parameter(torch.rand(d_in, d_out), requires_grad=False)\n",
        "W_value = torch.nn.Parameter(torch.rand(d_in, d_out), requires_grad=False)"
      ],
      "id": "bfd7259a-f26c-4cea-b8fc-282b5cae1e00"
    },
    {
      "cell_type": "markdown",
      "metadata": {},
      "source": [
        "-   Next we compute the query, key, and value vectors:"
      ],
      "id": "f7b536c4-3751-4f77-99df-623cab672932"
    },
    {
      "cell_type": "code",
      "execution_count": 17,
      "metadata": {},
      "outputs": [
        {
          "output_type": "stream",
          "name": "stdout",
          "text": [
            "tensor([0.4306, 1.4551])"
          ]
        }
      ],
      "source": [
        "query_2 = x_2 @ W_query # _2 because it's with respect to the 2nd input element\n",
        "key_2 = x_2 @ W_key \n",
        "value_2 = x_2 @ W_value\n",
        "\n",
        "print(query_2)"
      ],
      "id": "73cedd62-01e1-4196-a575-baecc6095601"
    },
    {
      "cell_type": "markdown",
      "metadata": {},
      "source": [
        "-   As we can see below, we successfully projected the 6 input tokens\n",
        "    from a 3D onto a 2D embedding space:"
      ],
      "id": "9b8441bf-0ac2-4542-9f90-7529c36432ec"
    },
    {
      "cell_type": "code",
      "execution_count": 18,
      "metadata": {},
      "outputs": [
        {
          "output_type": "stream",
          "name": "stdout",
          "text": [
            "keys.shape: torch.Size([6, 2])\n",
            "values.shape: torch.Size([6, 2])"
          ]
        }
      ],
      "source": [
        "keys = inputs @ W_key \n",
        "values = inputs @ W_value\n",
        "\n",
        "print(\"keys.shape:\", keys.shape)\n",
        "print(\"values.shape:\", values.shape)"
      ],
      "id": "8c1c3949-fc08-4d19-a41e-1c235b4e631b"
    },
    {
      "cell_type": "markdown",
      "metadata": {},
      "source": [
        "-   In the next step, **step 2**, we compute the unnormalized attention\n",
        "    scores by computing the dot product between the query and each key\n",
        "    vector:\n",
        "\n",
        "<img src=\"https://sebastianraschka.com/images/LLMs-from-scratch-images/ch03_compressed/15.webp\" width=\"600px\">"
      ],
      "id": "bc1f31eb-52c9-4801-bc59-5239d4f9ab7b"
    },
    {
      "cell_type": "code",
      "execution_count": 19,
      "metadata": {},
      "outputs": [
        {
          "output_type": "stream",
          "name": "stdout",
          "text": [
            "tensor(1.8524)"
          ]
        }
      ],
      "source": [
        "keys_2 = keys[1] # Python starts index at 0\n",
        "attn_score_22 = query_2.dot(keys_2)\n",
        "print(attn_score_22)"
      ],
      "id": "64cbc253-a182-4490-a765-246979ea0a28"
    },
    {
      "cell_type": "markdown",
      "metadata": {},
      "source": [
        "-   Since we have 6 inputs, we have 6 attention scores for the given\n",
        "    query vector:"
      ],
      "id": "83983dee-4358-4480-b3f9-9947c5214fdd"
    },
    {
      "cell_type": "code",
      "execution_count": 20,
      "metadata": {},
      "outputs": [
        {
          "output_type": "stream",
          "name": "stdout",
          "text": [
            "tensor([1.2705, 1.8524, 1.8111, 1.0795, 0.5577, 1.5440])"
          ]
        }
      ],
      "source": [
        "attn_scores_2 = query_2 @ keys.T # All attention scores for given query\n",
        "print(attn_scores_2)"
      ],
      "id": "b14e44b5-d170-40f9-8847-8990804af26d"
    },
    {
      "cell_type": "markdown",
      "metadata": {},
      "source": [
        "<img src=\"https://sebastianraschka.com/images/LLMs-from-scratch-images/ch03_compressed/16.webp\" width=\"600px\">\n",
        "\n",
        "-   Next, in **step 3**, we compute the attention weights (normalized\n",
        "    attention scores that sum up to 1) using the softmax function we\n",
        "    used earlier\n",
        "-   The difference to earlier is that we now scale the attention scores\n",
        "    by dividing them by the square root of the embedding dimension,\n",
        "    $\\sqrt{d_k}$ (i.e., `d_k**0.5`):"
      ],
      "id": "1998bb64-fa59-4607-a915-230169e3e720"
    },
    {
      "cell_type": "code",
      "execution_count": 21,
      "metadata": {},
      "outputs": [
        {
          "output_type": "stream",
          "name": "stdout",
          "text": [
            "tensor([0.1500, 0.2264, 0.2199, 0.1311, 0.0906, 0.1820])"
          ]
        }
      ],
      "source": [
        "d_k = keys.shape[1]\n",
        "attn_weights_2 = torch.softmax(attn_scores_2 / d_k**0.5, dim=-1)\n",
        "print(attn_weights_2)"
      ],
      "id": "146f5587-c845-4e30-9894-c7ed3a248153"
    },
    {
      "cell_type": "markdown",
      "metadata": {},
      "source": [
        "<img src=\"https://sebastianraschka.com/images/LLMs-from-scratch-images/ch03_compressed/17.webp\" width=\"600px\">\n",
        "\n",
        "-   In **step 4**, we now compute the context vector for input query\n",
        "    vector 2:"
      ],
      "id": "a79f0374-253b-49d7-8cd0-e1dd35f7b15e"
    },
    {
      "cell_type": "code",
      "execution_count": 22,
      "metadata": {},
      "outputs": [
        {
          "output_type": "stream",
          "name": "stdout",
          "text": [
            "tensor([0.3061, 0.8210])"
          ]
        }
      ],
      "source": [
        "context_vec_2 = attn_weights_2 @ values\n",
        "print(context_vec_2)"
      ],
      "id": "e138f033-fa7e-4e3a-8764-b53a96b26397"
    },
    {
      "cell_type": "markdown",
      "metadata": {},
      "source": [
        "### 3.4.2 Implementing a compact SelfAttention class\n",
        "\n",
        "-   Putting it all together, we can implement the self-attention\n",
        "    mechanism as follows:"
      ],
      "id": "3b579593-1997-484d-9613-7d2b6af743f9"
    },
    {
      "cell_type": "code",
      "execution_count": 23,
      "metadata": {},
      "outputs": [
        {
          "output_type": "stream",
          "name": "stdout",
          "text": [
            "tensor([[0.2996, 0.8053],\n",
            "        [0.3061, 0.8210],\n",
            "        [0.3058, 0.8203],\n",
            "        [0.2948, 0.7939],\n",
            "        [0.2927, 0.7891],\n",
            "        [0.2990, 0.8040]], grad_fn=<MmBackward0>)"
          ]
        }
      ],
      "source": [
        "import torch.nn as nn\n",
        "\n",
        "class SelfAttention_v1(nn.Module):\n",
        "\n",
        "    def __init__(self, d_in, d_out):\n",
        "        super().__init__()\n",
        "        self.W_query = nn.Parameter(torch.rand(d_in, d_out))\n",
        "        self.W_key   = nn.Parameter(torch.rand(d_in, d_out))\n",
        "        self.W_value = nn.Parameter(torch.rand(d_in, d_out))\n",
        "\n",
        "    def forward(self, x):\n",
        "        keys = x @ self.W_key\n",
        "        queries = x @ self.W_query\n",
        "        values = x @ self.W_value\n",
        "        \n",
        "        attn_scores = queries @ keys.T # omega\n",
        "        attn_weights = torch.softmax(\n",
        "            attn_scores / keys.shape[-1]**0.5, dim=-1\n",
        "        )\n",
        "\n",
        "        context_vec = attn_weights @ values\n",
        "        return context_vec\n",
        "\n",
        "torch.manual_seed(123)\n",
        "sa_v1 = SelfAttention_v1(d_in, d_out)\n",
        "print(sa_v1(inputs))"
      ],
      "id": "51590326-cdbe-4e62-93b1-17df71c11ee4"
    },
    {
      "cell_type": "markdown",
      "metadata": {},
      "source": [
        "<img src=\"https://sebastianraschka.com/images/LLMs-from-scratch-images/ch03_compressed/18.webp\" width=\"400px\">\n",
        "\n",
        "-   We can streamline the implementation above using PyTorch’s Linear\n",
        "    layers, which are equivalent to a matrix multiplication if we\n",
        "    disable the bias units\n",
        "-   Another big advantage of using `nn.Linear` over our manual\n",
        "    `nn.Parameter(torch.rand(...)` approach is that `nn.Linear` has a\n",
        "    preferred weight initialization scheme, which leads to more stable\n",
        "    model training"
      ],
      "id": "bcaa7ff1-20cd-4276-82ac-696120e2e7b1"
    },
    {
      "cell_type": "code",
      "execution_count": 24,
      "metadata": {},
      "outputs": [
        {
          "output_type": "stream",
          "name": "stdout",
          "text": [
            "tensor([[-0.0739,  0.0713],\n",
            "        [-0.0748,  0.0703],\n",
            "        [-0.0749,  0.0702],\n",
            "        [-0.0760,  0.0685],\n",
            "        [-0.0763,  0.0679],\n",
            "        [-0.0754,  0.0693]], grad_fn=<MmBackward0>)"
          ]
        }
      ],
      "source": [
        "class SelfAttention_v2(nn.Module):\n",
        "\n",
        "    def __init__(self, d_in, d_out, qkv_bias=False):\n",
        "        super().__init__()\n",
        "        self.W_query = nn.Linear(d_in, d_out, bias=qkv_bias)\n",
        "        self.W_key   = nn.Linear(d_in, d_out, bias=qkv_bias)\n",
        "        self.W_value = nn.Linear(d_in, d_out, bias=qkv_bias)\n",
        "\n",
        "    def forward(self, x):\n",
        "        keys = self.W_key(x)\n",
        "        queries = self.W_query(x)\n",
        "        values = self.W_value(x)\n",
        "        \n",
        "        attn_scores = queries @ keys.T\n",
        "        attn_weights = torch.softmax(attn_scores / keys.shape[-1]**0.5, dim=-1)\n",
        "\n",
        "        context_vec = attn_weights @ values\n",
        "        return context_vec\n",
        "\n",
        "torch.manual_seed(789)\n",
        "sa_v2 = SelfAttention_v2(d_in, d_out)\n",
        "print(sa_v2(inputs))"
      ],
      "id": "73f411e3-e231-464a-89fe-0a9035e5f839"
    },
    {
      "cell_type": "markdown",
      "metadata": {},
      "source": [
        "-   Note that `SelfAttention_v1` and `SelfAttention_v2` give different\n",
        "    outputs because they use different initial weights for the weight\n",
        "    matrices\n",
        "\n",
        "## 3.5 Hiding future words with causal attention\n",
        "\n",
        "-   In causal attention, the attention weights above the diagonal are\n",
        "    masked, ensuring that for any given input, the LLM is unable to\n",
        "    utilize future tokens while calculating the context vectors with the\n",
        "    attention weight\n",
        "\n",
        "<img src=\"https://sebastianraschka.com/images/LLMs-from-scratch-images/ch03_compressed/19.webp\" width=\"400px\">\n",
        "\n",
        "### 3.5.1 Applying a causal attention mask\n",
        "\n",
        "-   In this section, we are converting the previous self-attention\n",
        "    mechanism into a causal self-attention mechanism\n",
        "-   Causal self-attention ensures that the model’s prediction for a\n",
        "    certain position in a sequence is only dependent on the known\n",
        "    outputs at previous positions, not on future positions\n",
        "-   In simpler words, this ensures that each next word prediction should\n",
        "    only depend on the preceding words\n",
        "-   To achieve this, for each given token, we mask out the future tokens\n",
        "    (the ones that come after the current token in the input text):\n",
        "\n",
        "<img src=\"https://sebastianraschka.com/images/LLMs-from-scratch-images/ch03_compressed/20.webp\" width=\"600px\">\n",
        "\n",
        "-   To illustrate and implement causal self-attention, let’s work with\n",
        "    the attention scores and weights from the previous section:"
      ],
      "id": "b0f132e6-f3ba-4cc9-85d6-6cb5c24ba5db"
    },
    {
      "cell_type": "code",
      "execution_count": 25,
      "metadata": {},
      "outputs": [
        {
          "output_type": "stream",
          "name": "stdout",
          "text": [
            "tensor([[0.1921, 0.1646, 0.1652, 0.1550, 0.1721, 0.1510],\n",
            "        [0.2041, 0.1659, 0.1662, 0.1496, 0.1665, 0.1477],\n",
            "        [0.2036, 0.1659, 0.1662, 0.1498, 0.1664, 0.1480],\n",
            "        [0.1869, 0.1667, 0.1668, 0.1571, 0.1661, 0.1564],\n",
            "        [0.1830, 0.1669, 0.1670, 0.1588, 0.1658, 0.1585],\n",
            "        [0.1935, 0.1663, 0.1666, 0.1542, 0.1666, 0.1529]],\n",
            "       grad_fn=<SoftmaxBackward0>)"
          ]
        }
      ],
      "source": [
        "# Reuse the query and key weight matrices of the\n",
        "# SelfAttention_v2 object from the previous section for convenience\n",
        "queries = sa_v2.W_query(inputs)\n",
        "keys = sa_v2.W_key(inputs) \n",
        "attn_scores = queries @ keys.T\n",
        "\n",
        "attn_weights = torch.softmax(attn_scores / keys.shape[-1]**0.5, dim=-1)\n",
        "print(attn_weights)"
      ],
      "id": "1933940d-0fa5-4b17-a3ce-388e5314a1bb"
    },
    {
      "cell_type": "markdown",
      "metadata": {},
      "source": [
        "-   The simplest way to mask out future attention weights is by creating\n",
        "    a mask via PyTorch’s tril function with elements below the main\n",
        "    diagonal (including the diagonal itself) set to 1 and above the main\n",
        "    diagonal set to 0:"
      ],
      "id": "c361d7f6-01df-4dda-874b-a28a183bff41"
    },
    {
      "cell_type": "code",
      "execution_count": 26,
      "metadata": {},
      "outputs": [
        {
          "output_type": "stream",
          "name": "stdout",
          "text": [
            "tensor([[1., 0., 0., 0., 0., 0.],\n",
            "        [1., 1., 0., 0., 0., 0.],\n",
            "        [1., 1., 1., 0., 0., 0.],\n",
            "        [1., 1., 1., 1., 0., 0.],\n",
            "        [1., 1., 1., 1., 1., 0.],\n",
            "        [1., 1., 1., 1., 1., 1.]])"
          ]
        }
      ],
      "source": [
        "context_length = attn_scores.shape[0]\n",
        "mask_simple = torch.tril(torch.ones(context_length, context_length))\n",
        "print(mask_simple)"
      ],
      "id": "43f3d2e3-185b-4184-9f98-edde5e6df746"
    },
    {
      "cell_type": "markdown",
      "metadata": {},
      "source": [
        "-   Then, we can multiply the attention weights with this mask to zero\n",
        "    out the attention scores above the diagonal:"
      ],
      "id": "8f66a76c-0fc8-4801-be7d-423a8417667e"
    },
    {
      "cell_type": "code",
      "execution_count": 27,
      "metadata": {},
      "outputs": [
        {
          "output_type": "stream",
          "name": "stdout",
          "text": [
            "tensor([[0.1921, 0.0000, 0.0000, 0.0000, 0.0000, 0.0000],\n",
            "        [0.2041, 0.1659, 0.0000, 0.0000, 0.0000, 0.0000],\n",
            "        [0.2036, 0.1659, 0.1662, 0.0000, 0.0000, 0.0000],\n",
            "        [0.1869, 0.1667, 0.1668, 0.1571, 0.0000, 0.0000],\n",
            "        [0.1830, 0.1669, 0.1670, 0.1588, 0.1658, 0.0000],\n",
            "        [0.1935, 0.1663, 0.1666, 0.1542, 0.1666, 0.1529]],\n",
            "       grad_fn=<MulBackward0>)"
          ]
        }
      ],
      "source": [
        "masked_simple = attn_weights*mask_simple\n",
        "print(masked_simple)"
      ],
      "id": "9f531e2e-f4d2-4fea-a87f-4c132e48b9e7"
    },
    {
      "cell_type": "markdown",
      "metadata": {},
      "source": [
        "-   However, if the mask were applied after softmax, like above, it\n",
        "    would disrupt the probability distribution created by softmax\n",
        "\n",
        "-   Softmax ensures that all output values sum to 1\n",
        "\n",
        "-   Masking after softmax would require re-normalizing the outputs to\n",
        "    sum to 1 again, which complicates the process and might lead to\n",
        "    unintended effects\n",
        "\n",
        "-   To make sure that the rows sum to 1, we can normalize the attention\n",
        "    weights as follows:"
      ],
      "id": "9efe196c-49d8-4888-95a3-7302168fbfd8"
    },
    {
      "cell_type": "code",
      "execution_count": 28,
      "metadata": {},
      "outputs": [
        {
          "output_type": "stream",
          "name": "stdout",
          "text": [
            "tensor([[1.0000, 0.0000, 0.0000, 0.0000, 0.0000, 0.0000],\n",
            "        [0.5517, 0.4483, 0.0000, 0.0000, 0.0000, 0.0000],\n",
            "        [0.3800, 0.3097, 0.3103, 0.0000, 0.0000, 0.0000],\n",
            "        [0.2758, 0.2460, 0.2462, 0.2319, 0.0000, 0.0000],\n",
            "        [0.2175, 0.1983, 0.1984, 0.1888, 0.1971, 0.0000],\n",
            "        [0.1935, 0.1663, 0.1666, 0.1542, 0.1666, 0.1529]],\n",
            "       grad_fn=<DivBackward0>)"
          ]
        }
      ],
      "source": [
        "row_sums = masked_simple.sum(dim=-1, keepdim=True)\n",
        "masked_simple_norm = masked_simple / row_sums\n",
        "print(masked_simple_norm)"
      ],
      "id": "6d392083-fd81-4f70-9bdf-8db985e673d6"
    },
    {
      "cell_type": "markdown",
      "metadata": {},
      "source": [
        "-   While we are technically done with coding the causal attention\n",
        "    mechanism now, let’s briefly look at a more efficient approach to\n",
        "    achieve the same as above\n",
        "-   So, instead of zeroing out attention weights above the diagonal and\n",
        "    renormalizing the results, we can mask the unnormalized attention\n",
        "    scores above the diagonal with negative infinity before they enter\n",
        "    the softmax function:\n",
        "\n",
        "<img src=\"https://sebastianraschka.com/images/LLMs-from-scratch-images/ch03_compressed/21.webp\" width=\"450px\">"
      ],
      "id": "b73dc362-5c3f-4a4f-ab30-d0b957848582"
    },
    {
      "cell_type": "code",
      "execution_count": 29,
      "metadata": {},
      "outputs": [
        {
          "output_type": "stream",
          "name": "stdout",
          "text": [
            "tensor([[0.2899,   -inf,   -inf,   -inf,   -inf,   -inf],\n",
            "        [0.4656, 0.1723,   -inf,   -inf,   -inf,   -inf],\n",
            "        [0.4594, 0.1703, 0.1731,   -inf,   -inf,   -inf],\n",
            "        [0.2642, 0.1024, 0.1036, 0.0186,   -inf,   -inf],\n",
            "        [0.2183, 0.0874, 0.0882, 0.0177, 0.0786,   -inf],\n",
            "        [0.3408, 0.1270, 0.1290, 0.0198, 0.1290, 0.0078]],\n",
            "       grad_fn=<MaskedFillBackward0>)"
          ]
        }
      ],
      "source": [
        "mask = torch.triu(torch.ones(context_length, context_length), diagonal=1)\n",
        "masked = attn_scores.masked_fill(mask.bool(), -torch.inf)\n",
        "print(masked)"
      ],
      "id": "a2be2f43-9cf0-44f6-8d8b-68ef2fb3cc39"
    },
    {
      "cell_type": "markdown",
      "metadata": {},
      "source": [
        "-   As we can see below, now the attention weights in each row correctly\n",
        "    sum to 1 again:"
      ],
      "id": "a18167ea-e509-491c-a316-118ee9432472"
    },
    {
      "cell_type": "code",
      "execution_count": 30,
      "metadata": {},
      "outputs": [
        {
          "output_type": "stream",
          "name": "stdout",
          "text": [
            "tensor([[1.0000, 0.0000, 0.0000, 0.0000, 0.0000, 0.0000],\n",
            "        [0.5517, 0.4483, 0.0000, 0.0000, 0.0000, 0.0000],\n",
            "        [0.3800, 0.3097, 0.3103, 0.0000, 0.0000, 0.0000],\n",
            "        [0.2758, 0.2460, 0.2462, 0.2319, 0.0000, 0.0000],\n",
            "        [0.2175, 0.1983, 0.1984, 0.1888, 0.1971, 0.0000],\n",
            "        [0.1935, 0.1663, 0.1666, 0.1542, 0.1666, 0.1529]],\n",
            "       grad_fn=<SoftmaxBackward0>)"
          ]
        }
      ],
      "source": [
        "attn_weights = torch.softmax(masked / keys.shape[-1]**0.5, dim=-1)\n",
        "print(attn_weights)"
      ],
      "id": "b1cd6d7f-16f2-43c1-915e-0824f1a4bc52"
    },
    {
      "cell_type": "markdown",
      "metadata": {},
      "source": [
        "### 3.5.2 Masking additional attention weights with dropout\n",
        "\n",
        "-   In addition, we also apply dropout to reduce overfitting during\n",
        "    training\n",
        "\n",
        "-   Dropout can be applied in several places:\n",
        "\n",
        "    -   for example, after computing the attention weights;\n",
        "    -   or after multiplying the attention weights with the value\n",
        "        vectors\n",
        "\n",
        "-   Here, we will apply the dropout mask after computing the attention\n",
        "    weights because it’s more common\n",
        "\n",
        "-   Furthermore, in this specific example, we use a dropout rate of 50%,\n",
        "    which means randomly masking out half of the attention weights.\n",
        "    (When we train the GPT model later, we will use a lower dropout\n",
        "    rate, such as 0.1 or 0.2\n",
        "\n",
        "<img src=\"https://sebastianraschka.com/images/LLMs-from-scratch-images/ch03_compressed/22.webp\" width=\"400px\">\n",
        "\n",
        "-   If we apply a dropout rate of 0.5 (50%), the non-dropped values will\n",
        "    be scaled accordingly by a factor of 1/0.5 = 2\n",
        "-   The scaling is calculated by the formula 1 / (1 - `dropout_rate`)"
      ],
      "id": "e77042c7-27ae-4934-ad2f-b53ac1618795"
    },
    {
      "cell_type": "code",
      "execution_count": 31,
      "metadata": {},
      "outputs": [
        {
          "output_type": "stream",
          "name": "stdout",
          "text": [
            "tensor([[2., 2., 0., 2., 2., 0.],\n",
            "        [0., 0., 0., 2., 0., 2.],\n",
            "        [2., 2., 2., 2., 0., 2.],\n",
            "        [0., 2., 2., 0., 0., 2.],\n",
            "        [0., 2., 0., 2., 0., 2.],\n",
            "        [0., 2., 2., 2., 2., 0.]])"
          ]
        }
      ],
      "source": [
        "torch.manual_seed(123)\n",
        "dropout = torch.nn.Dropout(0.5) # dropout rate of 50%\n",
        "example = torch.ones(6, 6) # create a matrix of ones\n",
        "\n",
        "print(dropout(example))"
      ],
      "id": "0de578db-8289-41d6-b377-ef645751e33f"
    },
    {
      "cell_type": "code",
      "execution_count": 32,
      "metadata": {},
      "outputs": [
        {
          "output_type": "stream",
          "name": "stdout",
          "text": [
            "tensor([[2.0000, 0.0000, 0.0000, 0.0000, 0.0000, 0.0000],\n",
            "        [0.0000, 0.0000, 0.0000, 0.0000, 0.0000, 0.0000],\n",
            "        [0.7599, 0.6194, 0.6206, 0.0000, 0.0000, 0.0000],\n",
            "        [0.0000, 0.4921, 0.4925, 0.0000, 0.0000, 0.0000],\n",
            "        [0.0000, 0.3966, 0.0000, 0.3775, 0.0000, 0.0000],\n",
            "        [0.0000, 0.3327, 0.3331, 0.3084, 0.3331, 0.0000]],\n",
            "       grad_fn=<MulBackward0>)"
          ]
        }
      ],
      "source": [
        "torch.manual_seed(123)\n",
        "print(dropout(attn_weights))"
      ],
      "id": "b16c5edb-942b-458c-8e95-25e4e355381e"
    },
    {
      "cell_type": "markdown",
      "metadata": {},
      "source": [
        "-   Note that the resulting dropout outputs may look different depending\n",
        "    on your operating system; you can read more about this inconsistency\n",
        "    [here on the PyTorch issue\n",
        "    tracker](https://github.com/pytorch/pytorch/issues/121595)\n",
        "\n",
        "### 3.5.3 Implementing a compact causal self-attention class\n",
        "\n",
        "-   Now, we are ready to implement a working implementation of\n",
        "    self-attention, including the causal and dropout masks\n",
        "-   One more thing is to implement the code to handle batches consisting\n",
        "    of more than one input so that our `CausalAttention` class supports\n",
        "    the batch outputs produced by the data loader we implemented in\n",
        "    chapter 2\n",
        "-   For simplicity, to simulate such batch input, we duplicate the input\n",
        "    text example:"
      ],
      "id": "bd50c3dd-d105-4cbc-a6eb-b0fc77810629"
    },
    {
      "cell_type": "code",
      "execution_count": 33,
      "metadata": {},
      "outputs": [
        {
          "output_type": "stream",
          "name": "stdout",
          "text": [
            "torch.Size([2, 6, 3])"
          ]
        }
      ],
      "source": [
        "batch = torch.stack((inputs, inputs), dim=0)\n",
        "print(batch.shape) # 2 inputs with 6 tokens each, and each token has embedding dimension 3"
      ],
      "id": "977a5fa7-a9d5-4e2e-8a32-8e0331ccfe28"
    },
    {
      "cell_type": "code",
      "execution_count": 34,
      "metadata": {},
      "outputs": [
        {
          "output_type": "stream",
          "name": "stdout",
          "text": [
            "tensor([[[-0.4519,  0.2216],\n",
            "         [-0.5874,  0.0058],\n",
            "         [-0.6300, -0.0632],\n",
            "         [-0.5675, -0.0843],\n",
            "         [-0.5526, -0.0981],\n",
            "         [-0.5299, -0.1081]],\n",
            "\n",
            "        [[-0.4519,  0.2216],\n",
            "         [-0.5874,  0.0058],\n",
            "         [-0.6300, -0.0632],\n",
            "         [-0.5675, -0.0843],\n",
            "         [-0.5526, -0.0981],\n",
            "         [-0.5299, -0.1081]]], grad_fn=<UnsafeViewBackward0>)\n",
            "context_vecs.shape: torch.Size([2, 6, 2])"
          ]
        }
      ],
      "source": [
        "class CausalAttention(nn.Module):\n",
        "\n",
        "    def __init__(self, d_in, d_out, context_length,\n",
        "                 dropout, qkv_bias=False):\n",
        "        super().__init__()\n",
        "        self.d_out = d_out\n",
        "        self.W_query = nn.Linear(d_in, d_out, bias=qkv_bias)\n",
        "        self.W_key   = nn.Linear(d_in, d_out, bias=qkv_bias)\n",
        "        self.W_value = nn.Linear(d_in, d_out, bias=qkv_bias)\n",
        "        self.dropout = nn.Dropout(dropout) # New\n",
        "        self.register_buffer('mask', torch.triu(torch.ones(context_length, context_length), diagonal=1)) # New\n",
        "\n",
        "    def forward(self, x):\n",
        "        b, num_tokens, d_in = x.shape # New batch dimension b\n",
        "        # For inputs where `num_tokens` exceeds `context_length`, this will result in errors\n",
        "        # in the mask creation further below.\n",
        "        # In practice, this is not a problem since the LLM (chapters 4-7) ensures that inputs  \n",
        "        # do not exceed `context_length` before reaching this forward method. \n",
        "        keys = self.W_key(x)\n",
        "        queries = self.W_query(x)\n",
        "        values = self.W_value(x)\n",
        "\n",
        "        attn_scores = queries @ keys.transpose(1, 2) # Changed transpose\n",
        "        attn_scores.masked_fill_(  # New, _ ops are in-place\n",
        "            self.mask.bool()[:num_tokens, :num_tokens], -torch.inf)  # `:num_tokens` to account for cases where the number of tokens in the batch is smaller than the supported context_size\n",
        "        attn_weights = torch.softmax(\n",
        "            attn_scores / keys.shape[-1]**0.5, dim=-1\n",
        "        )\n",
        "        attn_weights = self.dropout(attn_weights) # New\n",
        "\n",
        "        context_vec = attn_weights @ values\n",
        "        return context_vec\n",
        "\n",
        "torch.manual_seed(123)\n",
        "\n",
        "context_length = batch.shape[1]\n",
        "ca = CausalAttention(d_in, d_out, context_length, 0.0)\n",
        "\n",
        "context_vecs = ca(batch)\n",
        "\n",
        "print(context_vecs)\n",
        "print(\"context_vecs.shape:\", context_vecs.shape)"
      ],
      "id": "60d8c2eb-2d8e-4d2c-99bc-9eef8cc53ca0"
    },
    {
      "cell_type": "markdown",
      "metadata": {},
      "source": [
        "-   Note that dropout is only applied during training, not during\n",
        "    inference\n",
        "\n",
        "<img src=\"https://sebastianraschka.com/images/LLMs-from-scratch-images/ch03_compressed/23.webp\" width=\"500px\">\n",
        "\n",
        "## 3.6 Extending single-head attention to multi-head attention\n",
        "\n",
        "### 3.6.1 Stacking multiple single-head attention layers\n",
        "\n",
        "-   Below is a summary of the self-attention implemented previously\n",
        "    (causal and dropout masks not shown for simplicity)\n",
        "\n",
        "-   This is also called single-head attention:\n",
        "\n",
        "<img src=\"https://sebastianraschka.com/images/LLMs-from-scratch-images/ch03_compressed/24.webp\" width=\"400px\">\n",
        "\n",
        "-   We simply stack multiple single-head attention modules to obtain a\n",
        "    multi-head attention module:\n",
        "\n",
        "<img src=\"https://sebastianraschka.com/images/LLMs-from-scratch-images/ch03_compressed/25.webp\" width=\"400px\">\n",
        "\n",
        "-   The main idea behind multi-head attention is to run the attention\n",
        "    mechanism multiple times (in parallel) with different, learned\n",
        "    linear projections. This allows the model to jointly attend to\n",
        "    information from different representation subspaces at different\n",
        "    positions."
      ],
      "id": "1c69a38c-418e-4de7-94b7-4461c54537ab"
    },
    {
      "cell_type": "code",
      "execution_count": 35,
      "metadata": {},
      "outputs": [
        {
          "output_type": "stream",
          "name": "stdout",
          "text": [
            "tensor([[[-0.4519,  0.2216,  0.4772,  0.1063],\n",
            "         [-0.5874,  0.0058,  0.5891,  0.3257],\n",
            "         [-0.6300, -0.0632,  0.6202,  0.3860],\n",
            "         [-0.5675, -0.0843,  0.5478,  0.3589],\n",
            "         [-0.5526, -0.0981,  0.5321,  0.3428],\n",
            "         [-0.5299, -0.1081,  0.5077,  0.3493]],\n",
            "\n",
            "        [[-0.4519,  0.2216,  0.4772,  0.1063],\n",
            "         [-0.5874,  0.0058,  0.5891,  0.3257],\n",
            "         [-0.6300, -0.0632,  0.6202,  0.3860],\n",
            "         [-0.5675, -0.0843,  0.5478,  0.3589],\n",
            "         [-0.5526, -0.0981,  0.5321,  0.3428],\n",
            "         [-0.5299, -0.1081,  0.5077,  0.3493]]], grad_fn=<CatBackward0>)\n",
            "context_vecs.shape: torch.Size([2, 6, 4])"
          ]
        }
      ],
      "source": [
        "class MultiHeadAttentionWrapper(nn.Module):\n",
        "\n",
        "    def __init__(self, d_in, d_out, context_length, dropout, num_heads, qkv_bias=False):\n",
        "        super().__init__()\n",
        "        self.heads = nn.ModuleList(\n",
        "            [CausalAttention(d_in, d_out, context_length, dropout, qkv_bias) \n",
        "             for _ in range(num_heads)]\n",
        "        )\n",
        "\n",
        "    def forward(self, x):\n",
        "        return torch.cat([head(x) for head in self.heads], dim=-1)\n",
        "\n",
        "\n",
        "torch.manual_seed(123)\n",
        "\n",
        "context_length = batch.shape[1] # This is the number of tokens\n",
        "d_in, d_out = 3, 2\n",
        "mha = MultiHeadAttentionWrapper(\n",
        "    d_in, d_out, context_length, 0.0, num_heads=2\n",
        ")\n",
        "\n",
        "context_vecs = mha(batch)\n",
        "\n",
        "print(context_vecs)\n",
        "print(\"context_vecs.shape:\", context_vecs.shape)"
      ],
      "id": "b9a66e11-7105-4bb4-be84-041f1a1f3bd2"
    },
    {
      "cell_type": "markdown",
      "metadata": {},
      "source": [
        "-   In the implementation above, the embedding dimension is 4, because\n",
        "    we `d_out=2` as the embedding dimension for the key, query, and\n",
        "    value vectors as well as the context vector. And since we have 2\n",
        "    attention heads, we have the output embedding dimension 2\\*2=4\n",
        "\n",
        "### 3.6.2 Implementing multi-head attention with weight splits\n",
        "\n",
        "-   While the above is an intuitive and fully functional implementation\n",
        "    of multi-head attention (wrapping the single-head attention\n",
        "    `CausalAttention` implementation from earlier), we can write a\n",
        "    stand-alone class called `MultiHeadAttention` to achieve the same\n",
        "\n",
        "-   We don’t concatenate single attention heads for this stand-alone\n",
        "    `MultiHeadAttention` class\n",
        "\n",
        "-   Instead, we create single W_query, W_key, and W_value weight\n",
        "    matrices and then split those into individual matrices for each\n",
        "    attention head:"
      ],
      "id": "b31b7376-5f66-47ae-a694-4611c90027c6"
    },
    {
      "cell_type": "code",
      "execution_count": 36,
      "metadata": {},
      "outputs": [
        {
          "output_type": "stream",
          "name": "stdout",
          "text": [
            "tensor([[[0.3190, 0.4858],\n",
            "         [0.2943, 0.3897],\n",
            "         [0.2856, 0.3593],\n",
            "         [0.2693, 0.3873],\n",
            "         [0.2639, 0.3928],\n",
            "         [0.2575, 0.4028]],\n",
            "\n",
            "        [[0.3190, 0.4858],\n",
            "         [0.2943, 0.3897],\n",
            "         [0.2856, 0.3593],\n",
            "         [0.2693, 0.3873],\n",
            "         [0.2639, 0.3928],\n",
            "         [0.2575, 0.4028]]], grad_fn=<ViewBackward0>)\n",
            "context_vecs.shape: torch.Size([2, 6, 2])"
          ]
        }
      ],
      "source": [
        "class MultiHeadAttention(nn.Module):\n",
        "    def __init__(self, d_in, d_out, context_length, dropout, num_heads, qkv_bias=False):\n",
        "        super().__init__()\n",
        "        assert (d_out % num_heads == 0), \\\n",
        "            \"d_out must be divisible by num_heads\"\n",
        "\n",
        "        self.d_out = d_out\n",
        "        self.num_heads = num_heads\n",
        "        self.head_dim = d_out // num_heads # Reduce the projection dim to match desired output dim\n",
        "\n",
        "        self.W_query = nn.Linear(d_in, d_out, bias=qkv_bias)\n",
        "        self.W_key = nn.Linear(d_in, d_out, bias=qkv_bias)\n",
        "        self.W_value = nn.Linear(d_in, d_out, bias=qkv_bias)\n",
        "        self.out_proj = nn.Linear(d_out, d_out)  # Linear layer to combine head outputs\n",
        "        self.dropout = nn.Dropout(dropout)\n",
        "        self.register_buffer(\n",
        "            \"mask\",\n",
        "            torch.triu(torch.ones(context_length, context_length),\n",
        "                       diagonal=1)\n",
        "        )\n",
        "\n",
        "    def forward(self, x):\n",
        "        b, num_tokens, d_in = x.shape\n",
        "        # As in `CausalAttention`, for inputs where `num_tokens` exceeds `context_length`, \n",
        "        # this will result in errors in the mask creation further below. \n",
        "        # In practice, this is not a problem since the LLM (chapters 4-7) ensures that inputs  \n",
        "        # do not exceed `context_length` before reaching this forwar\n",
        "\n",
        "        keys = self.W_key(x) # Shape: (b, num_tokens, d_out)\n",
        "        queries = self.W_query(x)\n",
        "        values = self.W_value(x)\n",
        "\n",
        "        # We implicitly split the matrix by adding a `num_heads` dimension\n",
        "        # Unroll last dim: (b, num_tokens, d_out) -> (b, num_tokens, num_heads, head_dim)\n",
        "        keys = keys.view(b, num_tokens, self.num_heads, self.head_dim) \n",
        "        values = values.view(b, num_tokens, self.num_heads, self.head_dim)\n",
        "        queries = queries.view(b, num_tokens, self.num_heads, self.head_dim)\n",
        "\n",
        "        # Transpose: (b, num_tokens, num_heads, head_dim) -> (b, num_heads, num_tokens, head_dim)\n",
        "        keys = keys.transpose(1, 2)\n",
        "        queries = queries.transpose(1, 2)\n",
        "        values = values.transpose(1, 2)\n",
        "\n",
        "        # Compute scaled dot-product attention (aka self-attention) with a causal mask\n",
        "        attn_scores = queries @ keys.transpose(2, 3)  # Dot product for each head\n",
        "\n",
        "        # Original mask truncated to the number of tokens and converted to boolean\n",
        "        mask_bool = self.mask.bool()[:num_tokens, :num_tokens]\n",
        "\n",
        "        # Use the mask to fill attention scores\n",
        "        attn_scores.masked_fill_(mask_bool, -torch.inf)\n",
        "        \n",
        "        attn_weights = torch.softmax(attn_scores / keys.shape[-1]**0.5, dim=-1)\n",
        "        attn_weights = self.dropout(attn_weights)\n",
        "\n",
        "        # Shape: (b, num_tokens, num_heads, head_dim)\n",
        "        context_vec = (attn_weights @ values).transpose(1, 2) \n",
        "        \n",
        "        # Combine heads, where self.d_out = self.num_heads * self.head_dim\n",
        "        context_vec = context_vec.contiguous().view(b, num_tokens, self.d_out)\n",
        "        context_vec = self.out_proj(context_vec) # optional projection\n",
        "\n",
        "        return context_vec\n",
        "\n",
        "torch.manual_seed(123)\n",
        "\n",
        "batch_size, context_length, d_in = batch.shape\n",
        "d_out = 2\n",
        "mha = MultiHeadAttention(d_in, d_out, context_length, 0.0, num_heads=2)\n",
        "\n",
        "context_vecs = mha(batch)\n",
        "\n",
        "print(context_vecs)\n",
        "print(\"context_vecs.shape:\", context_vecs.shape)"
      ],
      "id": "110b0188-6e9e-4e56-a988-10523c6c8538"
    },
    {
      "cell_type": "markdown",
      "metadata": {},
      "source": [
        "-   Note that the above is essentially a rewritten version of\n",
        "    `MultiHeadAttentionWrapper` that is more efficient\n",
        "-   The resulting output looks a bit different since the random weight\n",
        "    initializations differ, but both are fully functional\n",
        "    implementations that can be used in the GPT class we will implement\n",
        "    in the upcoming chapters\n",
        "-   Note that in addition, we added a linear projection layer\n",
        "    (`self.out_proj`) to the `MultiHeadAttention` class above. This is\n",
        "    simply a linear transformation that doesn’t change the dimensions.\n",
        "    It’s a standard convention to use such a projection layer in LLM\n",
        "    implementation, but it’s not strictly necessary (recent research has\n",
        "    shown that it can be removed without affecting the modeling\n",
        "    performance; see the further reading section at the end of this\n",
        "    chapter)\n",
        "\n",
        "<img src=\"https://sebastianraschka.com/images/LLMs-from-scratch-images/ch03_compressed/26.webp\" width=\"400px\">\n",
        "\n",
        "-   Note that if you are interested in a compact and efficient\n",
        "    implementation of the above, you can also consider the\n",
        "    [`torch.nn.MultiheadAttention`](https://pytorch.org/docs/stable/generated/torch.nn.MultiheadAttention.html)\n",
        "    class in PyTorch\n",
        "\n",
        "-   Since the above implementation may look a bit complex at first\n",
        "    glance, let’s look at what happens when executing\n",
        "    `attn_scores = queries @ keys.transpose(2, 3)`:"
      ],
      "id": "3c87db59-de84-4887-8230-a3a9f63e6c78"
    },
    {
      "cell_type": "code",
      "execution_count": 37,
      "metadata": {},
      "outputs": [
        {
          "output_type": "stream",
          "name": "stdout",
          "text": [
            "tensor([[[[1.3208, 1.1631, 1.2879],\n",
            "          [1.1631, 2.2150, 1.8424],\n",
            "          [1.2879, 1.8424, 2.0402]],\n",
            "\n",
            "         [[0.4391, 0.7003, 0.5903],\n",
            "          [0.7003, 1.3737, 1.0620],\n",
            "          [0.5903, 1.0620, 0.9912]]]])"
          ]
        }
      ],
      "source": [
        "# (b, num_heads, num_tokens, head_dim) = (1, 2, 3, 4)\n",
        "a = torch.tensor([[[[0.2745, 0.6584, 0.2775, 0.8573],\n",
        "                    [0.8993, 0.0390, 0.9268, 0.7388],\n",
        "                    [0.7179, 0.7058, 0.9156, 0.4340]],\n",
        "\n",
        "                   [[0.0772, 0.3565, 0.1479, 0.5331],\n",
        "                    [0.4066, 0.2318, 0.4545, 0.9737],\n",
        "                    [0.4606, 0.5159, 0.4220, 0.5786]]]])\n",
        "\n",
        "print(a @ a.transpose(2, 3))"
      ],
      "id": "e8cfc1ae-78ab-4faa-bc73-98bd054806c9"
    },
    {
      "cell_type": "markdown",
      "metadata": {},
      "source": [
        "-   In this case, the matrix multiplication implementation in PyTorch\n",
        "    will handle the 4-dimensional input tensor so that the matrix\n",
        "    multiplication is carried out between the 2 last dimensions\n",
        "    (num_tokens, head_dim) and then repeated for the individual heads\n",
        "\n",
        "-   For instance, the following becomes a more compact way to compute\n",
        "    the matrix multiplication for each head separately:"
      ],
      "id": "f11e65e7-39f7-4924-b837-8de9e3ad1ef0"
    },
    {
      "cell_type": "code",
      "execution_count": 38,
      "metadata": {},
      "outputs": [
        {
          "output_type": "stream",
          "name": "stdout",
          "text": [
            "First head:\n",
            " tensor([[1.3208, 1.1631, 1.2879],\n",
            "        [1.1631, 2.2150, 1.8424],\n",
            "        [1.2879, 1.8424, 2.0402]])\n",
            "\n",
            "Second head:\n",
            " tensor([[0.4391, 0.7003, 0.5903],\n",
            "        [0.7003, 1.3737, 1.0620],\n",
            "        [0.5903, 1.0620, 0.9912]])"
          ]
        }
      ],
      "source": [
        "first_head = a[0, 0, :, :]\n",
        "first_res = first_head @ first_head.T\n",
        "print(\"First head:\\n\", first_res)\n",
        "\n",
        "second_head = a[0, 1, :, :]\n",
        "second_res = second_head @ second_head.T\n",
        "print(\"\\nSecond head:\\n\", second_res)"
      ],
      "id": "053760f1-1a02-42f0-b3bf-3d939e407039"
    },
    {
      "cell_type": "markdown",
      "metadata": {},
      "source": [
        "# Summary and takeaways\n",
        "\n",
        "-   See the [./multihead-attention.ipynb](./multihead-attention.ipynb)\n",
        "    code notebook, which is a concise version of the data loader\n",
        "    (chapter 2) plus the multi-head attention class that we implemented\n",
        "    in this chapter and will need for training the GPT model in upcoming\n",
        "    chapters\n",
        "-   You can find the exercise solutions in\n",
        "    [./exercise-solutions.ipynb](./exercise-solutions.ipynb)"
      ],
      "id": "57df4a4b-3c85-4c8a-9dca-fbdfa4169327"
    }
  ],
  "nbformat": 4,
  "nbformat_minor": 5,
  "metadata": {
    "kernelspec": {
      "name": "python3",
      "display_name": "Python 3 (ipykernel)",
      "language": "python"
    },
    "language_info": {
      "name": "python",
      "codemirror_mode": {
        "name": "ipython",
        "version": "3"
      },
      "file_extension": ".py",
      "mimetype": "text/x-python",
      "nbconvert_exporter": "python",
      "pygments_lexer": "ipython3",
      "version": "3.11.13"
    }
  }
}