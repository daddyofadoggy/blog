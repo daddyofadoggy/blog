{
  "cells": [
    {
      "cell_type": "markdown",
      "metadata": {},
      "source": [
        "#"
      ],
      "id": "c2ab0a37-e3d1-4c44-8d37-38009f957db6"
    },
    {
      "cell_type": "code",
      "execution_count": 1,
      "metadata": {
        "outputId": "bcdfe2cb-d084-4920-d703-503131aabec3",
        "quarto-private-1": {
          "key": "colab",
          "value": {
            "base_uri": "https://localhost:8080/"
          }
        }
      },
      "outputs": [
        {
          "output_type": "stream",
          "name": "stdout",
          "text": [
            "numpy version: 2.0.2\n",
            "matplotlib version: 3.10.0\n",
            "tiktoken version: 0.8.0\n",
            "torch version: 2.5.1+cu124\n",
            "tqdm version: 4.67.1\n",
            "tensorflow version: 2.18.0"
          ]
        }
      ],
      "source": [
        "from importlib.metadata import version\n",
        "\n",
        "pkgs = [\n",
        "    \"numpy\",       # PyTorch & TensorFlow dependency\n",
        "    \"matplotlib\",  # Plotting library\n",
        "    \"tiktoken\",    # Tokenizer\n",
        "    \"torch\",       # Deep learning library\n",
        "    \"tqdm\",        # Progress bar\n",
        "    \"tensorflow\",  # For OpenAI's pretrained weights\n",
        "]\n",
        "for p in pkgs:\n",
        "    print(f\"{p} version: {version(p)}\")"
      ],
      "id": "4e19327b-6c02-4881-ad02-9b6d3ec0b1b4"
    },
    {
      "cell_type": "markdown",
      "metadata": {},
      "source": [
        "<img src=\"https://sebastianraschka.com/images/LLMs-from-scratch-images/ch07_compressed/overview.webp?1\" width=500px>\n",
        "\n",
        "## 7.1 Introduction to instruction finetuning\n",
        "\n",
        "-   In chapter 5, we saw that pretraining an LLM involves a training\n",
        "    procedure where it learns to generate one word at a time\n",
        "-   Hence, a pretrained LLM is good at text completion, but it is not\n",
        "    good at following instructions\n",
        "-   In this chapter, we teach the LLM to follow instructions better\n",
        "\n",
        "<img src=\"https://sebastianraschka.com/images/LLMs-from-scratch-images/ch07_compressed/instruction-following.webp\" width=500px>\n",
        "\n",
        "-   The topics covered in this chapter are summarized in the figure\n",
        "    below\n",
        "\n",
        "<img src=\"https://sebastianraschka.com/images/LLMs-from-scratch-images/ch07_compressed/chapter-overview-1.webp?1\" width=500px>\n",
        "\n",
        "## 7.2 Preparing a dataset for supervised instruction finetuning\n",
        "\n",
        "-   We will work with an instruction dataset I prepared for this chapter"
      ],
      "id": "c47f3c46-1ae3-4222-a290-6efeb486572e"
    },
    {
      "cell_type": "code",
      "execution_count": 2,
      "metadata": {
        "outputId": "07e1e4f9-026c-48c1-8a06-f2bfb1fb354e",
        "quarto-private-1": {
          "key": "colab",
          "value": {
            "base_uri": "https://localhost:8080/"
          }
        }
      },
      "outputs": [
        {
          "output_type": "stream",
          "name": "stdout",
          "text": [
            "Number of entries: 1100"
          ]
        }
      ],
      "source": [
        "import json\n",
        "import os\n",
        "import urllib\n",
        "\n",
        "\n",
        "def download_and_load_file(file_path, url):\n",
        "\n",
        "    if not os.path.exists(file_path):\n",
        "        with urllib.request.urlopen(url) as response:\n",
        "            text_data = response.read().decode(\"utf-8\")\n",
        "        with open(file_path, \"w\", encoding=\"utf-8\") as file:\n",
        "            file.write(text_data)\n",
        "\n",
        "    # The book originally contained this unnecessary \"else\" clause:\n",
        "    #else:\n",
        "    #    with open(file_path, \"r\", encoding=\"utf-8\") as file:\n",
        "    #        text_data = file.read()\n",
        "\n",
        "    with open(file_path, \"r\", encoding=\"utf-8\") as file:\n",
        "        data = json.load(file)\n",
        "\n",
        "    return data\n",
        "\n",
        "\n",
        "file_path = \"instruction-data.json\"\n",
        "url = (\n",
        "    \"https://raw.githubusercontent.com/rasbt/LLMs-from-scratch\"\n",
        "    \"/main/ch07/01_main-chapter-code/instruction-data.json\"\n",
        ")\n",
        "\n",
        "data = download_and_load_file(file_path, url)\n",
        "print(\"Number of entries:\", len(data))"
      ],
      "id": "0G3axLw6kY1N"
    },
    {
      "cell_type": "markdown",
      "metadata": {},
      "source": [
        "-   Each item in the `data` list we loaded from the JSON file above is a\n",
        "    dictionary in the following form"
      ],
      "id": "26acaded-7fc1-4d58-a91f-775c9eae9d5f"
    },
    {
      "cell_type": "code",
      "execution_count": 3,
      "metadata": {
        "outputId": "a4ee5c2d-db53-4a80-e5ee-0bbcf6fe0450",
        "quarto-private-1": {
          "key": "colab",
          "value": {
            "base_uri": "https://localhost:8080/"
          }
        }
      },
      "outputs": [
        {
          "output_type": "stream",
          "name": "stdout",
          "text": [
            "Example entry:\n",
            " {'instruction': 'Identify the correct spelling of the following word.', 'input': 'Ocassion', 'output': \"The correct spelling is 'Occasion.'\"}"
          ]
        }
      ],
      "source": [
        "print(\"Example entry:\\n\", data[50])"
      ],
      "id": "-LiuBMsHkzQV"
    },
    {
      "cell_type": "markdown",
      "metadata": {},
      "source": [
        "-   Note that the `'input'` field can be empty:"
      ],
      "id": "548f3cac-2a32-45a2-92ce-ad1031319aeb"
    },
    {
      "cell_type": "code",
      "execution_count": 4,
      "metadata": {
        "outputId": "b4f84027-bb9e-4e51-b79e-1329c8bff093",
        "quarto-private-1": {
          "key": "colab",
          "value": {
            "base_uri": "https://localhost:8080/"
          }
        }
      },
      "outputs": [
        {
          "output_type": "stream",
          "name": "stdout",
          "text": [
            "Another example entry:\n",
            " {'instruction': \"What is an antonym of 'complicated'?\", 'input': '', 'output': \"An antonym of 'complicated' is 'simple'.\"}"
          ]
        }
      ],
      "source": [
        "print(\"Another example entry:\\n\", data[999])"
      ],
      "id": "uFInFxDDk2Je"
    },
    {
      "cell_type": "markdown",
      "metadata": {},
      "source": [
        "-   Instruction finetuning is often referred to as “supervised\n",
        "    instruction finetuning” because it involves training a model on a\n",
        "    dataset where the input-output pairs are explicitly provided\n",
        "-   There are different ways to format the entries as inputs to the LLM;\n",
        "    the figure below illustrates two example formats that were used for\n",
        "    training the Alpaca\n",
        "    (https://crfm.stanford.edu/2023/03/13/alpaca.html) and Phi-3\n",
        "    (https://arxiv.org/abs/2404.14219) LLMs, respectively\n",
        "\n",
        "<img src=\"https://sebastianraschka.com/images/LLMs-from-scratch-images/ch07_compressed/prompt-style.webp?1\" width=500px>\n",
        "\n",
        "-   In this chapter, we use Alpaca-style prompt formatting, which was\n",
        "    the original prompt template for instruction finetuning\n",
        "-   Below, we format the input that we will pass as input to the LLM"
      ],
      "id": "618a6661-829f-4f2c-b5b5-06493688f113"
    },
    {
      "cell_type": "code",
      "execution_count": 5,
      "metadata": {},
      "outputs": [],
      "source": [
        "def format_input(entry):\n",
        "    instruction_text = (\n",
        "        f\"Below is an instruction that describes a task. \"\n",
        "        f\"Write a response that appropriately completes the request.\"\n",
        "        f\"\\n\\n### Instruction:\\n{entry['instruction']}\"\n",
        "    )\n",
        "\n",
        "    input_text = f\"\\n\\n### Input:\\n{entry['input']}\" if entry[\"input\"] else \"\"\n",
        "\n",
        "    return instruction_text + input_text"
      ],
      "id": "Jhk37nnJnkBh"
    },
    {
      "cell_type": "markdown",
      "metadata": {},
      "source": [
        "-   A formatted response with input field looks like as shown below"
      ],
      "id": "6fbe2fce-e00e-4c61-b5da-c8ab86b929c4"
    },
    {
      "cell_type": "code",
      "execution_count": 6,
      "metadata": {
        "outputId": "7b615d35-2a5f-474d-9292-a69bc3850e16",
        "quarto-private-1": {
          "key": "colab",
          "value": {
            "base_uri": "https://localhost:8080/"
          }
        }
      },
      "outputs": [
        {
          "output_type": "stream",
          "name": "stdout",
          "text": [
            "Below is an instruction that describes a task. Write a response that appropriately completes the request.\n",
            "\n",
            "### Instruction:\n",
            "Identify the correct spelling of the following word.\n",
            "\n",
            "### Input:\n",
            "Ocassion\n",
            "\n",
            "### Response:\n",
            "The correct spelling is 'Occasion.'"
          ]
        }
      ],
      "source": [
        "model_input = format_input(data[50])\n",
        "desired_response = f\"\\n\\n### Response:\\n{data[50]['output']}\"\n",
        "\n",
        "print(model_input + desired_response)"
      ],
      "id": "F9UQRfjzo4Js"
    },
    {
      "cell_type": "markdown",
      "metadata": {},
      "source": [
        "-   Below is a formatted response without an input field"
      ],
      "id": "1482e9c0-9086-4b9b-83c2-b5d980091f70"
    },
    {
      "cell_type": "code",
      "execution_count": 7,
      "metadata": {
        "outputId": "2142c5a4-b594-49c5-affe-2d963a7bd46b",
        "quarto-private-1": {
          "key": "colab",
          "value": {
            "base_uri": "https://localhost:8080/"
          }
        }
      },
      "outputs": [
        {
          "output_type": "stream",
          "name": "stdout",
          "text": [
            "Below is an instruction that describes a task. Write a response that appropriately completes the request.\n",
            "\n",
            "### Instruction:\n",
            "What is an antonym of 'complicated'?\n",
            "\n",
            "### Response:\n",
            "An antonym of 'complicated' is 'simple'."
          ]
        }
      ],
      "source": [
        "model_input = format_input(data[999])\n",
        "desired_response = f\"\\n\\n### Response:\\n{data[999]['output']}\"\n",
        "\n",
        "print(model_input + desired_response)"
      ],
      "id": "a3891fa9-f738-41cd-946c-80ef9a99c346"
    },
    {
      "cell_type": "markdown",
      "metadata": {},
      "source": [
        "-   Lastly, before we prepare the PyTorch data loaders in the next\n",
        "    section, we divide the dataset into a training, validation, and test\n",
        "    set"
      ],
      "id": "1be6b157-61f1-4582-9d13-00b9594c30e3"
    },
    {
      "cell_type": "code",
      "execution_count": 8,
      "metadata": {},
      "outputs": [],
      "source": [
        "train_portion = int(len(data) * 0.85)  # 85% for training\n",
        "test_portion = int(len(data) * 0.1)    # 10% for testing\n",
        "val_portion = len(data) - train_portion - test_portion  # Remaining 5% for validation\n",
        "\n",
        "train_data = data[:train_portion]\n",
        "test_data = data[train_portion:train_portion + test_portion]\n",
        "val_data = data[train_portion + test_portion:]"
      ],
      "id": "aFZVopbIlNfx"
    },
    {
      "cell_type": "code",
      "execution_count": 9,
      "metadata": {
        "outputId": "657ec5c6-4caa-4d1a-ba2e-23acd755ab07",
        "quarto-private-1": {
          "key": "colab",
          "value": {
            "base_uri": "https://localhost:8080/"
          }
        }
      },
      "outputs": [
        {
          "output_type": "stream",
          "name": "stdout",
          "text": [
            "Training set length: 935\n",
            "Validation set length: 55\n",
            "Test set length: 110"
          ]
        }
      ],
      "source": [
        "print(\"Training set length:\", len(train_data))\n",
        "print(\"Validation set length:\", len(val_data))\n",
        "print(\"Test set length:\", len(test_data))"
      ],
      "id": "-zf6oht6bIUQ"
    },
    {
      "cell_type": "markdown",
      "metadata": {},
      "source": [
        "## 7.3 Organizing data into training batches\n",
        "\n",
        "<img src=\"https://sebastianraschka.com/images/LLMs-from-scratch-images/ch07_compressed/chapter-overview-2.webp?1\" width=500px>\n",
        "\n",
        "-   We tackle this dataset batching in several steps, as summarized in\n",
        "    the figure below\n",
        "\n",
        "<img src=\"https://sebastianraschka.com/images/LLMs-from-scratch-images/ch07_compressed/detailed-batching.webp?1\" width=500px>\n",
        "\n",
        "-   First, we implement an `InstructionDataset` class that pre-tokenizes\n",
        "    all inputs in the dataset, similar to the `SpamDataset` in chapter 6\n",
        "\n",
        "<img src=\"https://sebastianraschka.com/images/LLMs-from-scratch-images/ch07_compressed/pretokenizing.webp\" width=500px>"
      ],
      "id": "f7cfd8e1-dea1-49b2-9e0b-caf3eee420c0"
    },
    {
      "cell_type": "code",
      "execution_count": 10,
      "metadata": {},
      "outputs": [],
      "source": [
        "import torch\n",
        "from torch.utils.data import Dataset\n",
        "\n",
        "\n",
        "class InstructionDataset(Dataset):\n",
        "    def __init__(self, data, tokenizer):\n",
        "        self.data = data\n",
        "\n",
        "        # Pre-tokenize texts\n",
        "        self.encoded_texts = []\n",
        "        for entry in data:\n",
        "            instruction_plus_input = format_input(entry)\n",
        "            response_text = f\"\\n\\n### Response:\\n{entry['output']}\"\n",
        "            full_text = instruction_plus_input + response_text\n",
        "            self.encoded_texts.append(\n",
        "                tokenizer.encode(full_text)\n",
        "            )\n",
        "\n",
        "    def __getitem__(self, index):\n",
        "        return self.encoded_texts[index]\n",
        "\n",
        "    def __len__(self):\n",
        "        return len(self.data)"
      ],
      "id": "adc29dc4-f1c7-4c71-937b-95119d6239bb"
    },
    {
      "cell_type": "markdown",
      "metadata": {},
      "source": [
        "-   Similar to chapter 6, we want to collect multiple training examples\n",
        "    in a batch to accelerate training; this requires padding all inputs\n",
        "    to a similar length\n",
        "-   Also similar to the previous chapter, we use the `<|endoftext|>`\n",
        "    token as a padding token"
      ],
      "id": "d7a61bf8-2903-4c6f-aa94-f5deb0dda597"
    },
    {
      "cell_type": "code",
      "execution_count": 11,
      "metadata": {
        "outputId": "ac44227b-9ec2-4131-9df8-89caa6e879ca",
        "quarto-private-1": {
          "key": "colab",
          "value": {
            "base_uri": "https://localhost:8080/"
          }
        }
      },
      "outputs": [
        {
          "output_type": "stream",
          "name": "stdout",
          "text": [
            "[50256]"
          ]
        }
      ],
      "source": [
        "import tiktoken\n",
        "tokenizer = tiktoken.get_encoding(\"gpt2\")\n",
        "\n",
        "print(tokenizer.encode(\"<|endoftext|>\", allowed_special={\"<|endoftext|>\"}))"
      ],
      "id": "ff24fe1a-5746-461c-ad3d-b6d84a1a7c96"
    },
    {
      "cell_type": "markdown",
      "metadata": {},
      "source": [
        "-   In chapter 6, we padded all examples in a dataset to the same length\n",
        "    -   Here, we take a more sophisticated approach and develop a custom\n",
        "        “collate” function that we can pass to the data loader\n",
        "    -   This custom collate function pads the training examples in each\n",
        "        batch to have the same length (but different batches can have\n",
        "        different lengths)\n",
        "\n",
        "<img src=\"https://sebastianraschka.com/images/LLMs-from-scratch-images/ch07_compressed/padding.webp\" width=500px>"
      ],
      "id": "936670f8-c749-420c-bc6e-cf4d96e4d935"
    },
    {
      "cell_type": "code",
      "execution_count": 12,
      "metadata": {},
      "outputs": [],
      "source": [
        "def custom_collate_draft_1(\n",
        "    batch,\n",
        "    pad_token_id=50256,\n",
        "    device=\"cpu\"\n",
        "):\n",
        "    # Find the longest sequence in the batch\n",
        "    # and increase the max length by +1, which will add one extra\n",
        "    # padding token below\n",
        "    batch_max_length = max(len(item)+1 for item in batch)\n",
        "\n",
        "    # Pad and prepare inputs\n",
        "    inputs_lst = []\n",
        "\n",
        "    for item in batch:\n",
        "        new_item = item.copy()\n",
        "        # Add an <|endoftext|> token\n",
        "        new_item += [pad_token_id]\n",
        "        # Pad sequences to batch_max_length\n",
        "        padded = (\n",
        "            new_item + [pad_token_id] *\n",
        "            (batch_max_length - len(new_item))\n",
        "        )\n",
        "        # Via padded[:-1], we remove the extra padded token\n",
        "        # that has been added via the +1 setting in batch_max_length\n",
        "        # (the extra padding token will be relevant in later codes)\n",
        "        inputs = torch.tensor(padded[:-1])\n",
        "        inputs_lst.append(inputs)\n",
        "\n",
        "    # Convert list of inputs to tensor and transfer to target device\n",
        "    inputs_tensor = torch.stack(inputs_lst).to(device)\n",
        "    return inputs_tensor"
      ],
      "id": "eb4c77dd-c956-4a1b-897b-b466909f18ca"
    },
    {
      "cell_type": "code",
      "execution_count": 13,
      "metadata": {
        "outputId": "93d987b9-e3ca-4857-9b28-b67d515a94d8",
        "quarto-private-1": {
          "key": "colab",
          "value": {
            "base_uri": "https://localhost:8080/"
          }
        }
      },
      "outputs": [
        {
          "output_type": "stream",
          "name": "stdout",
          "text": [
            "tensor([[    0,     1,     2,     3,     4],\n",
            "        [    5,     6, 50256, 50256, 50256],\n",
            "        [    7,     8,     9, 50256, 50256]])"
          ]
        }
      ],
      "source": [
        "inputs_1 = [0, 1, 2, 3, 4]\n",
        "inputs_2 = [5, 6]\n",
        "inputs_3 = [7, 8, 9]\n",
        "\n",
        "batch = (\n",
        "    inputs_1,\n",
        "    inputs_2,\n",
        "    inputs_3\n",
        ")\n",
        "\n",
        "print(custom_collate_draft_1(batch))"
      ],
      "id": "8fb02373-59b3-4f3a-b1d1-8181a2432645"
    },
    {
      "cell_type": "markdown",
      "metadata": {},
      "source": [
        "<img src=\"https://sebastianraschka.com/images/LLMs-from-scratch-images/ch07_compressed/batching-step-4.webp?1\" width=500px>\n",
        "\n",
        "-   Above, we only returned the inputs to the LLM; however, for LLM\n",
        "    training, we also need the target values\n",
        "-   Similar to pretraining an LLM, the targets are the inputs shifted by\n",
        "    1 position to the right, so the LLM learns to predict the next token\n",
        "\n",
        "<img src=\"https://sebastianraschka.com/images/LLMs-from-scratch-images/ch07_compressed/inputs-targets.webp?1\" width=400px>"
      ],
      "id": "7fd80da5-e2d8-4370-a3b7-f77b24ffeb35"
    },
    {
      "cell_type": "code",
      "execution_count": 14,
      "metadata": {},
      "outputs": [],
      "source": [
        "def custom_collate_draft_2(\n",
        "    batch,\n",
        "    pad_token_id=50256,\n",
        "    device=\"cpu\"\n",
        "):\n",
        "    # Find the longest sequence in the batch\n",
        "    batch_max_length = max(len(item)+1 for item in batch)\n",
        "\n",
        "    # Pad and prepare inputs\n",
        "    inputs_lst, targets_lst = [], []\n",
        "\n",
        "    for item in batch:\n",
        "        new_item = item.copy()\n",
        "        # Add an <|endoftext|> token\n",
        "        new_item += [pad_token_id]\n",
        "        # Pad sequences to max_length\n",
        "        padded = (\n",
        "            new_item + [pad_token_id] *\n",
        "            (batch_max_length - len(new_item))\n",
        "        )\n",
        "        inputs = torch.tensor(padded[:-1])  # Truncate the last token for inputs\n",
        "        targets = torch.tensor(padded[1:])  # Shift +1 to the right for targets\n",
        "        inputs_lst.append(inputs)\n",
        "        targets_lst.append(targets)\n",
        "\n",
        "    # Convert list of inputs to tensor and transfer to target device\n",
        "    inputs_tensor = torch.stack(inputs_lst).to(device)\n",
        "    targets_tensor = torch.stack(targets_lst).to(device)\n",
        "    return inputs_tensor, targets_tensor"
      ],
      "id": "74af192e-757c-4c0a-bdf9-b7eb25bf6ebc"
    },
    {
      "cell_type": "code",
      "execution_count": 15,
      "metadata": {
        "outputId": "3d104439-c328-431b-ef7c-2639d86c2135",
        "quarto-private-1": {
          "key": "colab",
          "value": {
            "base_uri": "https://localhost:8080/"
          }
        }
      },
      "outputs": [
        {
          "output_type": "stream",
          "name": "stdout",
          "text": [
            "tensor([[    0,     1,     2,     3,     4],\n",
            "        [    5,     6, 50256, 50256, 50256],\n",
            "        [    7,     8,     9, 50256, 50256]])\n",
            "tensor([[    1,     2,     3,     4, 50256],\n",
            "        [    6, 50256, 50256, 50256, 50256],\n",
            "        [    8,     9, 50256, 50256, 50256]])"
          ]
        }
      ],
      "source": [
        "inputs, targets = custom_collate_draft_2(batch)\n",
        "print(inputs)\n",
        "print(targets)"
      ],
      "id": "6eb2bce3-28a7-4f39-9d4b-5e972d69066c"
    },
    {
      "cell_type": "markdown",
      "metadata": {},
      "source": [
        "-   Next, we introduce an `ignore_index` value to replace all padding\n",
        "    token IDs with a new value; the purpose of this `ignore_index` is\n",
        "    that we can ignore padding values in the loss function (more on that\n",
        "    later)\n",
        "\n",
        "<img src=\"https://sebastianraschka.com/images/LLMs-from-scratch-images/ch07_compressed/batching-step-5.webp?1\" width=500px>\n",
        "\n",
        "-   Concretely, this means that we replace the token IDs corresponding\n",
        "    to `50256` with `-100` as illustrated below\n",
        "\n",
        "<img src=\"https://sebastianraschka.com/images/LLMs-from-scratch-images/ch07_compressed/ignore-index.webp?1\" width=500px>\n",
        "\n",
        "-   (In addition, we also introduce the `allowed_max_length` in case we\n",
        "    want to limit the length of the samples; this will be useful if you\n",
        "    plan to work with your own datasets that are longer than the 1024\n",
        "    token context size supported by the GPT-2 model)"
      ],
      "id": "f18d6a05-724c-47fc-822c-b94a58e6ec7e"
    },
    {
      "cell_type": "code",
      "execution_count": 16,
      "metadata": {},
      "outputs": [],
      "source": [
        "def custom_collate_fn(\n",
        "    batch,\n",
        "    pad_token_id=50256,\n",
        "    ignore_index=-100,\n",
        "    allowed_max_length=None,\n",
        "    device=\"cpu\"\n",
        "):\n",
        "    # Find the longest sequence in the batch\n",
        "    batch_max_length = max(len(item)+1 for item in batch)\n",
        "\n",
        "    # Pad and prepare inputs and targets\n",
        "    inputs_lst, targets_lst = [], []\n",
        "\n",
        "    for item in batch:\n",
        "        new_item = item.copy()\n",
        "        # Add an <|endoftext|> token\n",
        "        new_item += [pad_token_id]\n",
        "        # Pad sequences to max_length\n",
        "        padded = (\n",
        "            new_item + [pad_token_id] *\n",
        "            (batch_max_length - len(new_item))\n",
        "        )\n",
        "        inputs = torch.tensor(padded[:-1])  # Truncate the last token for inputs\n",
        "        targets = torch.tensor(padded[1:])  # Shift +1 to the right for targets\n",
        "\n",
        "        # New: Replace all but the first padding tokens in targets by ignore_index\n",
        "        mask = targets == pad_token_id\n",
        "        indices = torch.nonzero(mask).squeeze()\n",
        "        if indices.numel() > 1:\n",
        "            targets[indices[1:]] = ignore_index\n",
        "\n",
        "        # New: Optionally truncate to maximum sequence length\n",
        "        if allowed_max_length is not None:\n",
        "            inputs = inputs[:allowed_max_length]\n",
        "            targets = targets[:allowed_max_length]\n",
        "\n",
        "        inputs_lst.append(inputs)\n",
        "        targets_lst.append(targets)\n",
        "\n",
        "    # Convert list of inputs and targets to tensors and transfer to target device\n",
        "    inputs_tensor = torch.stack(inputs_lst).to(device)\n",
        "    targets_tensor = torch.stack(targets_lst).to(device)\n",
        "\n",
        "    return inputs_tensor, targets_tensor"
      ],
      "id": "41ec6e2d-9eb2-4124-913e-d2af39be4cf2"
    },
    {
      "cell_type": "code",
      "execution_count": 17,
      "metadata": {
        "outputId": "e8f709b9-f4c5-428a-a6ac-2a4c1b9358ba",
        "quarto-private-1": {
          "key": "colab",
          "value": {
            "base_uri": "https://localhost:8080/"
          }
        }
      },
      "outputs": [
        {
          "output_type": "stream",
          "name": "stdout",
          "text": [
            "tensor([[    0,     1,     2,     3,     4],\n",
            "        [    5,     6, 50256, 50256, 50256],\n",
            "        [    7,     8,     9, 50256, 50256]])\n",
            "tensor([[    1,     2,     3,     4, 50256],\n",
            "        [    6, 50256,  -100,  -100,  -100],\n",
            "        [    8,     9, 50256,  -100,  -100]])"
          ]
        }
      ],
      "source": [
        "inputs, targets = custom_collate_fn(batch)\n",
        "print(inputs)\n",
        "print(targets)"
      ],
      "id": "cdf5eec4-9ebe-4be0-9fca-9a47bee88fdc"
    },
    {
      "cell_type": "markdown",
      "metadata": {},
      "source": [
        "-   Let’s see what this replacement by -100 accomplishes\n",
        "-   For illustration purposes, let’s assume we have a small\n",
        "    classification task with 2 class labels, 0 and 1, similar to chapter\n",
        "    6\n",
        "-   If we have the following logits values (outputs of the last layer of\n",
        "    the model), we calculate the following loss"
      ],
      "id": "789f975e-5ef7-4e64-a7b8-563659d7ed1d"
    },
    {
      "cell_type": "code",
      "execution_count": 18,
      "metadata": {
        "outputId": "ccb3a703-59a7-4258-8841-57959a016e31",
        "quarto-private-1": {
          "key": "colab",
          "value": {
            "base_uri": "https://localhost:8080/"
          }
        }
      },
      "outputs": [
        {
          "output_type": "stream",
          "name": "stdout",
          "text": [
            "tensor(1.1269)"
          ]
        }
      ],
      "source": [
        "logits_1 = torch.tensor(\n",
        "    [[-1.0, 1.0],  # 1st training example\n",
        "     [-0.5, 1.5]]  # 2nd training example\n",
        ")\n",
        "targets_1 = torch.tensor([0, 1])\n",
        "\n",
        "\n",
        "loss_1 = torch.nn.functional.cross_entropy(logits_1, targets_1)\n",
        "print(loss_1)"
      ],
      "id": "W2jvh-OP9MFV"
    },
    {
      "cell_type": "markdown",
      "metadata": {},
      "source": [
        "-   Now, adding one more training example will, as expected, influence\n",
        "    the loss"
      ],
      "id": "049a2081-7b2e-471b-bbba-c6d68460d756"
    },
    {
      "cell_type": "code",
      "execution_count": 19,
      "metadata": {
        "outputId": "6d4683d4-5bfc-4a8c-de2a-95ecb2e716b9",
        "quarto-private-1": {
          "key": "colab",
          "value": {
            "base_uri": "https://localhost:8080/"
          }
        }
      },
      "outputs": [
        {
          "output_type": "stream",
          "name": "stdout",
          "text": [
            "tensor(0.7936)"
          ]
        }
      ],
      "source": [
        "logits_2 = torch.tensor(\n",
        "    [[-1.0, 1.0],\n",
        "     [-0.5, 1.5],\n",
        "     [-0.5, 1.5]]  # New 3rd training example\n",
        ")\n",
        "targets_2 = torch.tensor([0, 1, 1])\n",
        "\n",
        "loss_2 = torch.nn.functional.cross_entropy(logits_2, targets_2)\n",
        "print(loss_2)"
      ],
      "id": "nvVMuil89v9N"
    },
    {
      "cell_type": "markdown",
      "metadata": {},
      "source": [
        "-   Let’s see what happens if we replace the class label of one of the\n",
        "    examples with -100"
      ],
      "id": "85b2a844-c745-460b-bc25-ed2eace8fce3"
    },
    {
      "cell_type": "code",
      "execution_count": 20,
      "metadata": {
        "outputId": "da05302e-3fe0-439e-d1ed-82066bceb122",
        "quarto-private-1": {
          "key": "colab",
          "value": {
            "base_uri": "https://localhost:8080/"
          }
        }
      },
      "outputs": [
        {
          "output_type": "stream",
          "name": "stdout",
          "text": [
            "tensor(1.1269)\n",
            "loss_1 == loss_3: tensor(True)"
          ]
        }
      ],
      "source": [
        "targets_3 = torch.tensor([0, 1, -100])\n",
        "\n",
        "loss_3 = torch.nn.functional.cross_entropy(logits_2, targets_3)\n",
        "print(loss_3)\n",
        "print(\"loss_1 == loss_3:\", loss_1 == loss_3)"
      ],
      "id": "RTyB1vah9p56"
    },
    {
      "cell_type": "markdown",
      "metadata": {},
      "source": [
        "-   As we can see, the resulting loss on these 3 training examples is\n",
        "    the same as the loss we calculated from the 2 training examples,\n",
        "    which means that the cross-entropy loss function ignored the\n",
        "    training example with the -100 label\n",
        "\n",
        "-   By default, PyTorch has the `cross_entropy(..., ignore_index=-100)`\n",
        "    setting to ignore examples corresponding to the label -100\n",
        "\n",
        "-   Using this -100 `ignore_index`, we can ignore the additional\n",
        "    end-of-text (padding) tokens in the batches that we used to pad the\n",
        "    training examples to equal length\n",
        "\n",
        "-   However, we don’t want to ignore the first instance of the\n",
        "    end-of-text (padding) token (50256) because it can help signal to\n",
        "    the LLM when the response is complete\n",
        "\n",
        "-   In practice, it is also common to mask out the target token IDs that\n",
        "    correspond to the instruction, as illustrated in the figure below\n",
        "    (this is a recommended reader exercise after completing the chapter)\n",
        "\n",
        "<img src=\"https://sebastianraschka.com/images/LLMs-from-scratch-images/ch07_compressed/mask-instructions.webp?1\" width=600px>\n",
        "\n",
        "## 7.4 Creating data loaders for an instruction dataset\n",
        "\n",
        "-   In this section, we use the `InstructionDataset` class and\n",
        "    `custom_collate_fn` function to instantiate the training,\n",
        "    validation, and test data loaders\n",
        "\n",
        "<img src=\"https://sebastianraschka.com/images/LLMs-from-scratch-images/ch07_compressed/chapter-overview-3.webp?1\" width=500px>\n",
        "\n",
        "-   Another additional detail of the previous `custom_collate_fn`\n",
        "    function is that we now directly move the data to the target device\n",
        "    (e.g., GPU) instead of doing it in the main training loop, which\n",
        "    improves efficiency because it can be carried out as a background\n",
        "    process when we use the `custom_collate_fn` as part of the data\n",
        "    loader\n",
        "-   Using the `partial` function from Python’s `functools` standard\n",
        "    library, we create a new function with the `device` argument of the\n",
        "    original function pre-filled"
      ],
      "id": "11cdec44-4cc1-4397-9ceb-26ff1ff503fd"
    },
    {
      "cell_type": "code",
      "execution_count": 21,
      "metadata": {
        "outputId": "b4391c33-1a89-455b-faaa-5f874b6eb409",
        "quarto-private-1": {
          "key": "colab",
          "value": {
            "base_uri": "https://localhost:8080/"
          }
        }
      },
      "outputs": [
        {
          "output_type": "stream",
          "name": "stdout",
          "text": [
            "Device: cuda"
          ]
        }
      ],
      "source": [
        "device = torch.device(\"cuda\" if torch.cuda.is_available() else \"cpu\")\n",
        "\n",
        "# Note:\n",
        "# Uncommenting the following lines will allow the code to run on Apple Silicon chips, if applicable,\n",
        "# which is much faster than on an Apple CPU (as measured on an M3 MacBook Air).\n",
        "# However, the resulting loss values may be slightly different.\n",
        "\n",
        "#if torch.cuda.is_available():\n",
        "#    device = torch.device(\"cuda\")\n",
        "#elif torch.backends.mps.is_available():\n",
        "#    device = torch.device(\"mps\")\n",
        "#else:\n",
        "#    device = torch.device(\"cpu\")\n",
        "\n",
        "print(\"Device:\", device)"
      ],
      "id": "etpqqWh8phKc"
    },
    {
      "cell_type": "code",
      "execution_count": 22,
      "metadata": {},
      "outputs": [],
      "source": [
        "from functools import partial\n",
        "\n",
        "customized_collate_fn = partial(\n",
        "    custom_collate_fn,\n",
        "    device=device,\n",
        "    allowed_max_length=1024\n",
        ")"
      ],
      "id": "4e47fb30-c2c6-4e6d-a64c-76cc65be4a2c"
    },
    {
      "cell_type": "markdown",
      "metadata": {},
      "source": [
        "-   Next, we instantiate the data loaders similar to previous chapters,\n",
        "    except that we now provide our own collate function for the batching\n",
        "    process"
      ],
      "id": "01404a88-55cc-4679-ae0d-799524f7adf9"
    },
    {
      "cell_type": "code",
      "execution_count": 23,
      "metadata": {},
      "outputs": [],
      "source": [
        "from torch.utils.data import DataLoader\n",
        "\n",
        "\n",
        "num_workers = 0\n",
        "batch_size = 8\n",
        "\n",
        "torch.manual_seed(123)\n",
        "\n",
        "train_dataset = InstructionDataset(train_data, tokenizer)\n",
        "train_loader = DataLoader(\n",
        "    train_dataset,\n",
        "    batch_size=batch_size,\n",
        "    collate_fn=customized_collate_fn,\n",
        "    shuffle=True,\n",
        "    drop_last=True,\n",
        "    num_workers=num_workers\n",
        ")"
      ],
      "id": "BtWkgir6Hlpe"
    },
    {
      "cell_type": "code",
      "execution_count": 24,
      "metadata": {},
      "outputs": [],
      "source": [
        "val_dataset = InstructionDataset(val_data, tokenizer)\n",
        "val_loader = DataLoader(\n",
        "    val_dataset,\n",
        "    batch_size=batch_size,\n",
        "    collate_fn=customized_collate_fn,\n",
        "    shuffle=False,\n",
        "    drop_last=False,\n",
        "    num_workers=num_workers\n",
        ")\n",
        "\n",
        "test_dataset = InstructionDataset(test_data, tokenizer)\n",
        "test_loader = DataLoader(\n",
        "    test_dataset,\n",
        "    batch_size=batch_size,\n",
        "    collate_fn=customized_collate_fn,\n",
        "    shuffle=False,\n",
        "    drop_last=False,\n",
        "    num_workers=num_workers\n",
        ")"
      ],
      "id": "1d097dc8-ad34-4f05-b435-e4147965f532"
    },
    {
      "cell_type": "markdown",
      "metadata": {},
      "source": [
        "-   Let’s see what the dimensions of the resulting input and target\n",
        "    batches look like"
      ],
      "id": "d5c5e6ac-e0b0-4f41-9561-2c7b0615d4df"
    },
    {
      "cell_type": "code",
      "execution_count": 25,
      "metadata": {
        "outputId": "f6a74c8b-1af3-4bc1-b48c-eda64b0200d1",
        "quarto-private-1": {
          "key": "colab",
          "value": {
            "base_uri": "https://localhost:8080/"
          }
        }
      },
      "outputs": [
        {
          "output_type": "stream",
          "name": "stdout",
          "text": [
            "Train loader:\n",
            "torch.Size([8, 61]) torch.Size([8, 61])\n",
            "torch.Size([8, 76]) torch.Size([8, 76])\n",
            "torch.Size([8, 73]) torch.Size([8, 73])\n",
            "torch.Size([8, 68]) torch.Size([8, 68])\n",
            "torch.Size([8, 65]) torch.Size([8, 65])\n",
            "torch.Size([8, 72]) torch.Size([8, 72])\n",
            "torch.Size([8, 80]) torch.Size([8, 80])\n",
            "torch.Size([8, 67]) torch.Size([8, 67])\n",
            "torch.Size([8, 62]) torch.Size([8, 62])\n",
            "torch.Size([8, 75]) torch.Size([8, 75])\n",
            "torch.Size([8, 62]) torch.Size([8, 62])\n",
            "torch.Size([8, 68]) torch.Size([8, 68])\n",
            "torch.Size([8, 67]) torch.Size([8, 67])\n",
            "torch.Size([8, 77]) torch.Size([8, 77])\n",
            "torch.Size([8, 69]) torch.Size([8, 69])\n",
            "torch.Size([8, 79]) torch.Size([8, 79])\n",
            "torch.Size([8, 71]) torch.Size([8, 71])\n",
            "torch.Size([8, 66]) torch.Size([8, 66])\n",
            "torch.Size([8, 83]) torch.Size([8, 83])\n",
            "torch.Size([8, 68]) torch.Size([8, 68])\n",
            "torch.Size([8, 80]) torch.Size([8, 80])\n",
            "torch.Size([8, 71]) torch.Size([8, 71])\n",
            "torch.Size([8, 69]) torch.Size([8, 69])\n",
            "torch.Size([8, 65]) torch.Size([8, 65])\n",
            "torch.Size([8, 68]) torch.Size([8, 68])\n",
            "torch.Size([8, 60]) torch.Size([8, 60])\n",
            "torch.Size([8, 59]) torch.Size([8, 59])\n",
            "torch.Size([8, 69]) torch.Size([8, 69])\n",
            "torch.Size([8, 63]) torch.Size([8, 63])\n",
            "torch.Size([8, 65]) torch.Size([8, 65])\n",
            "torch.Size([8, 76]) torch.Size([8, 76])\n",
            "torch.Size([8, 66]) torch.Size([8, 66])\n",
            "torch.Size([8, 71]) torch.Size([8, 71])\n",
            "torch.Size([8, 91]) torch.Size([8, 91])\n",
            "torch.Size([8, 65]) torch.Size([8, 65])\n",
            "torch.Size([8, 64]) torch.Size([8, 64])\n",
            "torch.Size([8, 67]) torch.Size([8, 67])\n",
            "torch.Size([8, 66]) torch.Size([8, 66])\n",
            "torch.Size([8, 64]) torch.Size([8, 64])\n",
            "torch.Size([8, 65]) torch.Size([8, 65])\n",
            "torch.Size([8, 75]) torch.Size([8, 75])\n",
            "torch.Size([8, 89]) torch.Size([8, 89])\n",
            "torch.Size([8, 59]) torch.Size([8, 59])\n",
            "torch.Size([8, 88]) torch.Size([8, 88])\n",
            "torch.Size([8, 83]) torch.Size([8, 83])\n",
            "torch.Size([8, 83]) torch.Size([8, 83])\n",
            "torch.Size([8, 70]) torch.Size([8, 70])\n",
            "torch.Size([8, 65]) torch.Size([8, 65])\n",
            "torch.Size([8, 74]) torch.Size([8, 74])\n",
            "torch.Size([8, 76]) torch.Size([8, 76])\n",
            "torch.Size([8, 67]) torch.Size([8, 67])\n",
            "torch.Size([8, 75]) torch.Size([8, 75])\n",
            "torch.Size([8, 83]) torch.Size([8, 83])\n",
            "torch.Size([8, 69]) torch.Size([8, 69])\n",
            "torch.Size([8, 67]) torch.Size([8, 67])\n",
            "torch.Size([8, 60]) torch.Size([8, 60])\n",
            "torch.Size([8, 60]) torch.Size([8, 60])\n",
            "torch.Size([8, 66]) torch.Size([8, 66])\n",
            "torch.Size([8, 80]) torch.Size([8, 80])\n",
            "torch.Size([8, 71]) torch.Size([8, 71])\n",
            "torch.Size([8, 61]) torch.Size([8, 61])\n",
            "torch.Size([8, 58]) torch.Size([8, 58])\n",
            "torch.Size([8, 71]) torch.Size([8, 71])\n",
            "torch.Size([8, 67]) torch.Size([8, 67])\n",
            "torch.Size([8, 68]) torch.Size([8, 68])\n",
            "torch.Size([8, 63]) torch.Size([8, 63])\n",
            "torch.Size([8, 87]) torch.Size([8, 87])\n",
            "torch.Size([8, 68]) torch.Size([8, 68])\n",
            "torch.Size([8, 64]) torch.Size([8, 64])\n",
            "torch.Size([8, 68]) torch.Size([8, 68])\n",
            "torch.Size([8, 71]) torch.Size([8, 71])\n",
            "torch.Size([8, 68]) torch.Size([8, 68])\n",
            "torch.Size([8, 71]) torch.Size([8, 71])\n",
            "torch.Size([8, 61]) torch.Size([8, 61])\n",
            "torch.Size([8, 65]) torch.Size([8, 65])\n",
            "torch.Size([8, 67]) torch.Size([8, 67])\n",
            "torch.Size([8, 65]) torch.Size([8, 65])\n",
            "torch.Size([8, 64]) torch.Size([8, 64])\n",
            "torch.Size([8, 60]) torch.Size([8, 60])\n",
            "torch.Size([8, 72]) torch.Size([8, 72])\n",
            "torch.Size([8, 64]) torch.Size([8, 64])\n",
            "torch.Size([8, 70]) torch.Size([8, 70])\n",
            "torch.Size([8, 57]) torch.Size([8, 57])\n",
            "torch.Size([8, 72]) torch.Size([8, 72])\n",
            "torch.Size([8, 64]) torch.Size([8, 64])\n",
            "torch.Size([8, 68]) torch.Size([8, 68])\n",
            "torch.Size([8, 62]) torch.Size([8, 62])\n",
            "torch.Size([8, 74]) torch.Size([8, 74])\n",
            "torch.Size([8, 80]) torch.Size([8, 80])\n",
            "torch.Size([8, 68]) torch.Size([8, 68])\n",
            "torch.Size([8, 70]) torch.Size([8, 70])\n",
            "torch.Size([8, 91]) torch.Size([8, 91])\n",
            "torch.Size([8, 61]) torch.Size([8, 61])\n",
            "torch.Size([8, 66]) torch.Size([8, 66])\n",
            "torch.Size([8, 80]) torch.Size([8, 80])\n",
            "torch.Size([8, 81]) torch.Size([8, 81])\n",
            "torch.Size([8, 74]) torch.Size([8, 74])\n",
            "torch.Size([8, 82]) torch.Size([8, 82])\n",
            "torch.Size([8, 63]) torch.Size([8, 63])\n",
            "torch.Size([8, 83]) torch.Size([8, 83])\n",
            "torch.Size([8, 68]) torch.Size([8, 68])\n",
            "torch.Size([8, 67]) torch.Size([8, 67])\n",
            "torch.Size([8, 77]) torch.Size([8, 77])\n",
            "torch.Size([8, 91]) torch.Size([8, 91])\n",
            "torch.Size([8, 64]) torch.Size([8, 64])\n",
            "torch.Size([8, 61]) torch.Size([8, 61])\n",
            "torch.Size([8, 75]) torch.Size([8, 75])\n",
            "torch.Size([8, 64]) torch.Size([8, 64])\n",
            "torch.Size([8, 66]) torch.Size([8, 66])\n",
            "torch.Size([8, 78]) torch.Size([8, 78])\n",
            "torch.Size([8, 66]) torch.Size([8, 66])\n",
            "torch.Size([8, 64]) torch.Size([8, 64])\n",
            "torch.Size([8, 83]) torch.Size([8, 83])\n",
            "torch.Size([8, 66]) torch.Size([8, 66])\n",
            "torch.Size([8, 74]) torch.Size([8, 74])\n",
            "torch.Size([8, 69]) torch.Size([8, 69])"
          ]
        }
      ],
      "source": [
        "print(\"Train loader:\")\n",
        "for inputs, targets in train_loader:\n",
        "    print(inputs.shape, targets.shape)"
      ],
      "id": "GGs1AI3vHpnX"
    },
    {
      "cell_type": "markdown",
      "metadata": {},
      "source": [
        "-   As we can see based on the output above, all batches have a batch\n",
        "    size of 8 but a different length, as expected\n",
        "-   Let’s also double-check that the inputs contain the `<|endoftext|>`\n",
        "    padding tokens corresponding to token ID 50256 by printing the\n",
        "    contents of the first training example in the `inputs` batch"
      ],
      "id": "ff8b776e-1a8c-40e0-bb5b-3fdb342719cf"
    },
    {
      "cell_type": "code",
      "execution_count": 26,
      "metadata": {
        "outputId": "1b8ad342-2b5b-4f12-ad1a-3cb2a6c712ff",
        "quarto-private-1": {
          "key": "colab",
          "value": {
            "base_uri": "https://localhost:8080/"
          }
        }
      },
      "outputs": [
        {
          "output_type": "stream",
          "name": "stdout",
          "text": [
            "tensor([21106,   318,   281, 12064,   326,  8477,   257,  4876,    13, 19430,\n",
            "          257,  2882,   326, 20431, 32543,   262,  2581,    13,   198,   198,\n",
            "        21017, 46486,    25,   198, 30003,  6525,   262,  6827,  1262,   257,\n",
            "          985,   576,    13,   198,   198, 21017, 23412,    25,   198,   464,\n",
            "         5156,   318,   845, 13779,    13,   198,   198, 21017, 18261,    25,\n",
            "          198,   464,  5156,   318,   355, 13779,   355,   257,  4936,    13,\n",
            "        50256, 50256, 50256, 50256, 50256, 50256, 50256, 50256, 50256],\n",
            "       device='cuda:0')"
          ]
        }
      ],
      "source": [
        "print(inputs[0])"
      ],
      "id": "21b8fd02-014f-4481-9b71-5bfee8f9dfcd"
    },
    {
      "cell_type": "markdown",
      "metadata": {},
      "source": [
        "-   Similarly, we visually double-check that the targets contain the\n",
        "    -100 placeholder tokens"
      ],
      "id": "80aca5c6-2493-44d9-9360-fea3a71323ab"
    },
    {
      "cell_type": "code",
      "execution_count": 27,
      "metadata": {
        "outputId": "5e8c23f8-6a05-4c13-9f92-373b75b57ea6",
        "quarto-private-1": {
          "key": "colab",
          "value": {
            "base_uri": "https://localhost:8080/"
          }
        }
      },
      "outputs": [
        {
          "output_type": "stream",
          "name": "stdout",
          "text": [
            "tensor([  318,   281, 12064,   326,  8477,   257,  4876,    13, 19430,   257,\n",
            "         2882,   326, 20431, 32543,   262,  2581,    13,   198,   198, 21017,\n",
            "        46486,    25,   198, 30003,  6525,   262,  6827,  1262,   257,   985,\n",
            "          576,    13,   198,   198, 21017, 23412,    25,   198,   464,  5156,\n",
            "          318,   845, 13779,    13,   198,   198, 21017, 18261,    25,   198,\n",
            "          464,  5156,   318,   355, 13779,   355,   257,  4936,    13, 50256,\n",
            "         -100,  -100,  -100,  -100,  -100,  -100,  -100,  -100,  -100],\n",
            "       device='cuda:0')"
          ]
        }
      ],
      "source": [
        "print(targets[0])"
      ],
      "id": "51649ab4-1a7e-4a9e-92c5-950a24fde211"
    },
    {
      "cell_type": "markdown",
      "metadata": {},
      "source": [
        "## 7.5 Loading a pretrained LLM\n",
        "\n",
        "-   In this section, we load a pretrained GPT model using the same code\n",
        "    that we used in section 5.5 of chapter 5 and section 6.4 in chapter\n",
        "    6\n",
        "\n",
        "<img src=\"https://sebastianraschka.com/images/LLMs-from-scratch-images/ch07_compressed/chapter-overview-4.webp?1\" width=500px>\n",
        "\n",
        "-   However, instead of loading the smallest 124 million parameter\n",
        "    model, we load the medium version with 355 million parameters since\n",
        "    the 124 million model is too small for achieving qualitatively\n",
        "    reasonable results via instruction finetuning"
      ],
      "id": "9933124f-4046-4b5d-bf4a-af901f9c4446"
    },
    {
      "cell_type": "code",
      "execution_count": 28,
      "metadata": {
        "outputId": "386ebd49-51d7-4a62-c590-91cdccce5fb8",
        "quarto-private-1": {
          "key": "colab",
          "value": {
            "base_uri": "https://localhost:8080/"
          }
        }
      },
      "outputs": [
        {
          "output_type": "stream",
          "name": "stderr",
          "text": [
            "2025-02-08 23:37:19.420934: I tensorflow/core/util/port.cc:153] oneDNN custom operations are on. You may see slightly different numerical results due to floating-point round-off errors from different computation orders. To turn them off, set the environment variable `TF_ENABLE_ONEDNN_OPTS=0`.\n",
            "2025-02-08 23:37:19.439459: E external/local_xla/xla/stream_executor/cuda/cuda_fft.cc:477] Unable to register cuFFT factory: Attempting to register factory for plugin cuFFT when one has already been registered\n",
            "WARNING: All log messages before absl::InitializeLog() is called are written to STDERR\n",
            "E0000 00:00:1739057839.462005    4402 cuda_dnn.cc:8310] Unable to register cuDNN factory: Attempting to register factory for plugin cuDNN when one has already been registered\n",
            "E0000 00:00:1739057839.468845    4402 cuda_blas.cc:1418] Unable to register cuBLAS factory: Attempting to register factory for plugin cuBLAS when one has already been registered\n",
            "2025-02-08 23:37:19.492335: I tensorflow/core/platform/cpu_feature_guard.cc:210] This TensorFlow binary is optimized to use available CPU instructions in performance-critical operations.\n",
            "To enable the following instructions: AVX2 AVX512F AVX512_VNNI FMA, in other operations, rebuild TensorFlow with the appropriate compiler flags.\n",
            "checkpoint: 100%|██████████| 77.0/77.0 [00:00<00:00, 125kiB/s]\n",
            "encoder.json: 100%|██████████| 1.04M/1.04M [00:00<00:00, 5.37MiB/s]\n",
            "hparams.json: 100%|██████████| 91.0/91.0 [00:00<00:00, 161kiB/s]\n",
            "model.ckpt.data-00000-of-00001: 100%|██████████| 1.42G/1.42G [01:00<00:00, 23.6MiB/s]\n",
            "model.ckpt.index: 100%|██████████| 10.4k/10.4k [00:00<00:00, 17.5MiB/s]\n",
            "model.ckpt.meta: 100%|██████████| 927k/927k [00:00<00:00, 6.38MiB/s]\n",
            "vocab.bpe: 100%|██████████| 456k/456k [00:00<00:00, 2.69MiB/s]"
          ]
        }
      ],
      "source": [
        "from gpt_download import download_and_load_gpt2\n",
        "from previous_chapters import GPTModel, load_weights_into_gpt\n",
        "# If the `previous_chapters.py` file is not available locally,\n",
        "# you can import it from the `llms-from-scratch` PyPI package.\n",
        "# For details, see: https://github.com/rasbt/LLMs-from-scratch/tree/main/pkg\n",
        "# E.g.,\n",
        "# from llms_from_scratch.ch04 import GPTModel\n",
        "# from llms_from_scratch.ch05 import download_and_load_gpt2, load_weights_into_gpt\n",
        "\n",
        "\n",
        "BASE_CONFIG = {\n",
        "    \"vocab_size\": 50257,     # Vocabulary size\n",
        "    \"context_length\": 1024,  # Context length\n",
        "    \"drop_rate\": 0.0,        # Dropout rate\n",
        "    \"qkv_bias\": True         # Query-key-value bias\n",
        "}\n",
        "\n",
        "model_configs = {\n",
        "    \"gpt2-small (124M)\": {\"emb_dim\": 768, \"n_layers\": 12, \"n_heads\": 12},\n",
        "    \"gpt2-medium (355M)\": {\"emb_dim\": 1024, \"n_layers\": 24, \"n_heads\": 16},\n",
        "    \"gpt2-large (774M)\": {\"emb_dim\": 1280, \"n_layers\": 36, \"n_heads\": 20},\n",
        "    \"gpt2-xl (1558M)\": {\"emb_dim\": 1600, \"n_layers\": 48, \"n_heads\": 25},\n",
        "}\n",
        "\n",
        "CHOOSE_MODEL = \"gpt2-medium (355M)\"\n",
        "\n",
        "BASE_CONFIG.update(model_configs[CHOOSE_MODEL])\n",
        "\n",
        "model_size = CHOOSE_MODEL.split(\" \")[-1].lstrip(\"(\").rstrip(\")\")\n",
        "settings, params = download_and_load_gpt2(\n",
        "    model_size=model_size,\n",
        "    models_dir=\"gpt2\"\n",
        ")\n",
        "\n",
        "model = GPTModel(BASE_CONFIG)\n",
        "load_weights_into_gpt(model, params)\n",
        "model.eval();"
      ],
      "id": "0d249d67-5eba-414e-9bd2-972ebf01329d"
    },
    {
      "cell_type": "markdown",
      "metadata": {},
      "source": [
        "-   Before we start finetuning the model in the next section, let’s see\n",
        "    how it performs on one of the validation tasks"
      ],
      "id": "b28d66bc-02e5-4a35-9637-09e6d4447258"
    },
    {
      "cell_type": "code",
      "execution_count": 29,
      "metadata": {
        "outputId": "c1276a91-e7da-495b-be0f-70a96872dbe6",
        "quarto-private-1": {
          "key": "colab",
          "value": {
            "base_uri": "https://localhost:8080/"
          }
        }
      },
      "outputs": [
        {
          "output_type": "stream",
          "name": "stdout",
          "text": [
            "Below is an instruction that describes a task. Write a response that appropriately completes the request.\n",
            "\n",
            "### Instruction:\n",
            "Convert the active sentence to passive: 'The chef cooks the meal every day.'"
          ]
        }
      ],
      "source": [
        "torch.manual_seed(123)\n",
        "\n",
        "input_text = format_input(val_data[0])\n",
        "print(input_text)"
      ],
      "id": "7bd32b7c-5b44-4d25-a09f-46836802ca74"
    },
    {
      "cell_type": "code",
      "execution_count": 30,
      "metadata": {},
      "outputs": [],
      "source": [
        "from previous_chapters import (\n",
        "    generate,\n",
        "    text_to_token_ids,\n",
        "    token_ids_to_text\n",
        ")\n",
        "# Alternatively:\n",
        "# from llms_from_scratch.ch05 import (\n",
        "#    generate,\n",
        "#    text_to_token_ids,\n",
        "#    token_ids_to_text\n",
        "# )\n",
        "\n",
        "\n",
        "token_ids = generate(\n",
        "    model=model,\n",
        "    idx=text_to_token_ids(input_text, tokenizer),\n",
        "    max_new_tokens=35,\n",
        "    context_size=BASE_CONFIG[\"context_length\"],\n",
        "    eos_id=50256,\n",
        ")\n",
        "generated_text = token_ids_to_text(token_ids, tokenizer)"
      ],
      "id": "2e3e68e0-2627-4c65-b4e7-1e0667e4f6fa"
    },
    {
      "cell_type": "markdown",
      "metadata": {},
      "source": [
        "-   Note that the `generate` function we used in previous chapters\n",
        "    returns the combined input and output text, which was convenient in\n",
        "    the previous section for creating legible text\n",
        "-   To isolate the response, we can subtract the length of the\n",
        "    instruction from the start of the `generated_text`"
      ],
      "id": "c36f1070-57ea-4a70-828c-b0e7014e43a9"
    },
    {
      "cell_type": "code",
      "execution_count": 31,
      "metadata": {
        "outputId": "3e231f03-c5dc-4397-8778-4995731176a3",
        "quarto-private-1": {
          "key": "colab",
          "value": {
            "base_uri": "https://localhost:8080/"
          }
        }
      },
      "outputs": [
        {
          "output_type": "stream",
          "name": "stdout",
          "text": [
            "The chef cooks the meal every day.\n",
            "\n",
            "### Instruction:\n",
            "\n",
            "Convert the active sentence to passive: 'The chef cooks the"
          ]
        }
      ],
      "source": [
        "response_text = (\n",
        "    generated_text[len(input_text):]\n",
        "    .replace(\"### Response:\", \"\")\n",
        "    .strip()\n",
        ")\n",
        "print(response_text)"
      ],
      "id": "ba4a55bf-a245-48d8-beda-2838a58fb5ba"
    },
    {
      "cell_type": "markdown",
      "metadata": {},
      "source": [
        "-   As we can see, the model is not capable of following the\n",
        "    instructions, yet; it creates a “Response” section but it simply\n",
        "    repeats the original input sentence as well as the instruction\n",
        "\n",
        "## 7.6 Finetuning the LLM on instruction data\n",
        "\n",
        "-   In this section, we finetune the model\n",
        "\n",
        "<img src=\"https://sebastianraschka.com/images/LLMs-from-scratch-images/ch07_compressed/chapter-overview-5.webp?1\" width=500px>\n",
        "\n",
        "-   Note that we can reuse all the loss calculation and training\n",
        "    functions that we used in previous chapters"
      ],
      "id": "2792ac5f-53bc-4609-8fb7-183e3afed706"
    },
    {
      "cell_type": "code",
      "execution_count": 32,
      "metadata": {},
      "outputs": [],
      "source": [
        "from previous_chapters import (\n",
        "    calc_loss_loader,\n",
        "    train_model_simple\n",
        ")\n",
        "# Alternatively:\n",
        "# from llms_from_scratch.ch05 import (\n",
        "#    calc_loss_loader,\n",
        "#    train_model_simple,\n",
        "# )\n"
      ],
      "id": "65444865-df87-4d98-9faf-875e1c4be860"
    },
    {
      "cell_type": "markdown",
      "metadata": {},
      "source": [
        "-   Let’s calculate the initial training and validation set loss before\n",
        "    we start training (as in previous chapters, the goal is to minimize\n",
        "    the loss)"
      ],
      "id": "ee75c87e-5f56-456d-ab32-d2d326743e6a"
    },
    {
      "cell_type": "code",
      "execution_count": 33,
      "metadata": {
        "outputId": "a3f5e1b0-093a-4c51-e7fc-c9cac48c2ea2",
        "quarto-private-1": {
          "key": "colab",
          "value": {
            "base_uri": "https://localhost:8080/"
          }
        }
      },
      "outputs": [
        {
          "output_type": "stream",
          "name": "stdout",
          "text": [
            "Training loss: 3.8259087562561036\n",
            "Validation loss: 3.761933708190918"
          ]
        }
      ],
      "source": [
        "model.to(device)\n",
        "\n",
        "torch.manual_seed(123)\n",
        "\n",
        "with torch.no_grad():\n",
        "    train_loss = calc_loss_loader(train_loader, model, device, num_batches=5)\n",
        "    val_loss = calc_loss_loader(val_loader, model, device, num_batches=5)\n",
        "\n",
        "print(\"Training loss:\", train_loss)\n",
        "print(\"Validation loss:\", val_loss)"
      ],
      "id": "d99fc6f8-63b2-43da-adbb-a7b6b92c8dd5"
    },
    {
      "cell_type": "markdown",
      "metadata": {},
      "source": [
        "-   Note that the training is a bit more expensive than in previous\n",
        "    chapters since we are using a larger model (355 million instead of\n",
        "    124 million parameters)\n",
        "-   The runtimes for various devices are shown for reference below\n",
        "    (running this notebook on a compatible GPU device requires no\n",
        "    changes to the code)\n",
        "\n",
        "| Model              | Device               | Runtime for 2 Epochs |\n",
        "|--------------------|----------------------|----------------------|\n",
        "| gpt2-medium (355M) | CPU (M3 MacBook Air) | 15.78 minutes        |\n",
        "| gpt2-medium (355M) | GPU (M3 MacBook Air) | 10.77 minutes        |\n",
        "| gpt2-medium (355M) | GPU (L4)             | 1.83 minutes         |\n",
        "| gpt2-medium (355M) | GPU (A100)           | 0.86 minutes         |\n",
        "| gpt2-small (124M)  | CPU (M3 MacBook Air) | 5.74 minutes         |\n",
        "| gpt2-small (124M)  | GPU (M3 MacBook Air) | 3.73 minutes         |\n",
        "| gpt2-small (124M)  | GPU (L4)             | 0.69 minutes         |\n",
        "| gpt2-small (124M)  | GPU (A100)           | 0.39 minutes         |\n",
        "\n",
        "-   I ran this notebook using the `\"gpt2-medium (355M)\"` model"
      ],
      "id": "9ac6e075-cd35-4f9f-a998-9367237472de"
    },
    {
      "cell_type": "code",
      "execution_count": 34,
      "metadata": {
        "outputId": "ecb9a3dd-97c0-492d-8a51-fbd175bb139b",
        "quarto-private-1": {
          "key": "colab",
          "value": {
            "base_uri": "https://localhost:8080/"
          }
        }
      },
      "outputs": [
        {
          "output_type": "stream",
          "name": "stdout",
          "text": [
            "Ep 1 (Step 000000): Train loss 2.637, Val loss 2.626\n",
            "Ep 1 (Step 000005): Train loss 1.174, Val loss 1.103\n",
            "Ep 1 (Step 000010): Train loss 0.872, Val loss 0.944\n",
            "Ep 1 (Step 000015): Train loss 0.857, Val loss 0.906\n",
            "Ep 1 (Step 000020): Train loss 0.776, Val loss 0.881\n",
            "Ep 1 (Step 000025): Train loss 0.754, Val loss 0.859\n",
            "Ep 1 (Step 000030): Train loss 0.800, Val loss 0.836\n",
            "Ep 1 (Step 000035): Train loss 0.714, Val loss 0.809\n",
            "Ep 1 (Step 000040): Train loss 0.672, Val loss 0.806\n",
            "Ep 1 (Step 000045): Train loss 0.633, Val loss 0.789\n",
            "Ep 1 (Step 000050): Train loss 0.663, Val loss 0.782\n",
            "Ep 1 (Step 000055): Train loss 0.760, Val loss 0.763\n",
            "Ep 1 (Step 000060): Train loss 0.719, Val loss 0.743\n",
            "Ep 1 (Step 000065): Train loss 0.653, Val loss 0.735\n",
            "Ep 1 (Step 000070): Train loss 0.536, Val loss 0.732\n",
            "Ep 1 (Step 000075): Train loss 0.569, Val loss 0.739\n",
            "Ep 1 (Step 000080): Train loss 0.603, Val loss 0.734\n",
            "Ep 1 (Step 000085): Train loss 0.518, Val loss 0.717\n",
            "Ep 1 (Step 000090): Train loss 0.575, Val loss 0.699\n",
            "Ep 1 (Step 000095): Train loss 0.505, Val loss 0.689\n",
            "Ep 1 (Step 000100): Train loss 0.507, Val loss 0.683\n",
            "Ep 1 (Step 000105): Train loss 0.570, Val loss 0.676\n",
            "Ep 1 (Step 000110): Train loss 0.564, Val loss 0.671\n",
            "Ep 1 (Step 000115): Train loss 0.522, Val loss 0.666\n",
            "Below is an instruction that describes a task. Write a response that appropriately completes the request.  ### Instruction: Convert the active sentence to passive: 'The chef cooks the meal every day.'  ### Response: The meal is prepared every day by the chef.<|endoftext|>The following is an instruction that describes a task. Write a response that appropriately completes the request.  ### Instruction: Convert the active sentence to passive:\n",
            "Ep 2 (Step 000120): Train loss 0.439, Val loss 0.671\n",
            "Ep 2 (Step 000125): Train loss 0.454, Val loss 0.685\n",
            "Ep 2 (Step 000130): Train loss 0.448, Val loss 0.681\n",
            "Ep 2 (Step 000135): Train loss 0.406, Val loss 0.678\n",
            "Ep 2 (Step 000140): Train loss 0.412, Val loss 0.678\n",
            "Ep 2 (Step 000145): Train loss 0.372, Val loss 0.680\n",
            "Ep 2 (Step 000150): Train loss 0.381, Val loss 0.674\n",
            "Ep 2 (Step 000155): Train loss 0.419, Val loss 0.672\n",
            "Ep 2 (Step 000160): Train loss 0.417, Val loss 0.680\n",
            "Ep 2 (Step 000165): Train loss 0.383, Val loss 0.683\n",
            "Ep 2 (Step 000170): Train loss 0.328, Val loss 0.679\n",
            "Ep 2 (Step 000175): Train loss 0.334, Val loss 0.668\n",
            "Ep 2 (Step 000180): Train loss 0.391, Val loss 0.656\n",
            "Ep 2 (Step 000185): Train loss 0.418, Val loss 0.657\n",
            "Ep 2 (Step 000190): Train loss 0.341, Val loss 0.648\n",
            "Ep 2 (Step 000195): Train loss 0.330, Val loss 0.633\n",
            "Ep 2 (Step 000200): Train loss 0.313, Val loss 0.631\n",
            "Ep 2 (Step 000205): Train loss 0.354, Val loss 0.628\n",
            "Ep 2 (Step 000210): Train loss 0.365, Val loss 0.629\n",
            "Ep 2 (Step 000215): Train loss 0.394, Val loss 0.634\n",
            "Ep 2 (Step 000220): Train loss 0.301, Val loss 0.647\n",
            "Ep 2 (Step 000225): Train loss 0.347, Val loss 0.661\n",
            "Ep 2 (Step 000230): Train loss 0.297, Val loss 0.659\n",
            "Below is an instruction that describes a task. Write a response that appropriately completes the request.  ### Instruction: Convert the active sentence to passive: 'The chef cooks the meal every day.'  ### Response: The meal is cooked every day by the chef.<|endoftext|>The following is an instruction that describes a task. Write a response that appropriately completes the request.  ### Instruction: What is the capital of the United Kingdom\n",
            "Training completed in 0.93 minutes."
          ]
        }
      ],
      "source": [
        "import time\n",
        "\n",
        "start_time = time.time()\n",
        "\n",
        "torch.manual_seed(123)\n",
        "\n",
        "optimizer = torch.optim.AdamW(model.parameters(), lr=0.00005, weight_decay=0.1)\n",
        "\n",
        "num_epochs = 2\n",
        "\n",
        "train_losses, val_losses, tokens_seen = train_model_simple(\n",
        "    model, train_loader, val_loader, optimizer, device,\n",
        "    num_epochs=num_epochs, eval_freq=5, eval_iter=5,\n",
        "    start_context=format_input(val_data[0]), tokenizer=tokenizer\n",
        ")\n",
        "\n",
        "end_time = time.time()\n",
        "execution_time_minutes = (end_time - start_time) / 60\n",
        "print(f\"Training completed in {execution_time_minutes:.2f} minutes.\")"
      ],
      "id": "78bcf83a-1fff-4540-97c1-765c4016d5e3"
    },
    {
      "cell_type": "markdown",
      "metadata": {},
      "source": [
        "-   As we can see based on the outputs above, the model trains well, as\n",
        "    we can tell based on the decreasing training loss and validation\n",
        "    loss values\n",
        "-   Furthermore, based on the response text printed after each epoch, we\n",
        "    can see that the model correctly follows the instruction to convert\n",
        "    the input sentence `'The chef cooks the meal every day.'` into\n",
        "    passive voice `'The meal is cooked every day by the chef.'` (We will\n",
        "    properly format and evaluate the responses in a later section)\n",
        "-   Finally, let’s take a look at the training and validation loss\n",
        "    curves"
      ],
      "id": "b2e8dfc8-a83c-4040-ba09-0be1355ca405"
    },
    {
      "cell_type": "code",
      "execution_count": 35,
      "metadata": {
        "outputId": "2f5c99e0-7ed0-4f42-d67c-e07c375e6158",
        "quarto-private-1": {
          "key": "colab",
          "value": {
            "base_uri": "https://localhost:8080/",
            "height": 306
          }
        }
      },
      "outputs": [
        {
          "output_type": "display_data",
          "metadata": {},
          "data": {
            "image/png": "[encoded data removed]"
          }
        }
      ],
      "source": [
        "from previous_chapters import plot_losses\n",
        "# Alternatively:\n",
        "# from llms_from_scratch.ch05 import plot_losses\n",
        "\n",
        "epochs_tensor = torch.linspace(0, num_epochs, len(train_losses))\n",
        "plot_losses(epochs_tensor, tokens_seen, train_losses, val_losses)"
      ],
      "id": "4acd368b-1403-4807-a218-9102e35bfdbb"
    },
    {
      "cell_type": "markdown",
      "metadata": {},
      "source": [
        "-   As we can see, the loss decreases sharply at the beginning of the\n",
        "    first epoch, which means the model starts learning quickly\n",
        "-   We can see that slight overfitting sets in at around 1 training\n",
        "    epoch\n",
        "\n",
        "## 7.7 Extracting and saving responses\n",
        "\n",
        "<img src=\"https://sebastianraschka.com/images/LLMs-from-scratch-images/ch07_compressed/chapter-overview-6.webp?1\" width=500px>\n",
        "\n",
        "-   In this section, we save the test set responses for scoring in the\n",
        "    next section\n",
        "-   We also save a copy of the model for future use\n",
        "-   But first, let’s take a brief look at the responses generated by the\n",
        "    finetuned model"
      ],
      "id": "055a9931-41be-4aed-9111-0eac1c049753"
    },
    {
      "cell_type": "code",
      "execution_count": 36,
      "metadata": {
        "outputId": "066c56ff-b52a-4ee6-eae7-1bddfc74d0c1",
        "quarto-private-1": {
          "key": "colab",
          "value": {
            "base_uri": "https://localhost:8080/"
          }
        }
      },
      "outputs": [
        {
          "output_type": "stream",
          "name": "stdout",
          "text": [
            "Below is an instruction that describes a task. Write a response that appropriately completes the request.\n",
            "\n",
            "### Instruction:\n",
            "Rewrite the sentence using a simile.\n",
            "\n",
            "### Input:\n",
            "The car is very fast.\n",
            "\n",
            "Correct response:\n",
            ">> The car is as fast as lightning.\n",
            "\n",
            "Model response:\n",
            ">> The car is as fast as a bullet.\n",
            "-------------------------------------\n",
            "Below is an instruction that describes a task. Write a response that appropriately completes the request.\n",
            "\n",
            "### Instruction:\n",
            "What type of cloud is typically associated with thunderstorms?\n",
            "\n",
            "Correct response:\n",
            ">> The type of cloud typically associated with thunderstorms is cumulonimbus.\n",
            "\n",
            "Model response:\n",
            ">> The type of cloud associated with thunderstorms is a cumulus cloud.\n",
            "-------------------------------------\n",
            "Below is an instruction that describes a task. Write a response that appropriately completes the request.\n",
            "\n",
            "### Instruction:\n",
            "Name the author of 'Pride and Prejudice'.\n",
            "\n",
            "Correct response:\n",
            ">> Jane Austen.\n",
            "\n",
            "Model response:\n",
            ">> The author of 'Pride and Prejudice' is Jane Austen.\n",
            "-------------------------------------"
          ]
        }
      ],
      "source": [
        "torch.manual_seed(123)\n",
        "\n",
        "\n",
        "for entry in test_data[:3]:\n",
        "\n",
        "    input_text = format_input(entry)\n",
        "\n",
        "    token_ids = generate(\n",
        "        model=model,\n",
        "        idx=text_to_token_ids(input_text, tokenizer).to(device),\n",
        "        max_new_tokens=256,\n",
        "        context_size=BASE_CONFIG[\"context_length\"],\n",
        "        eos_id=50256\n",
        "    )\n",
        "    generated_text = token_ids_to_text(token_ids, tokenizer)\n",
        "    response_text = (\n",
        "        generated_text[len(input_text):]\n",
        "        .replace(\"### Response:\", \"\")\n",
        "        .strip()\n",
        ")\n",
        "\n",
        "    print(input_text)\n",
        "    print(f\"\\nCorrect response:\\n>> {entry['output']}\")\n",
        "    print(f\"\\nModel response:\\n>> {response_text.strip()}\")\n",
        "    print(\"-------------------------------------\")"
      ],
      "id": "VQ2NZMbfucAc"
    },
    {
      "cell_type": "markdown",
      "metadata": {},
      "source": [
        "-   As we can see based on the test set instructions, given responses,\n",
        "    and the model’s responses, the model performs relatively well\n",
        "-   The answers to the first and last instructions are clearly correct\n",
        "-   The second answer is close; the model answers with “cumulus cloud”\n",
        "    instead of “cumulonimbus” (however, note that cumulus clouds can\n",
        "    develop into cumulonimbus clouds, which are capable of producing\n",
        "    thunderstorms)\n",
        "-   Most importantly, we can see that model evaluation is not as\n",
        "    straightforward as in the previous chapter, where we just had to\n",
        "    calculate the percentage of correct spam/non-spam class labels to\n",
        "    obtain the classification accuracy\n",
        "-   In practice, instruction-finetuned LLMs such as chatbots are\n",
        "    evaluated via multiple approaches\n",
        "    -   short-answer and multiple choice benchmarks such as MMLU\n",
        "        (“Measuring Massive Multitask Language Understanding”,\n",
        "        <https://arxiv.org/abs/2009.03300>), which test the knowledge of\n",
        "        a model\n",
        "    -   human preference comparison to other LLMs, such as LMSYS chatbot\n",
        "        arena (<https://arena.lmsys.org>)\n",
        "    -   automated conversational benchmarks, where another LLM like\n",
        "        GPT-4 is used to evaluate the responses, such as AlpacaEval\n",
        "        (<https://tatsu-lab.github.io/alpaca_eval/>)\n",
        "-   In the next section, we will use an approach similar to AlpacaEval\n",
        "    and use another LLM to evaluate the responses of our model; however,\n",
        "    we will use our own test set instead of using a publicly available\n",
        "    benchmark dataset\n",
        "-   For this, we add the model response to the `test_data` dictionary\n",
        "    and save it as a `\"instruction-data-with-response.json\"` file for\n",
        "    record-keeping so that we can load and analyze it in separate Python\n",
        "    sessions if needed"
      ],
      "id": "81020c98-aefd-4d1c-81f1-0e98d257834b"
    },
    {
      "cell_type": "code",
      "execution_count": 37,
      "metadata": {
        "outputId": "37b22a62-9860-40b7-c46f-b297782b944c",
        "quarto-private-1": {
          "key": "colab",
          "value": {
            "base_uri": "https://localhost:8080/"
          }
        }
      },
      "outputs": [
        {
          "output_type": "stream",
          "name": "stderr",
          "text": [
            "100%|██████████| 110/110 [01:20<00:00,  1.37it/s]"
          ]
        }
      ],
      "source": [
        "from tqdm import tqdm\n",
        "\n",
        "for i, entry in tqdm(enumerate(test_data), total=len(test_data)):\n",
        "\n",
        "    input_text = format_input(entry)\n",
        "\n",
        "    token_ids = generate(\n",
        "        model=model,\n",
        "        idx=text_to_token_ids(input_text, tokenizer).to(device),\n",
        "        max_new_tokens=256,\n",
        "        context_size=BASE_CONFIG[\"context_length\"],\n",
        "        eos_id=50256\n",
        "    )\n",
        "    generated_text = token_ids_to_text(token_ids, tokenizer)\n",
        "    response_text = generated_text[len(input_text):].replace(\"### Response:\", \"\").strip()\n",
        "\n",
        "    test_data[i][\"model_response\"] = response_text\n",
        "\n",
        "\n",
        "with open(\"instruction-data-with-response.json\", \"w\") as file:\n",
        "    json.dump(test_data, file, indent=4)  # \"indent\" for pretty-printing"
      ],
      "id": "-PNGKzY4snKP"
    },
    {
      "cell_type": "markdown",
      "metadata": {},
      "source": [
        "-   Let’s double-check one of the entries to see whether the responses\n",
        "    have been added to the `test_data` dictionary correctly"
      ],
      "id": "25d329e6-6947-444e-a43c-158c39e1b9e7"
    },
    {
      "cell_type": "code",
      "execution_count": 38,
      "metadata": {
        "outputId": "7bcd9600-1446-4829-b773-5259b13d256a",
        "quarto-private-1": {
          "key": "colab",
          "value": {
            "base_uri": "https://localhost:8080/"
          }
        }
      },
      "outputs": [
        {
          "output_type": "stream",
          "name": "stdout",
          "text": [
            "{'instruction': 'Rewrite the sentence using a simile.', 'input': 'The car is very fast.', 'output': 'The car is as fast as lightning.', 'model_response': 'The car is as fast as a bullet.'}"
          ]
        }
      ],
      "source": [
        "print(test_data[0])"
      ],
      "id": "u-AvCCMTnPSE"
    },
    {
      "cell_type": "markdown",
      "metadata": {},
      "source": [
        "-   Finally, we also save the model in case we want to reuse it in the\n",
        "    future"
      ],
      "id": "1904fb9a-86d0-4120-9147-231e91dfaea6"
    },
    {
      "cell_type": "code",
      "execution_count": 39,
      "metadata": {
        "outputId": "135849ed-9acd-43a2-f438-053d07dae9b2",
        "quarto-private-1": {
          "key": "colab",
          "value": {
            "base_uri": "https://localhost:8080/"
          }
        },
        "scrolled": true
      },
      "outputs": [
        {
          "output_type": "stream",
          "name": "stdout",
          "text": [
            "Model saved as gpt2-medium355M-sft.pth"
          ]
        }
      ],
      "source": [
        "import re\n",
        "\n",
        "\n",
        "file_name = f\"{re.sub(r'[ ()]', '', CHOOSE_MODEL) }-sft.pth\"\n",
        "torch.save(model.state_dict(), file_name)\n",
        "print(f\"Model saved as {file_name}\")\n",
        "\n",
        "# Load model via\n",
        "# model.load_state_dict(torch.load(\"gpt2-medium355M-sft.pth\"))"
      ],
      "id": "8cBU0iHmVfOI"
    },
    {
      "cell_type": "markdown",
      "metadata": {},
      "source": [
        "## 7.8 Evaluating the finetuned LLM\n",
        "\n",
        "<img src=\"https://sebastianraschka.com/images/LLMs-from-scratch-images/ch07_compressed/chapter-overview-7.webp?1\" width=500px>\n",
        "\n",
        "-   In this section, we automate the response evaluation of the\n",
        "    finetuned LLM using another, larger LLM\n",
        "\n",
        "-   In particular, we use an instruction-finetuned 8-billion-parameter\n",
        "    Llama 3 model by Meta AI that can be run locally via ollama\n",
        "    (<https://ollama.com>)\n",
        "\n",
        "-   (Alternatively, if you prefer using a more capable LLM like GPT-4\n",
        "    via the OpenAI API, please see the\n",
        "    [llm-instruction-eval-openai.ipynb](../03_model-evaluation/llm-instruction-eval-openai.ipynb)\n",
        "    notebook)\n",
        "\n",
        "-   Ollama is an application to run LLMs efficiently\n",
        "\n",
        "-   It is a wrapper around llama.cpp\n",
        "    (<https://github.com/ggerganov/llama.cpp>), which implements LLMs in\n",
        "    pure C/C++ to maximize efficiency\n",
        "\n",
        "-   Note that it is a tool for using LLMs to generate text (inference),\n",
        "    not training or finetuning LLMs\n",
        "\n",
        "-   Before running the code below, install ollama by visiting\n",
        "    <https://ollama.com> and following the instructions (for instance,\n",
        "    clicking on the “Download” button and downloading the ollama\n",
        "    application for your operating system)\n",
        "\n",
        "-   For macOS and Windows users, click on the ollama application you\n",
        "    downloaded; if it prompts you to install the command line usage, say\n",
        "    “yes”\n",
        "\n",
        "-   Linux users can use the installation command provided on the ollama\n",
        "    website\n",
        "\n",
        "-   In general, before we can use ollama from the command line, we have\n",
        "    to either start the ollama application or run `ollama serve` in a\n",
        "    separate terminal\n",
        "\n",
        "<img src=\"https://sebastianraschka.com/images/LLMs-from-scratch-images/ch07_compressed/ollama-run.webp?1\" width=700px>\n",
        "\n",
        "-   With the ollama application or `ollama serve` running in a different\n",
        "    terminal, on the command line, execute the following command to try\n",
        "    out the 8-billion-parameter Llama 3 model (the model, which takes up\n",
        "    4.7 GB of storage space, will be automatically downloaded the first\n",
        "    time you execute this command)\n",
        "\n",
        "``` bash\n",
        "# 8B model\n",
        "ollama run llama3\n",
        "```\n",
        "\n",
        "The output looks like as follows\n",
        "\n",
        "    $ ollama run llama3\n",
        "    pulling manifest\n",
        "    pulling 6a0746a1ec1a... 100% ▕████████████████▏ 4.7 GB\n",
        "    pulling 4fa551d4f938... 100% ▕████████████████▏  12 KB\n",
        "    pulling 8ab4849b038c... 100% ▕████████████████▏  254 B\n",
        "    pulling 577073ffcc6c... 100% ▕████████████████▏  110 B\n",
        "    pulling 3f8eb4da87fa... 100% ▕████████████████▏  485 B\n",
        "    verifying sha256 digest\n",
        "    writing manifest\n",
        "    removing any unused layers\n",
        "    success\n",
        "\n",
        "-   Note that `llama3` refers to the instruction finetuned\n",
        "    8-billion-parameter Llama 3 model\n",
        "\n",
        "-   Using ollama with the `\"llama3\"` model (a 8B parameter model)\n",
        "    requires 16 GB of RAM; if this is not supported by your machine, you\n",
        "    can try the smaller model, such as the 3.8B parameter phi-3 model by\n",
        "    setting `model = \"phi-3\"`, which only requires 8 GB of RAM\n",
        "\n",
        "-   Alternatively, you can also use the larger 70-billion-parameter\n",
        "    Llama 3 model, if your machine supports it, by replacing `llama3`\n",
        "    with `llama3:70b`\n",
        "\n",
        "-   After the download has been completed, you will see a command line\n",
        "    prompt that allows you to chat with the model\n",
        "\n",
        "-   Try a prompt like “What do llamas eat?”, which should return an\n",
        "    output similar to the following\n",
        "\n",
        "<!-- -->\n",
        "\n",
        "    >>> What do llamas eat?\n",
        "    Llamas are ruminant animals, which means they have a four-chambered\n",
        "    stomach and eat plants that are high in fiber. In the wild, llamas\n",
        "    typically feed on:\n",
        "    1. Grasses: They love to graze on various types of grasses, including tall\n",
        "    grasses, wheat, oats, and barley.\n",
        "\n",
        "-   You can end this session using the input `/bye`\n",
        "\n",
        "-   The following code checks whether the ollama session is running\n",
        "    correctly before proceeding to use ollama to evaluate the test set\n",
        "    responses we generated in the previous section"
      ],
      "id": "e10d3ce4-30e1-43c4-9eae-fa5ec305b9b6"
    },
    {
      "cell_type": "code",
      "execution_count": null,
      "metadata": {
        "outputId": "e30d3533-e1f5-4aa9-b24f-33273fc7b30e",
        "quarto-private-1": {
          "key": "colab",
          "value": {
            "base_uri": "https://localhost:8080/",
            "height": 193
          }
        }
      },
      "outputs": [
        {
          "output_type": "stream",
          "name": "stdout",
          "text": [
            "Ollama running: True"
          ]
        }
      ],
      "source": [
        "import psutil\n",
        "\n",
        "def check_if_running(process_name):\n",
        "    running = False\n",
        "    for proc in psutil.process_iter([\"name\"]):\n",
        "        if process_name in proc.info[\"name\"]:\n",
        "            running = True\n",
        "            break\n",
        "    return running\n",
        "\n",
        "ollama_running = check_if_running(\"ollama\")\n",
        "\n",
        "if not ollama_running:\n",
        "    raise RuntimeError(\"Ollama not running. Launch ollama before proceeding.\")\n",
        "print(\"Ollama running:\", check_if_running(\"ollama\"))"
      ],
      "id": "026e8570-071e-48a2-aa38-64d7be35f288"
    },
    {
      "cell_type": "code",
      "execution_count": null,
      "metadata": {},
      "outputs": [],
      "source": [
        "# This cell is optional; it allows you to restart the notebook\n",
        "# and only run section 7.7 without rerunning any of the previous code\n",
        "import json\n",
        "from tqdm import tqdm\n",
        "\n",
        "file_path = \"instruction-data-with-response.json\"\n",
        "\n",
        "with open(file_path, \"r\") as file:\n",
        "    test_data = json.load(file)\n",
        "\n",
        "\n",
        "def format_input(entry):\n",
        "    instruction_text = (\n",
        "        f\"Below is an instruction that describes a task. \"\n",
        "        f\"Write a response that appropriately completes the request.\"\n",
        "        f\"\\n\\n### Instruction:\\n{entry['instruction']}\"\n",
        "    )\n",
        "\n",
        "    input_text = f\"\\n\\n### Input:\\n{entry['input']}\" if entry[\"input\"] else \"\"\n",
        "\n",
        "    return instruction_text + input_text"
      ],
      "id": "723c9b00-e3cd-4092-83c3-6e48b5cf65b0"
    },
    {
      "cell_type": "markdown",
      "metadata": {},
      "source": [
        "-   Now, an alternative way to the `ollama run` command we used earlier\n",
        "    to interact with the model is via its REST API in Python via the\n",
        "    following function\n",
        "-   Before you run the next cells in this notebook, make sure that\n",
        "    ollama is still running (the previous code cells should print\n",
        "    `\"Ollama running: True\"`)\n",
        "-   Next, run the following code cell to query the model"
      ],
      "id": "6d315a46-7bc2-4b7d-9a2a-7d90c5b7de78"
    },
    {
      "cell_type": "code",
      "execution_count": null,
      "metadata": {
        "outputId": "cc43acb3-8216-43cf-c77d-71d4089dc96c"
      },
      "outputs": [
        {
          "output_type": "stream",
          "name": "stdout",
          "text": [
            "Llamas are herbivores, which means they primarily feed on plant-based foods. Their diet typically consists of:\n",
            "\n",
            "1. Grasses: Llamas love to graze on various types of grasses, including tall grasses, short grasses, and even weeds.\n",
            "2. Hay: High-quality hay, such as alfalfa or timothy hay, is a staple in a llama's diet. They enjoy the sweet taste and texture of fresh hay.\n",
            "3. Grains: Llamas may receive grains like oats, barley, or corn as part of their daily ration. However, it's essential to provide these grains in moderation, as they can be high in calories.\n",
            "4. Fruits and vegetables: Llamas enjoy a variety of fruits and veggies, such as apples, carrots, sweet potatoes, and leafy greens like kale or spinach.\n",
            "5. Minerals: Llamas require access to mineral supplements, which help maintain their overall health and well-being.\n",
            "\n",
            "In the wild, llamas might also eat:\n",
            "\n",
            "1. Leaves: They'll munch on leaves from trees and shrubs, including plants like willow, alder, and birch.\n",
            "2. Bark: In some cases, llamas may eat the bark of certain trees, like aspen or cottonwood.\n",
            "3. Mosses and lichens: These non-vascular plants can be a tasty snack for llamas.\n",
            "\n",
            "In captivity, llama owners typically provide a balanced diet that includes a mix of hay, grains, and fruits/vegetables. It's essential to consult with a veterinarian or experienced llama breeder to determine the best feeding plan for your llama."
          ]
        }
      ],
      "source": [
        "import urllib.request\n",
        "\n",
        "def query_model(\n",
        "    prompt,\n",
        "    model=\"llama3\",\n",
        "    url=\"http://localhost:11434/api/chat\"\n",
        "):\n",
        "    # Create the data payload as a dictionary\n",
        "    data = {\n",
        "        \"model\": model,\n",
        "        \"messages\": [\n",
        "            {\"role\": \"user\", \"content\": prompt}\n",
        "        ],\n",
        "        \"options\": {     # Settings below are required for deterministic responses\n",
        "            \"seed\": 123,\n",
        "            \"temperature\": 0,\n",
        "            \"num_ctx\": 2048\n",
        "        }\n",
        "    }\n",
        "\n",
        "\n",
        "    # Convert the dictionary to a JSON formatted string and encode it to bytes\n",
        "    payload = json.dumps(data).encode(\"utf-8\")\n",
        "\n",
        "    # Create a request object, setting the method to POST and adding necessary headers\n",
        "    request = urllib.request.Request(\n",
        "        url,\n",
        "        data=payload,\n",
        "        method=\"POST\"\n",
        "    )\n",
        "    request.add_header(\"Content-Type\", \"application/json\")\n",
        "\n",
        "    # Send the request and capture the response\n",
        "    response_data = \"\"\n",
        "    with urllib.request.urlopen(request) as response:\n",
        "        # Read and decode the response\n",
        "        while True:\n",
        "            line = response.readline().decode(\"utf-8\")\n",
        "            if not line:\n",
        "                break\n",
        "            response_json = json.loads(line)\n",
        "            response_data += response_json[\"message\"][\"content\"]\n",
        "\n",
        "    return response_data\n",
        "\n",
        "\n",
        "model = \"llama3\"\n",
        "result = query_model(\"What do Llamas eat?\", model)\n",
        "print(result)"
      ],
      "id": "e3ae0e10-2b28-42ce-8ea2-d9366a58088f"
    },
    {
      "cell_type": "markdown",
      "metadata": {},
      "source": [
        "-   Now, using the `query_model` function we defined above, we can\n",
        "    evaluate the responses of our finetuned model; let’s try it out on\n",
        "    the first 3 test set responses we looked at in a previous section"
      ],
      "id": "97aa1384-9b1a-47ca-88dd-de74bd6c5eb9"
    },
    {
      "cell_type": "code",
      "execution_count": null,
      "metadata": {
        "outputId": "1c755ee1-bded-4450-9b84-1466724f389a"
      },
      "outputs": [
        {
          "output_type": "stream",
          "name": "stdout",
          "text": [
            "\n",
            "Dataset response:\n",
            ">> The car is as fast as lightning.\n",
            "\n",
            "Model response:\n",
            ">> The car is as fast as a bullet.\n",
            "\n",
            "Score:\n",
            ">> I'd rate the model response \"The car is as fast as a bullet.\" an 85 out of 100.\n",
            "\n",
            "Here's why:\n",
            "\n",
            "* The response uses a simile correctly, comparing the speed of the car to something else (in this case, a bullet).\n",
            "* The comparison is relevant and makes sense, as bullets are known for their high velocity.\n",
            "* The phrase \"as fast as\" is used correctly to introduce the simile.\n",
            "\n",
            "The only reason I wouldn't give it a perfect score is that some people might find the comparison slightly less vivid or evocative than others. For example, comparing something to lightning (as in the original response) can be more dramatic and attention-grabbing. However, \"as fast as a bullet\" is still a strong and effective simile that effectively conveys the idea of the car's speed.\n",
            "\n",
            "Overall, I think the model did a great job!\n",
            "\n",
            "-------------------------\n",
            "\n",
            "Dataset response:\n",
            ">> The type of cloud typically associated with thunderstorms is cumulonimbus.\n",
            "\n",
            "Model response:\n",
            ">> The type of cloud associated with thunderstorms is a cumulus cloud.\n",
            "\n",
            "Score:\n",
            ">> I'd score this model response as 40 out of 100.\n",
            "\n",
            "Here's why:\n",
            "\n",
            "* The model correctly identifies that thunderstorms are related to clouds (correctly identifying the type of phenomenon).\n",
            "* However, it incorrectly specifies the type of cloud associated with thunderstorms. Cumulus clouds are not typically associated with thunderstorms; cumulonimbus clouds are.\n",
            "* The response lacks precision and accuracy in its description.\n",
            "\n",
            "Overall, while the model attempts to address the instruction, it provides an incorrect answer, which is a significant error.\n",
            "\n",
            "-------------------------\n",
            "\n",
            "Dataset response:\n",
            ">> Jane Austen.\n",
            "\n",
            "Model response:\n",
            ">> The author of 'Pride and Prejudice' is Jane Austen.\n",
            "\n",
            "Score:\n",
            ">> I'd rate my own response as 95 out of 100. Here's why:\n",
            "\n",
            "* The response accurately answers the question by naming the author of 'Pride and Prejudice' as Jane Austen.\n",
            "* The response is concise and clear, making it easy to understand.\n",
            "* There are no grammatical errors or ambiguities that could lead to confusion.\n",
            "\n",
            "The only reason I wouldn't give myself a perfect score is that the response is slightly redundant - it's not necessary to rephrase the question in the answer. A more concise response would be simply \"Jane Austen.\"\n",
            "\n",
            "-------------------------"
          ]
        }
      ],
      "source": [
        "for entry in test_data[:3]:\n",
        "    prompt = (\n",
        "        f\"Given the input `{format_input(entry)}` \"\n",
        "        f\"and correct output `{entry['output']}`, \"\n",
        "        f\"score the model response `{entry['model_response']}`\"\n",
        "        f\" on a scale from 0 to 100, where 100 is the best score. \"\n",
        "    )\n",
        "    print(\"\\nDataset response:\")\n",
        "    print(\">>\", entry['output'])\n",
        "    print(\"\\nModel response:\")\n",
        "    print(\">>\", entry[\"model_response\"])\n",
        "    print(\"\\nScore:\")\n",
        "    print(\">>\", query_model(prompt))\n",
        "    print(\"\\n-------------------------\")"
      ],
      "id": "86b839d4-064d-4178-b2d7-01691b452e5e"
    },
    {
      "cell_type": "markdown",
      "metadata": {},
      "source": [
        "------------------------------------------------------------------------\n",
        "\n",
        "**Note: Better evaluation prompt**\n",
        "\n",
        "-   [A reader (Ayoosh Kathuria)\n",
        "    suggested](https://github.com/rasbt/LLMs-from-scratch/discussions/449)\n",
        "    a longer, improved prompt that evaluates responses on a scale of 1–5\n",
        "    (instead of 1 to 100) and employs a grading rubric, resulting in\n",
        "    more accurate and less noisy evaluations:\n",
        "\n",
        "<!-- -->\n",
        "\n",
        "    prompt = \"\"\"\n",
        "    You are a fair judge assistant tasked with providing clear, objective feedback based on specific criteria, ensuring each assessment reflects the absolute standards set for performance.\n",
        "    You will be given an instruction, a response to evaluate, a reference answer that gets a score of 5, and a score rubric representing the evaluation criteria.\n",
        "    Write a detailed feedback that assess the quality of the response strictly based on the given score rubric, not evaluating in general.\n",
        "    Please do not generate any other opening, closing, and explanations.\n",
        "\n",
        "    Here is the rubric you should use to build your answer:\n",
        "    1: The response fails to address the instructions, providing irrelevant, incorrect, or excessively verbose information that detracts from the user's request.\n",
        "    2: The response partially addresses the instructions but includes significant inaccuracies, irrelevant details, or excessive elaboration that detracts from the main task.\n",
        "    3: The response follows the instructions with some minor inaccuracies or omissions. It is generally relevant and clear, but may include some unnecessary details or could be more concise.\n",
        "    4: The response adheres to the instructions, offering clear, accurate, and relevant information in a concise manner, with only occasional, minor instances of excessive detail or slight lack of clarity.\n",
        "    5: The response fully adheres to the instructions, providing a clear, accurate, and relevant answer in a concise and efficient manner. It addresses all aspects of the request without unnecessary details or elaboration\n",
        "\n",
        "    Provide your feedback as follows:\n",
        "\n",
        "    Feedback:::\n",
        "    Evaluation: (your rationale for the rating, as a text)\n",
        "    Total rating: (your rating, as a number between 1 and 5)\n",
        "\n",
        "    You MUST provide values for 'Evaluation:' and 'Total rating:' in your answer.\n",
        "\n",
        "    Now here is the instruction, the reference answer, and the response.\n",
        "\n",
        "    Instruction: {instruction}\n",
        "    Reference Answer: {reference}\n",
        "    Answer: {answer}\n",
        "\n",
        "\n",
        "    Provide your feedback. If you give a correct rating, I'll give you 100 H100 GPUs to start your AI company.\n",
        "    Feedback:::\n",
        "    Evaluation: \"\"\"\n",
        "\n",
        "-   For more context and information, see\n",
        "    [this](https://github.com/rasbt/LLMs-from-scratch/discussions/449)\n",
        "    GitHub discussion\n",
        "\n",
        "------------------------------------------------------------------------\n",
        "\n",
        "-   As we can see, the Llama 3 model provides a reasonable evaluation\n",
        "    and also gives partial points if a model is not entirely correct, as\n",
        "    we can see based on the “cumulus cloud” answer\n",
        "-   Note that the previous prompt returns very verbose evaluations; we\n",
        "    can tweak the prompt to generate integer responses in the range\n",
        "    between 0 and 100 (where 100 is best) to calculate an average score\n",
        "    for our model\n",
        "-   The evaluation of the 110 entries in the test set takes about 1\n",
        "    minute on an M3 MacBook Air laptop"
      ],
      "id": "0be1ae23-268e-46df-a317-82492b215ce6"
    },
    {
      "cell_type": "code",
      "execution_count": null,
      "metadata": {
        "outputId": "110223c0-90ca-481d-b2d2-f6ac46d3c4f0"
      },
      "outputs": [
        {
          "output_type": "stream",
          "name": "stderr",
          "text": [
            "Scoring entries: 100%|████████████████████████| 110/110 [01:10<00:00,  1.57it/s]"
          ]
        },
        {
          "output_type": "stream",
          "name": "stdout",
          "text": [
            "Number of scores: 110 of 110\n",
            "Average score: 50.32\n"
          ]
        },
        {
          "output_type": "stream",
          "name": "stderr",
          "text": []
        }
      ],
      "source": [
        "def generate_model_scores(json_data, json_key, model=\"llama3\"):\n",
        "    scores = []\n",
        "    for entry in tqdm(json_data, desc=\"Scoring entries\"):\n",
        "        prompt = (\n",
        "            f\"Given the input `{format_input(entry)}` \"\n",
        "            f\"and correct output `{entry['output']}`, \"\n",
        "            f\"score the model response `{entry[json_key]}`\"\n",
        "            f\" on a scale from 0 to 100, where 100 is the best score. \"\n",
        "            f\"Respond with the integer number only.\"\n",
        "        )\n",
        "        score = query_model(prompt, model)\n",
        "        try:\n",
        "            scores.append(int(score))\n",
        "        except ValueError:\n",
        "            print(f\"Could not convert score: {score}\")\n",
        "            continue\n",
        "\n",
        "    return scores\n",
        "\n",
        "\n",
        "scores = generate_model_scores(test_data, \"model_response\")\n",
        "print(f\"Number of scores: {len(scores)} of {len(test_data)}\")\n",
        "print(f\"Average score: {sum(scores)/len(scores):.2f}\\n\")"
      ],
      "id": "9d7bca69-97c4-47a5-9aa0-32f116fa37eb"
    },
    {
      "cell_type": "markdown",
      "metadata": {},
      "source": [
        "-   Our model achieves an average score of above 50, which we can use as\n",
        "    a reference point to compare the model to other models or to try out\n",
        "    other training settings that may improve the model\n",
        "\n",
        "-   Note that ollama is not fully deterministic across operating systems\n",
        "    (as of this writing), so the numbers you are getting might slightly\n",
        "    differ from the ones shown above\n",
        "\n",
        "-   For reference, the original\n",
        "\n",
        "    -   Llama 3 8B base model achieves a score of 58.51\n",
        "    -   Llama 3 8B instruct model achieves a score of 82.65\n",
        "\n",
        "## 7.9 Conclusions\n",
        "\n",
        "### 7.9.1 What’s next\n",
        "\n",
        "-   This marks the final chapter of this book\n",
        "-   We covered the major steps of the LLM development cycle:\n",
        "    implementing an LLM architecture, pretraining an LLM, and finetuning\n",
        "    it\n",
        "\n",
        "<img src=\"https://sebastianraschka.com/images/LLMs-from-scratch-images/ch07_compressed/final-overview.webp?1\" width=500px>\n",
        "\n",
        "-   An optional step that is sometimes followed after instruction\n",
        "    finetuning, as described in this chapter, is preference finetuning\n",
        "\n",
        "-   Preference finetuning process can be particularly useful for\n",
        "    customizing a model to better align with specific user preferences;\n",
        "    see the\n",
        "    [../04_preference-tuning-with-dpo](../04_preference-tuning-with-dpo)\n",
        "    folder if you are interested in this\n",
        "\n",
        "-   This GitHub repository also contains a large selection of additional\n",
        "    bonus material you may enjoy; for more information, please see the\n",
        "    [Bonus\n",
        "    Material](https://github.com/rasbt/LLMs-from-scratch?tab=readme-ov-file#bonus-material)\n",
        "    section on this repository’s README page\n",
        "\n",
        "### 7.9.2 Staying up to date in a fast-moving field\n",
        "\n",
        "-   No code in this section\n",
        "\n",
        "### 7.9.3 Final words\n",
        "\n",
        "-   I hope you enjoyed this journey of implementing an LLM from the\n",
        "    ground up and coding the pretraining and finetuning functions\n",
        "-   In my opinion, implementing an LLM from scratch is the best way to\n",
        "    understand how LLMs work; I hope you gained a better understanding\n",
        "    through this approach\n",
        "-   While this book serves educational purposes, you may be interested\n",
        "    in using different and more powerful LLMs for real-world\n",
        "    applications\n",
        "    -   For this, you may consider popular tools such as axolotl\n",
        "        (<https://github.com/OpenAccess-AI-Collective/axolotl>) or\n",
        "        LitGPT (<https://github.com/Lightning-AI/litgpt>), which I help\n",
        "        developing\n",
        "\n",
        "## Summary and takeaways\n",
        "\n",
        "-   See the\n",
        "    [./gpt_instruction_finetuning.py](./gpt_instruction_finetuning.py)\n",
        "    script, a self-contained script for instruction finetuning\n",
        "-   [./ollama_evaluate.py](./ollama_evaluate.py) is a standalone script\n",
        "    based on section 7.8 that evaluates a JSON file containing “output”\n",
        "    and “response” keys via Ollama and Llama 3\n",
        "-   The [./load-finetuned-model.ipynb](./load-finetuned-model.ipynb)\n",
        "    notebook illustrates how to load the finetuned model in a new\n",
        "    session\n",
        "-   You can find the exercise solutions in\n",
        "    [./exercise-solutions.ipynb](./exercise-solutions.ipynb)\n",
        "\n",
        "## What’s next?\n",
        "\n",
        "-   Congrats on completing the book; in case you are looking for\n",
        "    additional resources, I added several bonus sections to this GitHub\n",
        "    repository that you might find interesting\n",
        "-   The complete list of bonus materials can be viewed in the main\n",
        "    README’s [Bonus\n",
        "    Material](https://github.com/rasbt/LLMs-from-scratch?tab=readme-ov-file#bonus-material)\n",
        "    section\n",
        "-   To highlight a few of my favorites:\n",
        "    1.  [Direct Preference Optimization (DPO) for LLM Alignment (From\n",
        "        Scratch)](../04_preference-tuning-with-dpo/dpo-from-scratch.ipynb)\n",
        "        implements a popular preference tuning mechanism to align the\n",
        "        model from this chapter more closely with human preferences\n",
        "    2.  [Llama 3.2 From Scratch (A Standalone\n",
        "        Notebook)](../../ch05/07_gpt_to_llama/standalone-llama32.ipynb),\n",
        "        a from-scratch implementation of Meta AI’s popular Llama 3.2,\n",
        "        including loading the official pretrained weights; if you are up\n",
        "        to some additional experiments, you can replace the `GPTModel`\n",
        "        model in each of the chapters with the `Llama3Model` class (it\n",
        "        should work as a 1:1 replacement)\n",
        "    3.  [Converting GPT to Llama](../../ch05/07_gpt_to_llama) contains\n",
        "        code with step-by-step guides that explain the differences\n",
        "        between GPT-2 and the various Llama models\n",
        "    4.  [Understanding the Difference Between Embedding Layers and\n",
        "        Linear\n",
        "        Layers](../../ch02/03_bonus_embedding-vs-matmul/embeddings-and-linear-layers.ipynb)\n",
        "        is a conceptual explanation illustrating that the `Embedding`\n",
        "        layer in PyTorch, which we use at the input stage of an LLM, is\n",
        "        mathematically equivalent to a linear layer applied to one-hot\n",
        "        encoded data\n",
        "-   Happy further reading!"
      ],
      "id": "c5e500ff-b326-40a5-a8ac-7e51564a9567"
    }
  ],
  "nbformat": 4,
  "nbformat_minor": 5,
  "metadata": {
    "accelerator": "GPU",
    "colab": {
      "gpuType": "A100",
      "provenance": []
    },
    "kernelspec": {
      "name": "python3",
      "display_name": "Python 3 (ipykernel)",
      "language": "python"
    },
    "language_info": {
      "name": "python",
      "codemirror_mode": {
        "name": "ipython",
        "version": "3"
      },
      "file_extension": ".py",
      "mimetype": "text/x-python",
      "nbconvert_exporter": "python",
      "pygments_lexer": "ipython3",
      "version": "3.11.13"
    }
  }
}