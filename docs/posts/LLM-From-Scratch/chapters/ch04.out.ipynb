{
  "cells": [
    {
      "cell_type": "markdown",
      "metadata": {},
      "source": [
        "#"
      ],
      "id": "0f62b0b6-0dc8-4171-9c02-367fef593b01"
    },
    {
      "cell_type": "code",
      "execution_count": 1,
      "metadata": {},
      "outputs": [
        {
          "output_type": "stream",
          "name": "stdout",
          "text": [
            "matplotlib version: 3.10.0\n",
            "torch version: 2.6.0\n",
            "tiktoken version: 0.9.0"
          ]
        }
      ],
      "source": [
        "from importlib.metadata import version\n",
        "\n",
        "print(\"matplotlib version:\", version(\"matplotlib\"))\n",
        "print(\"torch version:\", version(\"torch\"))\n",
        "print(\"tiktoken version:\", version(\"tiktoken\"))"
      ],
      "id": "f9eac223-a125-40f7-bacc-bd0d890450c7"
    },
    {
      "cell_type": "markdown",
      "metadata": {},
      "source": [
        "-   In this chapter, we implement a GPT-like LLM architecture; the next\n",
        "    chapter will focus on training this LLM\n",
        "\n",
        "<img src=\"https://sebastianraschka.com/images/LLMs-from-scratch-images/ch04_compressed/01.webp\" width=\"500px\">\n",
        "\n",
        "## 4.1 Coding an LLM architecture\n",
        "\n",
        "-   Chapter 1 discussed models like GPT and Llama, which generate words\n",
        "    sequentially and are based on the decoder part of the original\n",
        "    transformer architecture\n",
        "-   Therefore, these LLMs are often referred to as “decoder-like” LLMs\n",
        "-   Compared to conventional deep learning models, LLMs are larger,\n",
        "    mainly due to their vast number of parameters, not the amount of\n",
        "    code\n",
        "-   We’ll see that many elements are repeated in an LLM’s architecture\n",
        "\n",
        "<img src=\"https://sebastianraschka.com/images/LLMs-from-scratch-images/ch04_compressed/02.webp\" width=\"400px\">\n",
        "\n",
        "-   In previous chapters, we used small embedding dimensions for token\n",
        "    inputs and outputs for ease of illustration, ensuring they fit on a\n",
        "    single page\n",
        "\n",
        "-   In this chapter, we consider embedding and model sizes akin to a\n",
        "    small GPT-2 model\n",
        "\n",
        "-   We’ll specifically code the architecture of the smallest GPT-2 model\n",
        "    (124 million parameters), as outlined in Radford et al.’s [Language\n",
        "    Models are Unsupervised Multitask\n",
        "    Learners](https://cdn.openai.com/better-language-models/language_models_are_unsupervised_multitask_learners.pdf)\n",
        "    (note that the initial report lists it as 117M parameters, but this\n",
        "    was later corrected in the model weight repository)\n",
        "\n",
        "-   Chapter 6 will show how to load pretrained weights into our\n",
        "    implementation, which will be compatible with model sizes of 345,\n",
        "    762, and 1542 million parameters\n",
        "\n",
        "-   Configuration details for the 124 million parameter GPT-2 model\n",
        "    include:"
      ],
      "id": "bde992b2-c808-4c56-8b04-e4d4b45414ba"
    },
    {
      "cell_type": "code",
      "execution_count": 2,
      "metadata": {},
      "outputs": [],
      "source": [
        "GPT_CONFIG_124M = {\n",
        "    \"vocab_size\": 50257,    # Vocabulary size\n",
        "    \"context_length\": 1024, # Context length\n",
        "    \"emb_dim\": 768,         # Embedding dimension\n",
        "    \"n_heads\": 12,          # Number of attention heads\n",
        "    \"n_layers\": 12,         # Number of layers\n",
        "    \"drop_rate\": 0.1,       # Dropout rate\n",
        "    \"qkv_bias\": False       # Query-Key-Value bias\n",
        "}"
      ],
      "id": "5ed66875-1f24-445d-add6-006aae3c5707"
    },
    {
      "cell_type": "markdown",
      "metadata": {},
      "source": [
        "-   We use short variable names to avoid long lines of code later\n",
        "-   `\"vocab_size\"` indicates a vocabulary size of 50,257 words,\n",
        "    supported by the BPE tokenizer discussed in Chapter 2\n",
        "-   `\"context_length\"` represents the model’s maximum input token count,\n",
        "    as enabled by positional embeddings covered in Chapter 2\n",
        "-   `\"emb_dim\"` is the embedding size for token inputs, converting each\n",
        "    input token into a 768-dimensional vector\n",
        "-   `\"n_heads\"` is the number of attention heads in the multi-head\n",
        "    attention mechanism implemented in Chapter 3\n",
        "-   `\"n_layers\"` is the number of transformer blocks within the model,\n",
        "    which we’ll implement in upcoming sections\n",
        "-   `\"drop_rate\"` is the dropout mechanism’s intensity, discussed in\n",
        "    Chapter 3; 0.1 means dropping 10% of hidden units during training to\n",
        "    mitigate overfitting\n",
        "-   `\"qkv_bias\"` decides if the `Linear` layers in the multi-head\n",
        "    attention mechanism (from Chapter 3) should include a bias vector\n",
        "    when computing query (Q), key (K), and value (V) tensors; we’ll\n",
        "    disable this option, which is standard practice in modern LLMs;\n",
        "    however, we’ll revisit this later when loading pretrained GPT-2\n",
        "    weights from OpenAI into our reimplementation in chapter 5\n",
        "\n",
        "<img src=\"https://sebastianraschka.com/images/LLMs-from-scratch-images/ch04_compressed/03.webp\" width=\"500px\">"
      ],
      "id": "ef1bc4b9-bf5e-4c1a-8bcf-7433cb4436e3"
    },
    {
      "cell_type": "code",
      "execution_count": 3,
      "metadata": {},
      "outputs": [],
      "source": [
        "import torch\n",
        "import torch.nn as nn\n",
        "\n",
        "\n",
        "class DummyGPTModel(nn.Module):\n",
        "    def __init__(self, cfg):\n",
        "        super().__init__()\n",
        "        self.tok_emb = nn.Embedding(cfg[\"vocab_size\"], cfg[\"emb_dim\"])\n",
        "        self.pos_emb = nn.Embedding(cfg[\"context_length\"], cfg[\"emb_dim\"])\n",
        "        self.drop_emb = nn.Dropout(cfg[\"drop_rate\"])\n",
        "        \n",
        "        # Use a placeholder for TransformerBlock\n",
        "        self.trf_blocks = nn.Sequential(\n",
        "            *[DummyTransformerBlock(cfg) for _ in range(cfg[\"n_layers\"])])\n",
        "        \n",
        "        # Use a placeholder for LayerNorm\n",
        "        self.final_norm = DummyLayerNorm(cfg[\"emb_dim\"])\n",
        "        self.out_head = nn.Linear(\n",
        "            cfg[\"emb_dim\"], cfg[\"vocab_size\"], bias=False\n",
        "        )\n",
        "\n",
        "    def forward(self, in_idx):\n",
        "        batch_size, seq_len = in_idx.shape\n",
        "        tok_embeds = self.tok_emb(in_idx)\n",
        "        pos_embeds = self.pos_emb(torch.arange(seq_len, device=in_idx.device))\n",
        "        x = tok_embeds + pos_embeds\n",
        "        x = self.drop_emb(x)\n",
        "        x = self.trf_blocks(x)\n",
        "        x = self.final_norm(x)\n",
        "        logits = self.out_head(x)\n",
        "        return logits\n",
        "\n",
        "\n",
        "class DummyTransformerBlock(nn.Module):\n",
        "    def __init__(self, cfg):\n",
        "        super().__init__()\n",
        "        # A simple placeholder\n",
        "\n",
        "    def forward(self, x):\n",
        "        # This block does nothing and just returns its input.\n",
        "        return x\n",
        "\n",
        "\n",
        "class DummyLayerNorm(nn.Module):\n",
        "    def __init__(self, normalized_shape, eps=1e-5):\n",
        "        super().__init__()\n",
        "        # The parameters here are just to mimic the LayerNorm interface.\n",
        "\n",
        "    def forward(self, x):\n",
        "        # This layer does nothing and just returns its input.\n",
        "        return x"
      ],
      "id": "619c2eed-f8ea-4ff5-92c3-feda0f29b227"
    },
    {
      "cell_type": "markdown",
      "metadata": {},
      "source": [
        "<img src=\"https://sebastianraschka.com/images/LLMs-from-scratch-images/ch04_compressed/04.webp?123\" width=\"500px\">"
      ],
      "id": "bf328604-32ea-42f8-9f3d-50b5c5552771"
    },
    {
      "cell_type": "code",
      "execution_count": 4,
      "metadata": {},
      "outputs": [
        {
          "output_type": "stream",
          "name": "stdout",
          "text": [
            "tensor([[6109, 3626, 6100,  345],\n",
            "        [6109, 1110, 6622,  257]])"
          ]
        }
      ],
      "source": [
        "import tiktoken\n",
        "\n",
        "tokenizer = tiktoken.get_encoding(\"gpt2\")\n",
        "\n",
        "batch = []\n",
        "\n",
        "txt1 = \"Every effort moves you\"\n",
        "txt2 = \"Every day holds a\"\n",
        "\n",
        "batch.append(torch.tensor(tokenizer.encode(txt1)))\n",
        "batch.append(torch.tensor(tokenizer.encode(txt2)))\n",
        "batch = torch.stack(batch, dim=0)\n",
        "print(batch)"
      ],
      "id": "794b6b6c-d36f-411e-a7db-8ac566a87fee"
    },
    {
      "cell_type": "code",
      "execution_count": 5,
      "metadata": {},
      "outputs": [
        {
          "output_type": "stream",
          "name": "stdout",
          "text": [
            "Output shape: torch.Size([2, 4, 50257])\n",
            "tensor([[[-1.2034,  0.3201, -0.7130,  ..., -1.5548, -0.2390, -0.4667],\n",
            "         [-0.1192,  0.4539, -0.4432,  ...,  0.2392,  1.3469,  1.2430],\n",
            "         [ 0.5307,  1.6720, -0.4695,  ...,  1.1966,  0.0111,  0.5835],\n",
            "         [ 0.0139,  1.6754, -0.3388,  ...,  1.1586, -0.0435, -1.0400]],\n",
            "\n",
            "        [[-1.0908,  0.1798, -0.9484,  ..., -1.6047,  0.2439, -0.4530],\n",
            "         [-0.7860,  0.5581, -0.0610,  ...,  0.4835, -0.0077,  1.6621],\n",
            "         [ 0.3567,  1.2698, -0.6398,  ..., -0.0162, -0.1296,  0.3717],\n",
            "         [-0.2407, -0.7349, -0.5102,  ...,  2.0057, -0.3694,  0.1814]]],\n",
            "       grad_fn=<UnsafeViewBackward0>)"
          ]
        }
      ],
      "source": [
        "torch.manual_seed(123)\n",
        "model = DummyGPTModel(GPT_CONFIG_124M)\n",
        "\n",
        "logits = model(batch)\n",
        "print(\"Output shape:\", logits.shape)\n",
        "print(logits)"
      ],
      "id": "009238cd-0160-4834-979c-309710986bb0"
    },
    {
      "cell_type": "markdown",
      "metadata": {},
      "source": [
        "------------------------------------------------------------------------\n",
        "\n",
        "**Note**\n",
        "\n",
        "-   If you are running this code on Windows or Linux, the resulting\n",
        "    values above may look like as follows:\n",
        "\n",
        "<!-- -->\n",
        "\n",
        "    Output shape: torch.Size([2, 4, 50257])\n",
        "    tensor([[[-0.9289,  0.2748, -0.7557,  ..., -1.6070,  0.2702, -0.5888],\n",
        "             [-0.4476,  0.1726,  0.5354,  ..., -0.3932,  1.5285,  0.8557],\n",
        "             [ 0.5680,  1.6053, -0.2155,  ...,  1.1624,  0.1380,  0.7425],\n",
        "             [ 0.0447,  2.4787, -0.8843,  ...,  1.3219, -0.0864, -0.5856]],\n",
        "\n",
        "            [[-1.5474, -0.0542, -1.0571,  ..., -1.8061, -0.4494, -0.6747],\n",
        "             [-0.8422,  0.8243, -0.1098,  ..., -0.1434,  0.2079,  1.2046],\n",
        "             [ 0.1355,  1.1858, -0.1453,  ...,  0.0869, -0.1590,  0.1552],\n",
        "             [ 0.1666, -0.8138,  0.2307,  ...,  2.5035, -0.3055, -0.3083]]],\n",
        "           grad_fn=<UnsafeViewBackward0>)\n",
        "\n",
        "-   Since these are just random numbers, this is not a reason for\n",
        "    concern, and you can proceed with the remainder of the chapter\n",
        "    without issues\n",
        "-   One possible reason for this discrepancy is the differing behavior\n",
        "    of `nn.Dropout` across operating systems, depending on how PyTorch\n",
        "    was compiled, as discussed [here on the PyTorch issue\n",
        "    tracker](https://github.com/pytorch/pytorch/issues/121595)\n",
        "\n",
        "------------------------------------------------------------------------\n",
        "\n",
        "## 4.2 Normalizing activations with layer normalization\n",
        "\n",
        "-   Layer normalization, also known as LayerNorm ([Ba et\n",
        "    al. 2016](https://arxiv.org/abs/1607.06450)), centers the\n",
        "    activations of a neural network layer around a mean of 0 and\n",
        "    normalizes their variance to 1\n",
        "-   This stabilizes training and enables faster convergence to effective\n",
        "    weights\n",
        "-   Layer normalization is applied both before and after the multi-head\n",
        "    attention module within the transformer block, which we will\n",
        "    implement later; it’s also applied before the final output layer\n",
        "\n",
        "<img src=\"https://sebastianraschka.com/images/LLMs-from-scratch-images/ch04_compressed/05.webp\" width=\"400px\">\n",
        "\n",
        "-   Let’s see how layer normalization works by passing a small input\n",
        "    sample through a simple neural network layer:"
      ],
      "id": "7e447df5-d74d-4c50-a6bf-bd7473b30922"
    },
    {
      "cell_type": "code",
      "execution_count": 6,
      "metadata": {},
      "outputs": [
        {
          "output_type": "stream",
          "name": "stdout",
          "text": [
            "tensor([[0.2260, 0.3470, 0.0000, 0.2216, 0.0000, 0.0000],\n",
            "        [0.2133, 0.2394, 0.0000, 0.5198, 0.3297, 0.0000]],\n",
            "       grad_fn=<ReluBackward0>)"
          ]
        }
      ],
      "source": [
        "torch.manual_seed(123)\n",
        "\n",
        "# create 2 training examples with 5 dimensions (features) each\n",
        "batch_example = torch.randn(2, 5) \n",
        "\n",
        "layer = nn.Sequential(nn.Linear(5, 6), nn.ReLU())\n",
        "out = layer(batch_example)\n",
        "print(out)"
      ],
      "id": "79e1b463-dc3f-44ac-9cdb-9d5b6f64eb9d"
    },
    {
      "cell_type": "markdown",
      "metadata": {},
      "source": [
        "-   Let’s compute the mean and variance for each of the 2 inputs above:"
      ],
      "id": "a6c422ce-84c0-449f-aea7-b9cd8be34e78"
    },
    {
      "cell_type": "code",
      "execution_count": 7,
      "metadata": {},
      "outputs": [
        {
          "output_type": "stream",
          "name": "stdout",
          "text": [
            "Mean:\n",
            " tensor([[0.1324],\n",
            "        [0.2170]], grad_fn=<MeanBackward1>)\n",
            "Variance:\n",
            " tensor([[0.0231],\n",
            "        [0.0398]], grad_fn=<VarBackward0>)"
          ]
        }
      ],
      "source": [
        "mean = out.mean(dim=-1, keepdim=True)\n",
        "var = out.var(dim=-1, keepdim=True)\n",
        "\n",
        "print(\"Mean:\\n\", mean)\n",
        "print(\"Variance:\\n\", var)"
      ],
      "id": "9888f79e-8e69-44aa-8a19-cd34292adbf5"
    },
    {
      "cell_type": "markdown",
      "metadata": {},
      "source": [
        "-   The normalization is applied to each of the two inputs (rows)\n",
        "    independently; using dim=-1 applies the calculation across the last\n",
        "    dimension (in this case, the feature dimension) instead of the row\n",
        "    dimension\n",
        "\n",
        "<img src=\"https://sebastianraschka.com/images/LLMs-from-scratch-images/ch04_compressed/06.webp\" width=\"400px\">\n",
        "\n",
        "-   Subtracting the mean and dividing by the square-root of the variance\n",
        "    (standard deviation) centers the inputs to have a mean of 0 and a\n",
        "    variance of 1 across the column (feature) dimension:"
      ],
      "id": "9d69df54-6a82-4449-94ad-ca57c00f0cc3"
    },
    {
      "cell_type": "code",
      "execution_count": 8,
      "metadata": {},
      "outputs": [
        {
          "output_type": "stream",
          "name": "stdout",
          "text": [
            "Normalized layer outputs:\n",
            " tensor([[ 0.6159,  1.4126, -0.8719,  0.5872, -0.8719, -0.8719],\n",
            "        [-0.0189,  0.1121, -1.0876,  1.5173,  0.5647, -1.0876]],\n",
            "       grad_fn=<DivBackward0>)\n",
            "Mean:\n",
            " tensor([[-5.9605e-08],\n",
            "        [ 1.9868e-08]], grad_fn=<MeanBackward1>)\n",
            "Variance:\n",
            " tensor([[1.0000],\n",
            "        [1.0000]], grad_fn=<VarBackward0>)"
          ]
        }
      ],
      "source": [
        "out_norm = (out - mean) / torch.sqrt(var)\n",
        "print(\"Normalized layer outputs:\\n\", out_norm)\n",
        "\n",
        "mean = out_norm.mean(dim=-1, keepdim=True)\n",
        "var = out_norm.var(dim=-1, keepdim=True)\n",
        "print(\"Mean:\\n\", mean)\n",
        "print(\"Variance:\\n\", var)"
      ],
      "id": "9a1d1bb9-3341-4c9a-bc2a-d2489bf89cda"
    },
    {
      "cell_type": "markdown",
      "metadata": {},
      "source": [
        "-   Each input is centered at 0 and has a unit variance of 1; to improve\n",
        "    readability, we can disable PyTorch’s scientific notation:"
      ],
      "id": "c45785ee-4226-4324-b092-7f362384b354"
    },
    {
      "cell_type": "code",
      "execution_count": 9,
      "metadata": {},
      "outputs": [
        {
          "output_type": "stream",
          "name": "stdout",
          "text": [
            "Mean:\n",
            " tensor([[    -0.0000],\n",
            "        [     0.0000]], grad_fn=<MeanBackward1>)\n",
            "Variance:\n",
            " tensor([[1.0000],\n",
            "        [1.0000]], grad_fn=<VarBackward0>)"
          ]
        }
      ],
      "source": [
        "torch.set_printoptions(sci_mode=False)\n",
        "print(\"Mean:\\n\", mean)\n",
        "print(\"Variance:\\n\", var)"
      ],
      "id": "3e06c34b-c68a-4b36-afbe-b30eda4eca39"
    },
    {
      "cell_type": "markdown",
      "metadata": {},
      "source": [
        "-   Above, we normalized the features of each input\n",
        "-   Now, using the same idea, we can implement a `LayerNorm` class:"
      ],
      "id": "9bfd9935-2f22-470f-a943-886cde170073"
    },
    {
      "cell_type": "code",
      "execution_count": 10,
      "metadata": {},
      "outputs": [],
      "source": [
        "class LayerNorm(nn.Module):\n",
        "    def __init__(self, emb_dim):\n",
        "        super().__init__()\n",
        "        self.eps = 1e-5\n",
        "        self.scale = nn.Parameter(torch.ones(emb_dim))\n",
        "        self.shift = nn.Parameter(torch.zeros(emb_dim))\n",
        "\n",
        "    def forward(self, x):\n",
        "        mean = x.mean(dim=-1, keepdim=True)\n",
        "        var = x.var(dim=-1, keepdim=True, unbiased=False)\n",
        "        norm_x = (x - mean) / torch.sqrt(var + self.eps)\n",
        "        return self.scale * norm_x + self.shift"
      ],
      "id": "3333a305-aa3d-460a-bcce-b80662d464d9"
    },
    {
      "cell_type": "markdown",
      "metadata": {},
      "source": [
        "**Scale and shift**\n",
        "\n",
        "-   Note that in addition to performing the normalization by subtracting\n",
        "    the mean and dividing by the variance, we added two trainable\n",
        "    parameters, a `scale` and a `shift` parameter\n",
        "-   The initial `scale` (multiplying by 1) and `shift` (adding 0) values\n",
        "    don’t have any effect; however, `scale` and `shift` are trainable\n",
        "    parameters that the LLM automatically adjusts during training if it\n",
        "    is determined that doing so would improve the model’s performance on\n",
        "    its training task\n",
        "-   This allows the model to learn appropriate scaling and shifting that\n",
        "    best suit the data it is processing\n",
        "-   Note that we also add a smaller value (`eps`) before computing the\n",
        "    square root of the variance; this is to avoid division-by-zero\n",
        "    errors if the variance is 0\n",
        "\n",
        "**Biased variance** - In the variance calculation above, setting\n",
        "`unbiased=False` means using the formula\n",
        "$\\frac{\\sum_i (x_i - \\bar{x})^2}{n}$ to compute the variance where n is\n",
        "the sample size (here, the number of features or columns); this formula\n",
        "does not include Bessel’s correction (which uses `n-1` in the\n",
        "denominator), thus providing a biased estimate of the variance - For\n",
        "LLMs, where the embedding dimension `n` is very large, the difference\n",
        "between using n and `n-1` is negligible - However, GPT-2 was trained\n",
        "with a biased variance in the normalization layers, which is why we also\n",
        "adopted this setting for compatibility reasons with the pretrained\n",
        "weights that we will load in later chapters\n",
        "\n",
        "-   Let’s now try out `LayerNorm` in practice:"
      ],
      "id": "41e5bf8d-6d14-41e4-919b-b801c6cacdb2"
    },
    {
      "cell_type": "code",
      "execution_count": 11,
      "metadata": {},
      "outputs": [],
      "source": [
        "ln = LayerNorm(emb_dim=5)\n",
        "out_ln = ln(batch_example)"
      ],
      "id": "23b1000a-e613-4b43-bd90-e54deed8d292"
    },
    {
      "cell_type": "code",
      "execution_count": 12,
      "metadata": {},
      "outputs": [
        {
          "output_type": "stream",
          "name": "stdout",
          "text": [
            "Mean:\n",
            " tensor([[    -0.0000],\n",
            "        [     0.0000]], grad_fn=<MeanBackward1>)\n",
            "Variance:\n",
            " tensor([[1.0000],\n",
            "        [1.0000]], grad_fn=<VarBackward0>)"
          ]
        }
      ],
      "source": [
        "mean = out_ln.mean(dim=-1, keepdim=True)\n",
        "var = out_ln.var(dim=-1, unbiased=False, keepdim=True)\n",
        "\n",
        "print(\"Mean:\\n\", mean)\n",
        "print(\"Variance:\\n\", var)"
      ],
      "id": "94c12de2-1cab-46e0-a099-e2e470353bff"
    },
    {
      "cell_type": "markdown",
      "metadata": {},
      "source": [
        "<img src=\"https://sebastianraschka.com/images/LLMs-from-scratch-images/ch04_compressed/07.webp\" width=\"400px\">\n",
        "\n",
        "## 4.3 Implementing a feed forward network with GELU activations\n",
        "\n",
        "-   In this section, we implement a small neural network submodule that\n",
        "    is used as part of the transformer block in LLMs\n",
        "\n",
        "-   We start with the activation function\n",
        "\n",
        "-   In deep learning, ReLU (Rectified Linear Unit) activation functions\n",
        "    are commonly used due to their simplicity and effectiveness in\n",
        "    various neural network architectures\n",
        "\n",
        "-   In LLMs, various other types of activation functions are used beyond\n",
        "    the traditional ReLU; two notable examples are GELU (Gaussian Error\n",
        "    Linear Unit) and SwiGLU (Swish-Gated Linear Unit)\n",
        "\n",
        "-   GELU and SwiGLU are more complex, smooth activation functions\n",
        "    incorporating Gaussian and sigmoid-gated linear units, respectively,\n",
        "    offering better performance for deep learning models, unlike the\n",
        "    simpler, piecewise linear function of ReLU\n",
        "\n",
        "-   GELU ([Hendrycks and Gimpel 2016](https://arxiv.org/abs/1606.08415))\n",
        "    can be implemented in several ways; the exact version is defined as\n",
        "    GELU(x)=x⋅Φ(x), where Φ(x) is the cumulative distribution function\n",
        "    of the standard Gaussian distribution.\n",
        "\n",
        "-   In practice, it’s common to implement a computationally cheaper\n",
        "    approximation:\n",
        "    $\\text{GELU}(x) \\approx 0.5 \\cdot x \\cdot \\left(1 + \\tanh\\left[\\sqrt{\\frac{2}{\\pi}} \\cdot \\left(x + 0.044715 \\cdot x^3\\right)\\right]\\right)$\n",
        "    (the original GPT-2 model was also trained with this approximation)"
      ],
      "id": "aec17f36-aa3a-45e4-91b2-e406b5a5d44c"
    },
    {
      "cell_type": "code",
      "execution_count": 13,
      "metadata": {},
      "outputs": [],
      "source": [
        "class GELU(nn.Module):\n",
        "    def __init__(self):\n",
        "        super().__init__()\n",
        "\n",
        "    def forward(self, x):\n",
        "        return 0.5 * x * (1 + torch.tanh(\n",
        "            torch.sqrt(torch.tensor(2.0 / torch.pi)) * \n",
        "            (x + 0.044715 * torch.pow(x, 3))\n",
        "        ))"
      ],
      "id": "f84694b7-95f3-4323-b6d6-0a73df278e82"
    },
    {
      "cell_type": "code",
      "execution_count": 14,
      "metadata": {},
      "outputs": [
        {
          "output_type": "display_data",
          "metadata": {},
          "data": {
            "image/png": "[encoded data removed]"
          }
        }
      ],
      "source": [
        "import matplotlib.pyplot as plt\n",
        "\n",
        "gelu, relu = GELU(), nn.ReLU()\n",
        "\n",
        "# Some sample data\n",
        "x = torch.linspace(-3, 3, 100)\n",
        "y_gelu, y_relu = gelu(x), relu(x)\n",
        "\n",
        "plt.figure(figsize=(8, 3))\n",
        "for i, (y, label) in enumerate(zip([y_gelu, y_relu], [\"GELU\", \"ReLU\"]), 1):\n",
        "    plt.subplot(1, 2, i)\n",
        "    plt.plot(x, y)\n",
        "    plt.title(f\"{label} activation function\")\n",
        "    plt.xlabel(\"x\")\n",
        "    plt.ylabel(f\"{label}(x)\")\n",
        "    plt.grid(True)\n",
        "\n",
        "plt.tight_layout()\n",
        "plt.show()"
      ],
      "id": "fc5487d2-2576-4118-80a7-56c4caac2e71"
    },
    {
      "cell_type": "markdown",
      "metadata": {},
      "source": [
        "-   As we can see, ReLU is a piecewise linear function that outputs the\n",
        "    input directly if it is positive; otherwise, it outputs zero\n",
        "\n",
        "-   GELU is a smooth, non-linear function that approximates ReLU but\n",
        "    with a non-zero gradient for negative values (except at\n",
        "    approximately -0.75)\n",
        "\n",
        "-   Next, let’s implement the small neural network module,\n",
        "    `FeedForward`, that we will be using in the LLM’s transformer block\n",
        "    later:"
      ],
      "id": "4211ed43-fcec-4728-8306-38016a123bf7"
    },
    {
      "cell_type": "code",
      "execution_count": 15,
      "metadata": {},
      "outputs": [],
      "source": [
        "class FeedForward(nn.Module):\n",
        "    def __init__(self, cfg):\n",
        "        super().__init__()\n",
        "        self.layers = nn.Sequential(\n",
        "            nn.Linear(cfg[\"emb_dim\"], 4 * cfg[\"emb_dim\"]),\n",
        "            GELU(),\n",
        "            nn.Linear(4 * cfg[\"emb_dim\"], cfg[\"emb_dim\"]),\n",
        "        )\n",
        "\n",
        "    def forward(self, x):\n",
        "        return self.layers(x)"
      ],
      "id": "9275c879-b148-4579-a107-86827ca14d4d"
    },
    {
      "cell_type": "code",
      "execution_count": 16,
      "metadata": {},
      "outputs": [
        {
          "output_type": "stream",
          "name": "stdout",
          "text": [
            "768"
          ]
        }
      ],
      "source": [
        "print(GPT_CONFIG_124M[\"emb_dim\"])"
      ],
      "id": "7c4976e2-0261-418e-b042-c5be98c2ccaf"
    },
    {
      "cell_type": "markdown",
      "metadata": {},
      "source": [
        "<img src=\"https://sebastianraschka.com/images/LLMs-from-scratch-images/ch04_compressed/09.webp?12\" width=\"400px\">"
      ],
      "id": "1d4f79ea-bb63-41bd-bf3e-f68181811d11"
    },
    {
      "cell_type": "code",
      "execution_count": 17,
      "metadata": {},
      "outputs": [
        {
          "output_type": "stream",
          "name": "stdout",
          "text": [
            "torch.Size([2, 3, 768])"
          ]
        }
      ],
      "source": [
        "ffn = FeedForward(GPT_CONFIG_124M)\n",
        "\n",
        "# input shape: [batch_size, num_token, emb_size]\n",
        "x = torch.rand(2, 3, 768) \n",
        "out = ffn(x)\n",
        "print(out.shape)"
      ],
      "id": "928e7f7c-d0b1-499f-8d07-4cadb428a6f9"
    },
    {
      "cell_type": "markdown",
      "metadata": {},
      "source": [
        "<img src=\"https://sebastianraschka.com/images/LLMs-from-scratch-images/ch04_compressed/10.webp\" width=\"400px\">\n",
        "\n",
        "<img src=\"https://sebastianraschka.com/images/LLMs-from-scratch-images/ch04_compressed/11.webp\" width=\"400px\">\n",
        "\n",
        "## 4.4 Adding shortcut connections\n",
        "\n",
        "-   Next, let’s talk about the concept behind shortcut connections, also\n",
        "    called skip or residual connections\n",
        "-   Originally, shortcut connections were proposed in deep networks for\n",
        "    computer vision (residual networks) to mitigate vanishing gradient\n",
        "    problems\n",
        "-   A shortcut connection creates an alternative shorter path for the\n",
        "    gradient to flow through the network\n",
        "-   This is achieved by adding the output of one layer to the output of\n",
        "    a later layer, usually skipping one or more layers in between\n",
        "-   Let’s illustrate this idea with a small example network:\n",
        "\n",
        "<img src=\"https://sebastianraschka.com/images/LLMs-from-scratch-images/ch04_compressed/12.webp?123\" width=\"400px\">\n",
        "\n",
        "-   In code, it looks like this:"
      ],
      "id": "325b74bb-83a2-4578-b9ca-5af831569876"
    },
    {
      "cell_type": "code",
      "execution_count": 18,
      "metadata": {},
      "outputs": [],
      "source": [
        "class ExampleDeepNeuralNetwork(nn.Module):\n",
        "    def __init__(self, layer_sizes, use_shortcut):\n",
        "        super().__init__()\n",
        "        self.use_shortcut = use_shortcut\n",
        "        self.layers = nn.ModuleList([\n",
        "            nn.Sequential(nn.Linear(layer_sizes[0], layer_sizes[1]), GELU()),\n",
        "            nn.Sequential(nn.Linear(layer_sizes[1], layer_sizes[2]), GELU()),\n",
        "            nn.Sequential(nn.Linear(layer_sizes[2], layer_sizes[3]), GELU()),\n",
        "            nn.Sequential(nn.Linear(layer_sizes[3], layer_sizes[4]), GELU()),\n",
        "            nn.Sequential(nn.Linear(layer_sizes[4], layer_sizes[5]), GELU())\n",
        "        ])\n",
        "\n",
        "    def forward(self, x):\n",
        "        for layer in self.layers:\n",
        "            # Compute the output of the current layer\n",
        "            layer_output = layer(x)\n",
        "            # Check if shortcut can be applied\n",
        "            if self.use_shortcut and x.shape == layer_output.shape:\n",
        "                x = x + layer_output\n",
        "            else:\n",
        "                x = layer_output\n",
        "        return x\n",
        "\n",
        "\n",
        "def print_gradients(model, x):\n",
        "    # Forward pass\n",
        "    output = model(x)\n",
        "    target = torch.tensor([[0.]])\n",
        "\n",
        "    # Calculate loss based on how close the target\n",
        "    # and output are\n",
        "    loss = nn.MSELoss()\n",
        "    loss = loss(output, target)\n",
        "    \n",
        "    # Backward pass to calculate the gradients\n",
        "    loss.backward()\n",
        "\n",
        "    for name, param in model.named_parameters():\n",
        "        if 'weight' in name:\n",
        "            # Print the mean absolute gradient of the weights\n",
        "            print(f\"{name} has gradient mean of {param.grad.abs().mean().item()}\")"
      ],
      "id": "05473938-799c-49fd-86d4-8ed65f94fee6"
    },
    {
      "cell_type": "markdown",
      "metadata": {},
      "source": [
        "-   Let’s print the gradient values first **without** shortcut\n",
        "    connections:"
      ],
      "id": "84cd90ad-86a0-44f7-a41c-29415428bfd2"
    },
    {
      "cell_type": "code",
      "execution_count": 19,
      "metadata": {},
      "outputs": [
        {
          "output_type": "stream",
          "name": "stdout",
          "text": [
            "layers.0.0.weight has gradient mean of 0.00020173587836325169\n",
            "layers.1.0.weight has gradient mean of 0.00012011159560643137\n",
            "layers.2.0.weight has gradient mean of 0.0007152039906941354\n",
            "layers.3.0.weight has gradient mean of 0.0013988736318424344\n",
            "layers.4.0.weight has gradient mean of 0.005049645435065031"
          ]
        }
      ],
      "source": [
        "layer_sizes = [3, 3, 3, 3, 3, 1]  \n",
        "\n",
        "sample_input = torch.tensor([[1., 0., -1.]])\n",
        "\n",
        "torch.manual_seed(123)\n",
        "model_without_shortcut = ExampleDeepNeuralNetwork(\n",
        "    layer_sizes, use_shortcut=False\n",
        ")\n",
        "print_gradients(model_without_shortcut, sample_input)"
      ],
      "id": "c75f43cc-6923-4018-b980-26023086572c"
    },
    {
      "cell_type": "markdown",
      "metadata": {},
      "source": [
        "-   Next, let’s print the gradient values **with** shortcut connections:"
      ],
      "id": "63c85e10-fcff-4163-96f4-2dd2b5850d77"
    },
    {
      "cell_type": "code",
      "execution_count": 20,
      "metadata": {},
      "outputs": [
        {
          "output_type": "stream",
          "name": "stdout",
          "text": [
            "layers.0.0.weight has gradient mean of 0.22169792652130127\n",
            "layers.1.0.weight has gradient mean of 0.20694106817245483\n",
            "layers.2.0.weight has gradient mean of 0.32896995544433594\n",
            "layers.3.0.weight has gradient mean of 0.2665732204914093\n",
            "layers.4.0.weight has gradient mean of 1.3258540630340576"
          ]
        }
      ],
      "source": [
        "torch.manual_seed(123)\n",
        "model_with_shortcut = ExampleDeepNeuralNetwork(\n",
        "    layer_sizes, use_shortcut=True\n",
        ")\n",
        "print_gradients(model_with_shortcut, sample_input)"
      ],
      "id": "11b7c0c2-f9dd-4dd5-b096-a05c48c5f6d6"
    },
    {
      "cell_type": "markdown",
      "metadata": {},
      "source": [
        "-   As we can see based on the output above, shortcut connections\n",
        "    prevent the gradients from vanishing in the early layers (towards\n",
        "    `layer.0`)\n",
        "-   We will use this concept of a shortcut connection next when we\n",
        "    implement a transformer block\n",
        "\n",
        "## 4.5 Connecting attention and linear layers in a transformer block\n",
        "\n",
        "-   In this section, we now combine the previous concepts into a\n",
        "    so-called transformer block\n",
        "-   A transformer block combines the causal multi-head attention module\n",
        "    from the previous chapter with the linear layers, the feed forward\n",
        "    neural network we implemented in an earlier section\n",
        "-   In addition, the transformer block also uses dropout and shortcut\n",
        "    connections"
      ],
      "id": "1b93b728-55d5-48d8-a133-98a051f35a61"
    },
    {
      "cell_type": "code",
      "execution_count": 21,
      "metadata": {},
      "outputs": [],
      "source": [
        "# If the `previous_chapters.py` file is not available locally,\n",
        "# you can import it from the `llms-from-scratch` PyPI package.\n",
        "# For details, see: https://github.com/rasbt/LLMs-from-scratch/tree/main/pkg\n",
        "# E.g.,\n",
        "# from llms_from_scratch.ch03 import MultiHeadAttention\n",
        "\n",
        "from previous_chapters import MultiHeadAttention\n",
        "\n",
        "\n",
        "class TransformerBlock(nn.Module):\n",
        "    def __init__(self, cfg):\n",
        "        super().__init__()\n",
        "        self.att = MultiHeadAttention(\n",
        "            d_in=cfg[\"emb_dim\"],\n",
        "            d_out=cfg[\"emb_dim\"],\n",
        "            context_length=cfg[\"context_length\"],\n",
        "            num_heads=cfg[\"n_heads\"], \n",
        "            dropout=cfg[\"drop_rate\"],\n",
        "            qkv_bias=cfg[\"qkv_bias\"])\n",
        "        self.ff = FeedForward(cfg)\n",
        "        self.norm1 = LayerNorm(cfg[\"emb_dim\"])\n",
        "        self.norm2 = LayerNorm(cfg[\"emb_dim\"])\n",
        "        self.drop_shortcut = nn.Dropout(cfg[\"drop_rate\"])\n",
        "\n",
        "    def forward(self, x):\n",
        "        # Shortcut connection for attention block\n",
        "        shortcut = x\n",
        "        x = self.norm1(x)\n",
        "        x = self.att(x)  # Shape [batch_size, num_tokens, emb_size]\n",
        "        x = self.drop_shortcut(x)\n",
        "        x = x + shortcut  # Add the original input back\n",
        "\n",
        "        # Shortcut connection for feed forward block\n",
        "        shortcut = x\n",
        "        x = self.norm2(x)\n",
        "        x = self.ff(x)\n",
        "        x = self.drop_shortcut(x)\n",
        "        x = x + shortcut  # Add the original input back\n",
        "\n",
        "        return x"
      ],
      "id": "0e1e8176-e5e3-4152-b1aa-0bbd7891dfd9"
    },
    {
      "cell_type": "markdown",
      "metadata": {},
      "source": [
        "<img src=\"https://sebastianraschka.com/images/LLMs-from-scratch-images/ch04_compressed/13.webp?1\" width=\"400px\">\n",
        "\n",
        "-   Suppose we have 2 input samples with 6 tokens each, where each token\n",
        "    is a 768-dimensional embedding vector; then this transformer block\n",
        "    applies self-attention, followed by linear layers, to produce an\n",
        "    output of similar size\n",
        "-   You can think of the output as an augmented version of the context\n",
        "    vectors we discussed in the previous chapter"
      ],
      "id": "71099904-3c39-4a5a-abba-2ed32f634f3a"
    },
    {
      "cell_type": "code",
      "execution_count": 22,
      "metadata": {},
      "outputs": [
        {
          "output_type": "stream",
          "name": "stdout",
          "text": [
            "Input shape: torch.Size([2, 4, 768])\n",
            "Output shape: torch.Size([2, 4, 768])"
          ]
        }
      ],
      "source": [
        "torch.manual_seed(123)\n",
        "\n",
        "x = torch.rand(2, 4, 768)  # Shape: [batch_size, num_tokens, emb_dim]\n",
        "block = TransformerBlock(GPT_CONFIG_124M)\n",
        "output = block(x)\n",
        "\n",
        "print(\"Input shape:\", x.shape)\n",
        "print(\"Output shape:\", output.shape)"
      ],
      "id": "3fb45a63-b1f3-4b08-b525-dafbc8228405"
    },
    {
      "cell_type": "markdown",
      "metadata": {},
      "source": [
        "<img src=\"https://sebastianraschka.com/images/LLMs-from-scratch-images/ch04_compressed/14.webp?1\" width=\"400px\">\n",
        "\n",
        "## 4.6 Coding the GPT model\n",
        "\n",
        "-   We are almost there: now let’s plug in the transformer block into\n",
        "    the architecture we coded at the very beginning of this chapter so\n",
        "    that we obtain a usable GPT architecture\n",
        "-   Note that the transformer block is repeated multiple times; in the\n",
        "    case of the smallest 124M GPT-2 model, we repeat it 12 times:\n",
        "\n",
        "<img src=\"https://sebastianraschka.com/images/LLMs-from-scratch-images/ch04_compressed/15.webp\" width=\"400px\">\n",
        "\n",
        "-   The corresponding code implementation, where `cfg[\"n_layers\"] = 12`:"
      ],
      "id": "05c42a0c-1ec1-4563-b225-cc6eacbe6b1a"
    },
    {
      "cell_type": "code",
      "execution_count": 23,
      "metadata": {},
      "outputs": [],
      "source": [
        "class GPTModel(nn.Module):\n",
        "    def __init__(self, cfg):\n",
        "        super().__init__()\n",
        "        self.tok_emb = nn.Embedding(cfg[\"vocab_size\"], cfg[\"emb_dim\"])\n",
        "        self.pos_emb = nn.Embedding(cfg[\"context_length\"], cfg[\"emb_dim\"])\n",
        "        self.drop_emb = nn.Dropout(cfg[\"drop_rate\"])\n",
        "        \n",
        "        self.trf_blocks = nn.Sequential(\n",
        "            *[TransformerBlock(cfg) for _ in range(cfg[\"n_layers\"])])\n",
        "        \n",
        "        self.final_norm = LayerNorm(cfg[\"emb_dim\"])\n",
        "        self.out_head = nn.Linear(\n",
        "            cfg[\"emb_dim\"], cfg[\"vocab_size\"], bias=False\n",
        "        )\n",
        "\n",
        "    def forward(self, in_idx):\n",
        "        batch_size, seq_len = in_idx.shape\n",
        "        tok_embeds = self.tok_emb(in_idx)\n",
        "        pos_embeds = self.pos_emb(torch.arange(seq_len, device=in_idx.device))\n",
        "        x = tok_embeds + pos_embeds  # Shape [batch_size, num_tokens, emb_size]\n",
        "        x = self.drop_emb(x)\n",
        "        x = self.trf_blocks(x)\n",
        "        x = self.final_norm(x)\n",
        "        logits = self.out_head(x)\n",
        "        return logits"
      ],
      "id": "c61de39c-d03c-4a32-8b57-f49ac3834857"
    },
    {
      "cell_type": "markdown",
      "metadata": {},
      "source": [
        "-   Using the configuration of the 124M parameter model, we can now\n",
        "    instantiate this GPT model with random initial weights as follows:"
      ],
      "id": "4685550d-7acf-421b-b1f4-38e6b99dd0f4"
    },
    {
      "cell_type": "code",
      "execution_count": 24,
      "metadata": {},
      "outputs": [
        {
          "output_type": "stream",
          "name": "stdout",
          "text": [
            "Input batch:\n",
            " tensor([[6109, 3626, 6100,  345],\n",
            "        [6109, 1110, 6622,  257]])\n",
            "\n",
            "Output shape: torch.Size([2, 4, 50257])\n",
            "tensor([[[ 0.3613,  0.4222, -0.0711,  ...,  0.3483,  0.4661, -0.2838],\n",
            "         [-0.1792, -0.5660, -0.9485,  ...,  0.0477,  0.5181, -0.3168],\n",
            "         [ 0.7120,  0.0332,  0.1085,  ...,  0.1018, -0.4327, -0.2553],\n",
            "         [-1.0076,  0.3418, -0.1190,  ...,  0.7195,  0.4023,  0.0532]],\n",
            "\n",
            "        [[-0.2564,  0.0900,  0.0335,  ...,  0.2659,  0.4454, -0.6806],\n",
            "         [ 0.1230,  0.3653, -0.2074,  ...,  0.7705,  0.2710,  0.2246],\n",
            "         [ 1.0558,  1.0318, -0.2800,  ...,  0.6936,  0.3205, -0.3178],\n",
            "         [-0.1565,  0.3926,  0.3288,  ...,  1.2630, -0.1858,  0.0388]]],\n",
            "       grad_fn=<UnsafeViewBackward0>)"
          ]
        }
      ],
      "source": [
        "torch.manual_seed(123)\n",
        "model = GPTModel(GPT_CONFIG_124M)\n",
        "\n",
        "out = model(batch)\n",
        "print(\"Input batch:\\n\", batch)\n",
        "print(\"\\nOutput shape:\", out.shape)\n",
        "print(out)"
      ],
      "id": "ef94fd9c-4e9d-470d-8f8e-dd23d1bb1f64"
    },
    {
      "cell_type": "markdown",
      "metadata": {},
      "source": [
        "-   We will train this model in the next chapter\n",
        "-   However, a quick note about its size: we previously referred to it\n",
        "    as a 124M parameter model; we can double check this number as\n",
        "    follows:"
      ],
      "id": "8acc8c38-7a2e-4ecf-b631-c8df794161df"
    },
    {
      "cell_type": "code",
      "execution_count": 25,
      "metadata": {},
      "outputs": [
        {
          "output_type": "stream",
          "name": "stdout",
          "text": [
            "Total number of parameters: 163,009,536"
          ]
        }
      ],
      "source": [
        "total_params = sum(p.numel() for p in model.parameters())\n",
        "print(f\"Total number of parameters: {total_params:,}\")"
      ],
      "id": "84fb8be4-9d3b-402b-b3da-86b663aac33a"
    },
    {
      "cell_type": "markdown",
      "metadata": {},
      "source": [
        "-   As we see above, this model has 163M, not 124M parameters; why?\n",
        "-   In the original GPT-2 paper, the researchers applied weight tying,\n",
        "    which means that they reused the token embedding layer (`tok_emb`)\n",
        "    as the output layer, which means setting\n",
        "    `self.out_head.weight = self.tok_emb.weight`\n",
        "-   The token embedding layer projects the 50,257-dimensional one-hot\n",
        "    encoded input tokens to a 768-dimensional embedding representation\n",
        "-   The output layer projects 768-dimensional embeddings back into a\n",
        "    50,257-dimensional representation so that we can convert these back\n",
        "    into words (more about that in the next section)\n",
        "-   So, the embedding and output layer have the same number of weight\n",
        "    parameters, as we can see based on the shape of their weight\n",
        "    matrices\n",
        "-   However, a quick note about its size: we previously referred to it\n",
        "    as a 124M parameter model; we can double check this number as\n",
        "    follows:"
      ],
      "id": "4f79fe2b-1dae-4af6-8cd7-5d739855e291"
    },
    {
      "cell_type": "code",
      "execution_count": 26,
      "metadata": {},
      "outputs": [
        {
          "output_type": "stream",
          "name": "stdout",
          "text": [
            "Token embedding layer shape: torch.Size([50257, 768])\n",
            "Output layer shape: torch.Size([50257, 768])"
          ]
        }
      ],
      "source": [
        "print(\"Token embedding layer shape:\", model.tok_emb.weight.shape)\n",
        "print(\"Output layer shape:\", model.out_head.weight.shape)"
      ],
      "id": "e3b43233-e9b8-4f5a-b72b-a263ec686982"
    },
    {
      "cell_type": "markdown",
      "metadata": {},
      "source": [
        "-   In the original GPT-2 paper, the researchers reused the token\n",
        "    embedding matrix as an output matrix\n",
        "-   Correspondingly, if we subtracted the number of parameters of the\n",
        "    output layer, we’d get a 124M parameter model:"
      ],
      "id": "d456702a-4f98-4a1e-8db2-d1251e394010"
    },
    {
      "cell_type": "code",
      "execution_count": 27,
      "metadata": {},
      "outputs": [
        {
          "output_type": "stream",
          "name": "stdout",
          "text": [
            "Number of trainable parameters considering weight tying: 124,412,160"
          ]
        }
      ],
      "source": [
        "total_params_gpt2 =  total_params - sum(p.numel() for p in model.out_head.parameters())\n",
        "print(f\"Number of trainable parameters considering weight tying: {total_params_gpt2:,}\")"
      ],
      "id": "95a22e02-50d3-48b3-a4e0-d9863343c164"
    },
    {
      "cell_type": "markdown",
      "metadata": {},
      "source": [
        "-   In practice, I found it easier to train the model without\n",
        "    weight-tying, which is why we didn’t implement it here\n",
        "-   However, we will revisit and apply this weight-tying idea later when\n",
        "    we load the pretrained weights in chapter 5\n",
        "-   Lastly, we can compute the memory requirements of the model as\n",
        "    follows, which can be a helpful reference point:"
      ],
      "id": "d01c3b2d-ee85-4c06-a8a2-b1dc15cdcb8c"
    },
    {
      "cell_type": "code",
      "execution_count": 28,
      "metadata": {},
      "outputs": [
        {
          "output_type": "stream",
          "name": "stdout",
          "text": [
            "Total size of the model: 621.83 MB"
          ]
        }
      ],
      "source": [
        "# Calculate the total size in bytes (assuming float32, 4 bytes per parameter)\n",
        "total_size_bytes = total_params * 4\n",
        "\n",
        "# Convert to megabytes\n",
        "total_size_mb = total_size_bytes / (1024 * 1024)\n",
        "\n",
        "print(f\"Total size of the model: {total_size_mb:.2f} MB\")"
      ],
      "id": "5131a752-fab8-4d70-a600-e29870b33528"
    },
    {
      "cell_type": "markdown",
      "metadata": {},
      "source": [
        "-   Exercise: you can try the following other configurations, which are\n",
        "    referenced in the [GPT-2\n",
        "    paper](https://scholar.google.com/citations?view_op=view_citation&hl=en&user=dOad5HoAAAAJ&citation_for_view=dOad5HoAAAAJ:YsMSGLbcyi4C),\n",
        "    as well.\n",
        "\n",
        "    -   **GPT2-small** (the 124M configuration we already implemented):\n",
        "        -   “emb_dim” = 768\n",
        "        -   “n_layers” = 12\n",
        "        -   “n_heads” = 12\n",
        "    -   **GPT2-medium:**\n",
        "        -   “emb_dim” = 1024\n",
        "        -   “n_layers” = 24\n",
        "        -   “n_heads” = 16\n",
        "    -   **GPT2-large:**\n",
        "        -   “emb_dim” = 1280\n",
        "        -   “n_layers” = 36\n",
        "        -   “n_heads” = 20\n",
        "    -   **GPT2-XL:**\n",
        "        -   “emb_dim” = 1600\n",
        "        -   “n_layers” = 48\n",
        "        -   “n_heads” = 25\n",
        "\n",
        "## 4.7 Generating text\n",
        "\n",
        "-   LLMs like the GPT model we implemented above are used to generate\n",
        "    one word at a time\n",
        "\n",
        "<img src=\"https://sebastianraschka.com/images/LLMs-from-scratch-images/ch04_compressed/16.webp\" width=\"400px\">\n",
        "\n",
        "-   The following `generate_text_simple` function implements greedy\n",
        "    decoding, which is a simple and fast method to generate text\n",
        "-   In greedy decoding, at each step, the model chooses the word (or\n",
        "    token) with the highest probability as its next output (the highest\n",
        "    logit corresponds to the highest probability, so we technically\n",
        "    wouldn’t even have to compute the softmax function explicitly)\n",
        "-   In the next chapter, we will implement a more advanced\n",
        "    `generate_text` function\n",
        "-   The figure below depicts how the GPT model, given an input context,\n",
        "    generates the next word token\n",
        "\n",
        "<img src=\"https://sebastianraschka.com/images/LLMs-from-scratch-images/ch04_compressed/17.webp\" width=\"600px\">"
      ],
      "id": "70c09ccf-b840-4bd0-a51f-384ecc5f8714"
    },
    {
      "cell_type": "code",
      "execution_count": 29,
      "metadata": {},
      "outputs": [],
      "source": [
        "def generate_text_simple(model, idx, max_new_tokens, context_size):\n",
        "    # idx is (batch, n_tokens) array of indices in the current context\n",
        "    for _ in range(max_new_tokens):\n",
        "        \n",
        "        # Crop current context if it exceeds the supported context size\n",
        "        # E.g., if LLM supports only 5 tokens, and the context size is 10\n",
        "        # then only the last 5 tokens are used as context\n",
        "        idx_cond = idx[:, -context_size:]\n",
        "        \n",
        "        # Get the predictions\n",
        "        with torch.no_grad():\n",
        "            logits = model(idx_cond)\n",
        "        \n",
        "        # Focus only on the last time step\n",
        "        # (batch, n_tokens, vocab_size) becomes (batch, vocab_size)\n",
        "        logits = logits[:, -1, :]  \n",
        "\n",
        "        # Apply softmax to get probabilities\n",
        "        probas = torch.softmax(logits, dim=-1)  # (batch, vocab_size)\n",
        "\n",
        "        # Get the idx of the vocab entry with the highest probability value\n",
        "        idx_next = torch.argmax(probas, dim=-1, keepdim=True)  # (batch, 1)\n",
        "\n",
        "        # Append sampled index to the running sequence\n",
        "        idx = torch.cat((idx, idx_next), dim=1)  # (batch, n_tokens+1)\n",
        "\n",
        "    return idx"
      ],
      "id": "c9b428a9-8764-4b36-80cd-7d4e00595ba6"
    },
    {
      "cell_type": "markdown",
      "metadata": {},
      "source": [
        "-   The `generate_text_simple` above implements an iterative process,\n",
        "    where it creates one token at a time\n",
        "\n",
        "<img src=\"https://sebastianraschka.com/images/LLMs-from-scratch-images/ch04_compressed/18.webp\" width=\"600px\">\n",
        "\n",
        "-   Let’s prepare an input example:"
      ],
      "id": "99eb17f8-6dd8-4981-a4cf-513006808b86"
    },
    {
      "cell_type": "code",
      "execution_count": 30,
      "metadata": {},
      "outputs": [
        {
          "output_type": "stream",
          "name": "stdout",
          "text": [
            "encoded: [15496, 11, 314, 716]\n",
            "encoded_tensor.shape: torch.Size([1, 4])"
          ]
        }
      ],
      "source": [
        "start_context = \"Hello, I am\"\n",
        "\n",
        "encoded = tokenizer.encode(start_context)\n",
        "print(\"encoded:\", encoded)\n",
        "\n",
        "encoded_tensor = torch.tensor(encoded).unsqueeze(0)\n",
        "print(\"encoded_tensor.shape:\", encoded_tensor.shape)"
      ],
      "id": "3d7e3e94-df0f-4c0f-a6a1-423f500ac1d3"
    },
    {
      "cell_type": "code",
      "execution_count": 31,
      "metadata": {},
      "outputs": [
        {
          "output_type": "stream",
          "name": "stdout",
          "text": [
            "Output: tensor([[15496,    11,   314,   716, 27018, 24086, 47843, 30961, 42348,  7267]])\n",
            "Output length: 10"
          ]
        }
      ],
      "source": [
        "model.eval() # disable dropout\n",
        "\n",
        "out = generate_text_simple(\n",
        "    model=model,\n",
        "    idx=encoded_tensor, \n",
        "    max_new_tokens=6, \n",
        "    context_size=GPT_CONFIG_124M[\"context_length\"]\n",
        ")\n",
        "\n",
        "print(\"Output:\", out)\n",
        "print(\"Output length:\", len(out[0]))"
      ],
      "id": "a72a9b60-de66-44cf-b2f9-1e638934ada4"
    },
    {
      "cell_type": "markdown",
      "metadata": {},
      "source": [
        "-   Remove batch dimension and convert back into text:"
      ],
      "id": "dd4a8b1d-539f-43c7-ac6f-a8bb82e3c84b"
    },
    {
      "cell_type": "code",
      "execution_count": 32,
      "metadata": {},
      "outputs": [
        {
          "output_type": "stream",
          "name": "stdout",
          "text": [
            "Hello, I am Featureiman Byeswickattribute argue"
          ]
        }
      ],
      "source": [
        "decoded_text = tokenizer.decode(out.squeeze(0).tolist())\n",
        "print(decoded_text)"
      ],
      "id": "053d99f6-5710-4446-8d52-117fb34ea9f6"
    },
    {
      "cell_type": "markdown",
      "metadata": {},
      "source": [
        "-   Note that the model is untrained; hence the random output texts\n",
        "    above\n",
        "-   We will train the model in the next chapter\n",
        "\n",
        "## Summary and takeaways\n",
        "\n",
        "-   See the [./gpt.py](./gpt.py) script, a self-contained script\n",
        "    containing the GPT model we implement in this Jupyter notebook\n",
        "-   You can find the exercise solutions in\n",
        "    [./exercise-solutions.ipynb](./exercise-solutions.ipynb)"
      ],
      "id": "0a52add2-6d22-400a-8a8a-70a74548be01"
    }
  ],
  "nbformat": 4,
  "nbformat_minor": 5,
  "metadata": {
    "kernelspec": {
      "name": "python3",
      "display_name": "Python 3 (ipykernel)",
      "language": "python"
    },
    "language_info": {
      "name": "python",
      "codemirror_mode": {
        "name": "ipython",
        "version": "3"
      },
      "file_extension": ".py",
      "mimetype": "text/x-python",
      "nbconvert_exporter": "python",
      "pygments_lexer": "ipython3",
      "version": "3.11.13"
    }
  }
}